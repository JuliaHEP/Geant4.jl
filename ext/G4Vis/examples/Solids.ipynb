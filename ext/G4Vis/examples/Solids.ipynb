{
 "cells": [
  {
   "attachments": {},
   "cell_type": "markdown",
   "id": "ee6f996f",
   "metadata": {},
   "source": [
    "# Geant4 Solids\n",
    "Notebook to exercise all the types of solids defined in Geant4. This is the full list:\n",
    "- [G4Box](#G4Box)\n",
    "- [G4Tubs](#G4Tubs)\n",
    "- [G4CutTubs](#G4CutTubs)\n",
    "- [G4Para](#G4Para)\n",
    "- [G4Trap](#G4Trap)\n",
    "- [G4Sphere](#G4Sphere)\n",
    "- [G4Orb](#G4Orb)\n",
    "- [G4Torus](#G4Torus)\n",
    "- [G4Polycone](#G4Polycone)\n",
    "- [G4Polyhedra](#G4Polyhedra)\n",
    "- [G4EllipticalTube](#G4EllipticalTube)\n",
    "- [G4Ellipsoid](#G4Ellipsoid)\n",
    "- [G4Cons](#G4Cons)\n",
    "- Booleans\n",
    "    - [G4SubtractionSolid](#G4SubtractionSolid)\n",
    "    - [G4IntersectionSolid](#G4IntersectionSolid)\n",
    "    - [G4UnionSolid](#G4UnionSolid)"
   ]
  },
  {
   "cell_type": "code",
   "execution_count": null,
   "id": "fce2449c",
   "metadata": {},
   "outputs": [],
   "source": [
    "using Geant4\n",
    "using Geant4.SystemOfUnits\n",
    "using CairoMakie\n",
    "using GeometryBasics, Rotations, IGLWrap_jll  # to force loding G4Vis extension"
   ]
  },
  {
   "attachments": {},
   "cell_type": "markdown",
   "id": "80233b4b",
   "metadata": {},
   "source": [
    "## G4Box"
   ]
  },
  {
   "cell_type": "code",
   "execution_count": null,
   "id": "827de0f2",
   "metadata": {},
   "outputs": [],
   "source": [
    "box = G4Box(\"Box\", 2,3,4)\n",
    "img = draw(box;color=:green)\n",
    "display(\"image/png\", img)"
   ]
  },
  {
   "attachments": {},
   "cell_type": "markdown",
   "id": "23b3290e",
   "metadata": {},
   "source": [
    "## G4Tubs\n",
    "Cylindrical Section or Tube\n",
    "- name::String\n",
    "- rmin::Float64\n",
    "- rmax::Float64\n",
    "- dz::Float64\n",
    "- ϕ₀::Float64\n",
    "- Δϕ::Float64"
   ]
  },
  {
   "cell_type": "code",
   "execution_count": null,
   "id": "152a0abc",
   "metadata": {},
   "outputs": [],
   "source": [
    "tub1 = G4Tubs(\"tub1\",0,10,10,0,2π)\n",
    "img = draw(tub1, wireframe=true, color=:blue)\n",
    "display(\"image/png\", img)"
   ]
  },
  {
   "cell_type": "code",
   "execution_count": null,
   "id": "eaaa32cc",
   "metadata": {},
   "outputs": [],
   "source": [
    "tub2 = G4Tubs(\"tub2\",5,10,10,0, 2π/3)\n",
    "img = draw(tub2, wireframe=true, color=:blue)\n",
    "display(\"image/png\", img)"
   ]
  },
  {
   "attachments": {},
   "cell_type": "markdown",
   "id": "f1197fa7",
   "metadata": {},
   "source": [
    "## G4CutTubs\n",
    "Cylindrical Cut Section. A cut in Z can be applied to a cylindrical section to obtain a cut tube. \n",
    "\n",
    "Arguments:\n",
    "- name::String\n",
    "- rmin::Float64\n",
    "- rmax::Float64\n",
    "- dz::Float64\n",
    "- ϕ₀::Float64\n",
    "- Δϕ::Float64\n",
    "- lownormal::G4ThreeVector\n",
    "- highnormal::G4ThreeVector"
   ]
  },
  {
   "cell_type": "code",
   "execution_count": null,
   "id": "4dbb75bc",
   "metadata": {},
   "outputs": [],
   "source": [
    "ctub = G4CutTubs(\"ctub\", 12, 20, 20, 0, 3π/2, G4ThreeVector(0,-0.7,-0.71), G4ThreeVector(0.7,0,0.71))\n",
    "img = draw(ctub, wireframe=true, color=:blue)\n",
    "display(\"image/png\", img)"
   ]
  },
  {
   "attachments": {},
   "cell_type": "markdown",
   "id": "fb6093bd",
   "metadata": {},
   "source": [
    "## G4Cons\n",
    "- name::String\n",
    "- rmin1::Float64\n",
    "- rmax1::Float64\n",
    "- rmin2::Float64\n",
    "- rmax2::Float64\n",
    "- dz::Float64\n",
    "- ϕ₀::Float64\n",
    "- Δϕ::Float64"
   ]
  },
  {
   "cell_type": "code",
   "execution_count": null,
   "id": "8af16e64",
   "metadata": {},
   "outputs": [],
   "source": [
    "cone1 = G4Cons(\"cone1\", 0, 10, 0, 5, 10, 0, 2π)\n",
    "img = draw(cone1, color=:blue, wireframe=true)\n",
    "display(\"image/png\", img)"
   ]
  },
  {
   "cell_type": "code",
   "execution_count": null,
   "id": "f04ae929",
   "metadata": {},
   "outputs": [],
   "source": [
    "cone1 = G4Cons(\"cone1\", 5, 10, 20, 25, 40, 0, 3π/4)\n",
    "img = draw(cone1, color=:blue, wireframe=true)\n",
    "display(\"image/png\", img)"
   ]
  },
  {
   "cell_type": "code",
   "execution_count": null,
   "id": "c0e4ac2c",
   "metadata": {},
   "outputs": [],
   "source": [
    "cone1 = G4Cons(\"cone1\", 5, 10, 2, 5, 5, 0, π/2)\n",
    "img = draw(cone1, color=:orange, shading=true)\n",
    "display(\"image/png\", img)"
   ]
  },
  {
   "attachments": {},
   "cell_type": "markdown",
   "id": "20cf8642",
   "metadata": {},
   "source": [
    "## G4Para\n",
    "A parallelepiped is constructed using:\n",
    "| parameter | description |\n",
    "| :-------- | :---------- |\n",
    "| dx,dy,dz | Half-length in x,y,z |\n",
    "| alpha | Angle formed by the Y axis and by the plane joining the centre of the faces parallel to the Z-X plane at -dy and +dy |\n",
    "| theta | Polar angle of the line joining the centres of the faces at -dz and +dz in Z |\n",
    "| phi | Azimuthal angle of the line joining the centres of the faces at -dz and +dz in Z |"
   ]
  },
  {
   "cell_type": "code",
   "execution_count": null,
   "id": "aaccc54f",
   "metadata": {},
   "outputs": [],
   "source": [
    "para = G4Para(\"para\", 20,30,30, 0, π/4, π/6)\n",
    "#drawDistanceToOut(para, 100000)\n",
    "img = draw(para, wireframe=true)\n",
    "display(\"image/png\", img)"
   ]
  },
  {
   "attachments": {},
   "cell_type": "markdown",
   "id": "e9f464cf",
   "metadata": {},
   "source": [
    "## G4Trd\n",
    "function GeometryBasics.coordinates(trd::G4Trd, facets=6)\n",
    "- x1::Float64   XHalfLength1\n",
    "- x2::Float64   XHalfLength2\n",
    "- y1::Float64   YHalfLength1\n",
    "- y2::Float64   YHalfLength2\n",
    "- z::Float64    ZHalfLength"
   ]
  },
  {
   "cell_type": "code",
   "execution_count": null,
   "id": "6f09f57d",
   "metadata": {},
   "outputs": [],
   "source": [
    "trd1 = G4Trd(\"trd1\", 10, 5, 10, 5, 5)\n",
    "img = draw(trd1, wireframe=true, color=:blue)\n",
    "display(\"image/png\", img)"
   ]
  },
  {
   "attachments": {},
   "cell_type": "markdown",
   "id": "0a757d9c",
   "metadata": {},
   "source": [
    "## G4Trap\n",
    "To build a generic trapezoid, the G4Trap class is provided. G4Trap is a solid with six trapezoidal faces, it has two bases parallel to the XY-plane and four lateral faces. The bases are located at the same distance from the XY-plane, but on opposite sides from it. Each of the bases has two edges parallel the X-axis. Let’s call the line joining middle point of these edges - the centre line of the base, and the middle point of this line - the centre of the base. An important property of G4Trap is that the line joining the centres of the bases goes through the origin of the local coordinate system.\n",
    "\n",
    "| parameter | description |\n",
    "| :-------- | :---------- |\n",
    "| z | Half Z length - distance from the origin to the bases|\n",
    "| theta | Polar angle of the line joining the centres of the bases at -/+z|\n",
    "| phi | Azimuthal angle of the line joining the centre of the base at -pDz to the centre of the base at +z |\n",
    "| y1, y2 | Half Y length of the base at -z. +z |\n",
    "| x1, x2, x3, x4 | Half X length at smaller, bigger Y of the base at -z, +z | \n",
    "| alpha1, alpha2 | Angle between the Y-axis and the centre line of the base at -z. +z |"
   ]
  },
  {
   "cell_type": "code",
   "execution_count": null,
   "id": "bb4066fc",
   "metadata": {},
   "outputs": [],
   "source": [
    "trap = G4Trap(\"trap\", 60, 20deg, 5deg, 40, 30, 40, 10deg, 16, 10, 14, 10deg)\n",
    "img = draw(trap, wireframe=true, color=:green)\n",
    "display(\"image/png\", img)"
   ]
  },
  {
   "attachments": {},
   "cell_type": "markdown",
   "id": "b3bd02b2",
   "metadata": {},
   "source": [
    "## G4Sphere\n",
    "- rmin::Float64 inner radius\n",
    "- rmax::Float64 outer radius\n",
    "- ϕ₀::Float64 origin phi angle [0,2π]\n",
    "- Δϕ::Float64 delta phi angle\n",
    "- θ₀::Float64 origin theta angle [0,π]\n",
    "- Δθ::Float64 delta theta angle"
   ]
  },
  {
   "cell_type": "code",
   "execution_count": null,
   "id": "169db7e8",
   "metadata": {
    "scrolled": false
   },
   "outputs": [],
   "source": [
    "sph = G4Sphere(\"sphere\", 7,10, 0, pi/2, pi/4, pi/2 )\n",
    "img = draw(sph, wireframe=true, color=:gray)\n",
    "display(\"image/png\", img)"
   ]
  },
  {
   "attachments": {},
   "cell_type": "markdown",
   "id": "766b88b7",
   "metadata": {},
   "source": [
    "## G4Orb\n",
    "Complete sphere"
   ]
  },
  {
   "cell_type": "code",
   "execution_count": null,
   "id": "3f0e0568",
   "metadata": {},
   "outputs": [],
   "source": [
    "orb = G4Orb(\"orb\", 10)\n",
    "img = draw(orb, wireframe=false, color=:green)\n",
    "display(\"image/png\", img)"
   ]
  },
  {
   "attachments": {},
   "cell_type": "markdown",
   "id": "95a100dd",
   "metadata": {},
   "source": [
    "## G4Torus\n",
    "| parameter | description |\n",
    "| :-------- | :---------- |\n",
    "| rmin | Inside radius |\n",
    "| rmax | Outside radius |\n",
    "| rtor | Swept radius of torus |\n",
    "| ϕ₀ | Starting phi angle in radians ( ϕ₀+Δϕ <= 2π, ϕ₀ > -2π) |\n",
    "| Δϕ | Delta angle of the segment in radians |\n"
   ]
  },
  {
   "cell_type": "code",
   "execution_count": null,
   "id": "54827660",
   "metadata": {},
   "outputs": [],
   "source": [
    "torus = G4Torus(\"torus\", 40, 60, 200, 0, π/2)\n",
    "img = draw(torus, wireframe=true, color=:blue)\n",
    "display(\"image/png\", img)"
   ]
  },
  {
   "cell_type": "code",
   "execution_count": null,
   "id": "e4d3f835",
   "metadata": {},
   "outputs": [],
   "source": [
    "img = drawDistanceToOut(torus, 100000)\n",
    "display(\"image/png\", img)"
   ]
  },
  {
   "attachments": {},
   "cell_type": "markdown",
   "id": "c4f85b54",
   "metadata": {},
   "source": [
    "## G4Polycone\n",
    "| parameter | description |\n",
    "| :-------- | :---------- |\n",
    "| ϕ₀ | Starting phi angle in radians ( ϕ₀+Δϕ <= 2π, ϕ₀ > -2π) |\n",
    "| Δϕ | Delta angle of the segment in radians |\n",
    "| numZPlanes | Number of Z planes |\n",
    "| zPlane | Position of Z planes, with Z in increasing order |\n",
    "| rInner | Tangent distance to inner surface |\n",
    "| rOuter | Tangent distance to outer surface |"
   ]
  },
  {
   "cell_type": "code",
   "execution_count": null,
   "id": "67440fb5",
   "metadata": {},
   "outputs": [],
   "source": [
    "pcon = G4Polycone(\"pcone\", π/4, 3π/2, 9,\n",
    "                  [ 5., 7., 9., 11., 25., 27., 29., 31., 37. ],\n",
    "                  [ 0., 0., 0., 0., 0., 0., 0., 0., 0. ],\n",
    "                  [ 0., 10., 10., 5. , 5., 10. , 10. , 2., 2.]\n",
    "                 )"
   ]
  },
  {
   "cell_type": "code",
   "execution_count": null,
   "id": "be4b23e5",
   "metadata": {},
   "outputs": [],
   "source": [
    "img = draw(pcon, wireframe=true, color=:blue)\n",
    "display(\"image/png\", img)"
   ]
  },
  {
   "cell_type": "markdown",
   "metadata": {},
   "source": [
    "## G4Polyhedra\n",
    "| parameter | description |\n",
    "| :-------- | :---------- |\n",
    "| ϕ₀ | Starting phi angle in radians ( ϕ₀+Δϕ <= 2π, ϕ₀ > -2π) |\n",
    "| Δϕ | Delta angle of the segment in radians |\n",
    "| numZPlanes | Number of Z planes |\n",
    "| numSides ! Number of sides |\n",
    "| zPlane | Position of Z planes, with Z in increasing order |\n",
    "| rInner | Tangent distance to inner surface |\n",
    "| rOuter | Tangent distance to outer surface |"
   ]
  },
  {
   "cell_type": "markdown",
   "id": "296d25d4",
   "metadata": {},
   "source": []
  },
  {
   "cell_type": "code",
   "execution_count": null,
   "id": "02598f2f",
   "metadata": {},
   "outputs": [],
   "source": [
    "pgon = G4Polyhedra(\"pgon\", -π/4, 5π/4, 3, 7,\n",
    "                  [ 0., 5., 8., 13. , 30., 32., 35. ],\n",
    "                  [ 0., 0., 0., 0., 0., 0., 0. ],\n",
    "                  [ 0., 15., 15., 4., 4., 10., 10.])\n",
    "img = draw(pgon, wireframe=true, color=:blue)\n",
    "display(\"image/png\", img)                  "
   ]
  },
  {
   "cell_type": "markdown",
   "id": "f213799b",
   "metadata": {},
   "source": [
    "## G4EllipticalTube\n",
    "A tube with an elliptical cross section with elliptical semi-major and semi-minor axes along the X and Y cartesian axes.\n",
    "\n",
    "| parameter | description |\n",
    "| :-------- | :---------- |\n",
    "| xSemiAxis | Half length of axis along X |\n",
    "| ySemiAxis | Half length of axis along Y |\n",
    "| Dz        | Half length Z |"
   ]
  },
  {
   "cell_type": "markdown",
   "id": "5340cb20",
   "metadata": {},
   "source": []
  },
  {
   "cell_type": "code",
   "execution_count": null,
   "id": "0d4c1df1",
   "metadata": {},
   "outputs": [],
   "source": [
    "etub = G4EllipticalTube(\"etube\", 5., 10., 20.)\n",
    "img = draw(etub, wireframe=true, color=:green)\n",
    "display(\"image/png\", img)"
   ]
  },
  {
   "cell_type": "markdown",
   "id": "1c4cdb7d",
   "metadata": {},
   "source": [
    "## G4Ellipsoid\n",
    "The general ellipsoid with possible cut in Z\n",
    "\n",
    "| parameter | description |\n",
    "| :-------- | :---------- |\n",
    "| xSemiAxis | Half length of axis along X |\n",
    "| ySemiAxis | Half length of axis along Y |\n",
    "| zSemiAxis | Semiaxis in Z |\n",
    "| zBottomCut | lower cut plane level, Z |\n",
    "| zTopCut    | upper cut plane level, Z |\n"
   ]
  },
  {
   "cell_type": "markdown",
   "id": "6f11508d",
   "metadata": {},
   "source": []
  },
  {
   "cell_type": "code",
   "execution_count": null,
   "id": "eadf96bc",
   "metadata": {},
   "outputs": [],
   "source": [
    "ellip = G4Ellipsoid(\"ellip\", 10., 20., 50., -10., 40.)\n",
    "img = draw(ellip, wireframe=true, color=:green)\n",
    "display(\"image/png\", img)"
   ]
  },
  {
   "cell_type": "markdown",
   "id": "00d3ea58",
   "metadata": {},
   "source": [
    "## G4SubtractionSolid"
   ]
  },
  {
   "cell_type": "code",
   "execution_count": null,
   "id": "7d95dbb2",
   "metadata": {},
   "outputs": [],
   "source": [
    "box1 = G4Box(\"box1\", 10,10,10)\n",
    "tub1 = G4Tubs(\"tub1\",0,7,11,0,2π)\n",
    "sub1 = G4SubtractionSolid(\"sub1\", CxxPtr(box1), CxxPtr(tub1))\n",
    "img = draw(sub1, wireframe=true, color=:green)\n",
    "!isnothing(img) && display(\"image/png\", img)"
   ]
  },
  {
   "cell_type": "code",
   "execution_count": null,
   "id": "04b6a613",
   "metadata": {},
   "outputs": [],
   "source": [
    "img = drawDistanceToOut(sub1, 100000)\n",
    "display(\"image/png\", img)"
   ]
  },
  {
   "attachments": {},
   "cell_type": "markdown",
   "id": "c0379ec5",
   "metadata": {},
   "source": [
    "## G4IntersectionSolid"
   ]
  },
  {
   "cell_type": "code",
   "execution_count": null,
   "id": "615e22a4",
   "metadata": {},
   "outputs": [],
   "source": [
    "box1 = G4Box(\"box1\", 10,10,10)\n",
    "t1 = G4Transform3D(G4RotationMatrix(π/4,0,0), G4ThreeVector())\n",
    "inter1 = G4IntersectionSolid(\"inter1\", CxxPtr(box1), CxxPtr(box1), t1)\n",
    "img = draw(inter1, wireframe=true, color=:green)\n",
    "!isnothing(img) && display(\"image/png\", img)"
   ]
  },
  {
   "cell_type": "code",
   "execution_count": null,
   "id": "54dee398",
   "metadata": {},
   "outputs": [],
   "source": [
    "img = drawDistanceToOut(inter1, 100000)\n",
    "display(\"image/png\", img)"
   ]
  },
  {
   "attachments": {},
   "cell_type": "markdown",
   "id": "aac2e3f4",
   "metadata": {},
   "source": [
    "<a id='G4UnionSolid'></a>\n",
    "## G4UnionSolid"
   ]
  },
  {
   "cell_type": "code",
   "execution_count": null,
   "id": "5eed49de",
   "metadata": {},
   "outputs": [],
   "source": [
    "tub1 = G4Tubs(\"tub1\",0,5,10,0,2π)\n",
    "t1 = G4Transform3D(G4RotationMatrix(0,π/2,0), G4ThreeVector())\n",
    "union1 = G4UnionSolid(\"union1\", CxxPtr(tub1), CxxPtr(tub1), t1)\n",
    "img = draw(union1, wireframe=false, color=:green)\n",
    "!isnothing(img) && display(\"image/png\", img)"
   ]
  },
  {
   "cell_type": "code",
   "execution_count": null,
   "id": "36cae80d",
   "metadata": {},
   "outputs": [],
   "source": [
    "img = drawDistanceToOut(union1, 100000)\n",
    "display(\"image/png\", img)"
   ]
  }
 ],
 "metadata": {
  "kernelspec": {
   "display_name": "Julia 1.10.0",
   "language": "julia",
   "name": "julia-1.10"
  },
  "language_info": {
   "file_extension": ".jl",
   "mimetype": "application/julia",
   "name": "julia",
   "version": "1.10.0"
  }
 },
 "nbformat": 4,
 "nbformat_minor": 5
}
