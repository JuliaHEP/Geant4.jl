{
 "cells": [
  {
   "cell_type": "markdown",
   "source": [
    "# Calling Custom C++ library\n",
    "\n",
    "An example of calling user libraries that can provide additional Geant4 functionally that is not\n",
    "provided by the set of wrapped classes. In this example we define a custom solid called `RoundCube`,\n",
    "which is a cube with rounded edges and vertices. The cube is defined by the side length `a` and the\n",
    "radius of the rounded edges and vertices `r`."
   ],
   "metadata": {}
  },
  {
   "cell_type": "markdown",
   "source": [
    "## Loading the necessary Julia modules"
   ],
   "metadata": {}
  },
  {
   "outputs": [],
   "cell_type": "code",
   "source": [
    "using Geant4\n",
    "using Geant4.SystemOfUnits\n",
    "using Libdl\n",
    "using CairoMakie, Rotations, LinearAlgebra, IGLWrap_jll  # to force loading G4Vis extension"
   ],
   "metadata": {},
   "execution_count": null
  },
  {
   "cell_type": "markdown",
   "source": [
    "## Building the custom library\n",
    "The custom library is defined in the C++ file `UserLibrary.cpp`.\n",
    "The library provides a function to create a custom solid `RoundCube` and some additional functions\n",
    "to interact with the solid.\n",
    "\n",
    "The attribute `Geant4_jll.artifact_dir` provides the path to the Geant4 installation directory.\n",
    "We use only a sub-set of libraries needed to link shared library."
   ],
   "metadata": {}
  },
  {
   "outputs": [],
   "cell_type": "code",
   "source": [
    "prefix = Geant4.Geant4_jll.artifact_dir\n",
    "dlext = Libdl.dlext;\n",
    "if Sys.KERNEL == :Linux\n",
    "    ldflags = \"-Wl,-rpath,$prefix/lib -Wl,--no-as-needed\"\n",
    "else\n",
    "    ldflags = \"-Wl,-rpath,$prefix/lib -Wl\"\n",
    "end\n",
    "# Compilation of the custom library"
   ],
   "metadata": {},
   "execution_count": null
  },
  {
   "cell_type": "markdown",
   "source": [
    "The custom library is defined in the C++ file `UserLibrary.cpp`. Please note that the\n",
    "callable functions are defined with the `extern \"C\"` attribute to avoid name mangling."
   ],
   "metadata": {}
  },
  {
   "outputs": [],
   "cell_type": "code",
   "source": [
    "Base.run(`c++ -O2 -shared -fPIC -std=c++17 -I$prefix/include/Geant4 $ldflags\n",
    "         -L$prefix/lib -lG4geometry -lG4materials -lG4global -lG4clhep\n",
    "         -o UserLibrary.$dlext $(@__DIR__)/UserLibrary.cpp`).exitcode == 0 || error(\"Compilation failed\")"
   ],
   "metadata": {},
   "execution_count": null
  },
  {
   "cell_type": "markdown",
   "source": [
    "## Define Julia functions to interact with the custom library\n",
    "The `@call` macro provides a very convenient way to call C functions (or extern \"C\").\n",
    "We define the following functions to interact with the custom library in a more Julia-friendly way:"
   ],
   "metadata": {}
  },
  {
   "outputs": [],
   "cell_type": "code",
   "source": [
    "const lib = \"./UserLibrary.$(Libdl.dlext)\"\n",
    "createRoundCube(a,r) = @ccall lib.createRoundCube(a::Float64, r::Float64)::CxxPtr{G4VSolid}\n",
    "deleteRoundCube(s::CxxPtr{G4VSolid}) = @ccall lib.deleteRoundCube(s::CxxPtr{G4VSolid})::Cvoid\n",
    "infoRoundCube(s::CxxPtr{G4VSolid}) = (@ccall lib.infoRoundCube(s::CxxPtr{G4VSolid})::Cstring) |> unsafe_string"
   ],
   "metadata": {},
   "execution_count": null
  },
  {
   "cell_type": "markdown",
   "source": [
    "## Testing the custom library\n",
    "We create a `RoundCube` with side length `100` and radius `10` and draw the distance to the outside of the solid\n",
    "from a number of randomly distributed points in a random directions. This should get a nice image of the\n",
    "surface `RoundCube`. It is exercising `Inside` and `DistanceToOut` methods of the custom solid."
   ],
   "metadata": {}
  },
  {
   "outputs": [],
   "cell_type": "code",
   "source": [
    "rcube = createRoundCube(10cm, 1cm)        # returns a CxxPtr{G4VSolid}\n",
    "img = drawDistanceToOut(rcube[], 100000)  # implemented in G4Vis ext. It expects a G4VSolid.\n",
    "display(\"image/png\", img)"
   ],
   "metadata": {},
   "execution_count": null
  },
  {
   "cell_type": "markdown",
   "source": [
    "Get the information about the `RoundCube`"
   ],
   "metadata": {}
  },
  {
   "outputs": [],
   "cell_type": "code",
   "source": [
    "info = infoRoundCube(rcube)\n",
    "println(info)"
   ],
   "metadata": {},
   "execution_count": null
  },
  {
   "cell_type": "markdown",
   "source": [
    "Delete the `RoundCube`"
   ],
   "metadata": {}
  },
  {
   "outputs": [],
   "cell_type": "code",
   "source": [
    "deleteRoundCube(rcube)"
   ],
   "metadata": {},
   "execution_count": null
  },
  {
   "cell_type": "markdown",
   "source": [
    "---\n",
    "\n",
    "*This notebook was generated using [Literate.jl](https://github.com/fredrikekre/Literate.jl).*"
   ],
   "metadata": {}
  }
 ],
 "nbformat_minor": 3,
 "metadata": {
  "language_info": {
   "file_extension": ".jl",
   "mimetype": "application/julia",
   "name": "julia",
   "version": "1.11.1"
  },
  "kernelspec": {
   "name": "julia-1.11",
   "display_name": "Julia 1.11.1",
   "language": "julia"
  }
 },
 "nbformat": 4
}
