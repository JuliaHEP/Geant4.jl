{
 "cells": [
  {
   "cell_type": "markdown",
   "source": [
    "# Extended/TestEm3 Example"
   ],
   "metadata": {}
  },
  {
   "cell_type": "markdown",
   "source": [
    "This example is based on the Geant4 extended/TestEm3 example of the Geant4 distribution. It can be used\n",
    "to test the electromagnetic physics processes in Geant4.\n",
    "- How to collect energy deposition in a sampling calorimeter.\n",
    "- How to survey energy flow.\n",
    "- How to print stopping power."
   ],
   "metadata": {}
  },
  {
   "cell_type": "markdown",
   "source": [
    "## Geometry"
   ],
   "metadata": {}
  },
  {
   "cell_type": "markdown",
   "source": [
    "The calorimeter is a box made of a given number of layers.\n",
    "A layer consists of a sequence of various absorbers (maximum MaxAbsor=9).\n",
    "The layer is replicated."
   ],
   "metadata": {}
  },
  {
   "cell_type": "markdown",
   "source": [
    "Parameters defining the calorimeter :\n",
    "  - the number of layers,\n",
    "  - the number of absorbers within a layer,\n",
    "  - the material of the absorbers,\n",
    "  - the thickness of the absorbers,\n",
    "  - the transverse size of the calorimeter (the input face is a square)."
   ],
   "metadata": {}
  },
  {
   "cell_type": "markdown",
   "source": [
    "In addition a transverse uniform magnetic field can be applied."
   ],
   "metadata": {}
  },
  {
   "cell_type": "markdown",
   "source": [
    "The default geometry is constructed in DetectorConstruction class, but all\n",
    "of the above parameters can be modified interactively via the commands\n",
    "defined in the DetectorMessenger class."
   ],
   "metadata": {}
  },
  {
   "cell_type": "markdown",
   "source": [
    "```\n",
    "      |<----layer 0---------->|<----layer 1---------->|<----layer 2---------->|\n",
    "      |           |           |                       |                       |\n",
    "      ==========================================================================\n",
    "      ||          |           ||          |           ||          |           ||\n",
    "      ||          |           ||          |           ||          |           ||\n",
    "      ||   abs 1  | abs 2     ||   abs 1  | abs 2     ||   abs 1  | abs 2     ||\n",
    "      ||          |           ||          |           ||          |           ||\n",
    "      ||          |           ||          |           ||          |           ||\n",
    "beam  ||          |           ||          |           ||          |           ||\n",
    "====> ||          |           ||          |           ||          |           ||\n",
    "      ||          |           ||          |           ||          |           ||\n",
    "      ||          |           ||          |           ||          |           ||\n",
    "      ||          |           ||          |           ||          |           ||\n",
    "      ||          |           ||          |           ||          |           ||\n",
    "      ||   cell 1 | cell 2    ||   cell 3 | cell 4    ||   cell 5 | cell 6    ||\n",
    "      ==========================================================================\n",
    "      ^           ^           ^           ^           ^           ^           ^\n",
    "      pln1        pln2        pln3       pln4        pln5        pln6       pln7\n",
    "```"
   ],
   "metadata": {}
  },
  {
   "cell_type": "markdown",
   "source": [
    "## Loading the necessary Julia modules\n",
    "Load the `Geant4` and `Geant4.SystemOfUnits` modules.\n",
    "We will also use the `FHist` and `Plots` modules to handle the histograms and plots, and `Printf` to\n",
    "format the output."
   ],
   "metadata": {}
  },
  {
   "outputs": [],
   "cell_type": "code",
   "source": [
    "using Geant4\n",
    "using Geant4.SystemOfUnits\n",
    "using FHist, Plots, Printf\n",
    "import DisplayAs: PNG"
   ],
   "metadata": {},
   "execution_count": null
  },
  {
   "cell_type": "markdown",
   "source": [
    "## Define Detector structure\n",
    "The detector is a sandwich calorimeter made of layers of sensitive and absorber materials. The detector is defined by the `TestEm3Detector` structure.\n",
    "We include the TestEm3Detector.jl file not to clutter the example. We can also use a GDML file to define the geometry. This is done\n",
    "by instantiating the `G4JLDetectorGDML` type with the GDML file as argument."
   ],
   "metadata": {}
  },
  {
   "outputs": [],
   "cell_type": "code",
   "source": [
    "const useGdml = true\n",
    "include(joinpath(@__DIR__, \"TestEm3Detector.jl\"))\n",
    "if useGdml\n",
    "    detector = G4JLDetectorGDML(\"$(@__DIR__)/TestEm3.gdml\")\n",
    "else\n",
    "    detector = TestEm3Detector()\n",
    "end"
   ],
   "metadata": {},
   "execution_count": null
  },
  {
   "cell_type": "markdown",
   "source": [
    "## Define Simulation Data struct\n",
    "It consists on a number of counters and statistical accumulators to store the simulation results.\n",
    "In addition, it includes a number of histograms to store the results."
   ],
   "metadata": {}
  },
  {
   "outputs": [],
   "cell_type": "code",
   "source": [
    "const Hist1D64 = Hist1D{Float64}\n",
    "mutable struct TestEm3SimData <: G4JLSimulationData\n",
    "    ##---Run data-----------------------------------------------------------------------------------\n",
    "    fParticle::CxxPtr{G4ParticleDefinition}\n",
    "    fEkin::Float64\n",
    "\n",
    "    ##fSumEAbs::Vector{Float64}\n",
    "    ##fSum2EAbs::Vector{Float64}\n",
    "    ##fSumLAbs::Vector{Float64}\n",
    "    ##fSum2LAbs::Vector{Float64}\n",
    "\n",
    "    ##fEdepTot::Float64\n",
    "    ##fEdepTot2::Float64\n",
    "    ##fEleakTot::Float64\n",
    "    ##fEleakTot2::Float64\n",
    "\n",
    "    ##fEtotal::Float64\n",
    "    ##fEtotal2::Float64\n",
    "\n",
    "    ##fEnergyFlow::Vector{Float64}\n",
    "    ##fLateralEleak::Vector{Float64}\n",
    "    ##fEnergyDeposit::Matrix{Float64}\n",
    "\n",
    "    fChargedStep::Int32\n",
    "    fNeutralStep::Int32\n",
    "\n",
    "    fN_gamma::Int32\n",
    "    fN_elec::Int32\n",
    "    fN_pos::Int32\n",
    "\n",
    "    fEnergyDeposit::Vector{Float64}     ## Energy deposit per event\n",
    "    fTrackLengthCh::Vector{Float64}     ## Track length per event\n",
    "\n",
    "    fEdepEventHistos::Vector{Hist1D64}\n",
    "    fTrackLengthChHistos::Vector{Hist1D64}\n",
    "    fEdepHistos::Vector{Hist1D64}\n",
    "    fAbsorLabel::Vector{String}\n",
    "\n",
    "    ##G4double fEdeptrue [kMaxAbsor];\n",
    "    ##G4double fRmstrue  [kMaxAbsor];\n",
    "    ##G4double fLimittrue[kMaxAbsor];\n",
    "    ##G4bool fApplyLimit;\n",
    "\n",
    "    ##fTimer::Float64\n",
    "\n",
    "    TestEm3SimData() = new()\n",
    "end"
   ],
   "metadata": {},
   "execution_count": null
  },
  {
   "cell_type": "markdown",
   "source": [
    "We also define the `add!` function to reduce the simulation results between the master and worker threads."
   ],
   "metadata": {}
  },
  {
   "outputs": [],
   "cell_type": "code",
   "source": [
    "function add!(x::TestEm3SimData, y::TestEm3SimData)\n",
    "    x.fChargedStep += y.fChargedStep\n",
    "    x.fNeutralStep += y.fNeutralStep\n",
    "    x.fN_gamma += y.fN_gamma\n",
    "    x.fN_elec += y.fN_elec\n",
    "    x.fN_pos += y.fN_pos\n",
    "    x.fEdepEventHistos += y.fEdepEventHistos\n",
    "    x.fTrackLengthChHistos += y.fTrackLengthChHistos\n",
    "    x.fEdepHistos += y.fEdepHistos\n",
    "end"
   ],
   "metadata": {},
   "execution_count": null
  },
  {
   "cell_type": "markdown",
   "source": [
    "Define a function to plot the simulation data from the application"
   ],
   "metadata": {}
  },
  {
   "outputs": [],
   "cell_type": "code",
   "source": [
    "function do_plot(data::TestEm3SimData)\n",
    "    (;fEdepHistos, fEdepEventHistos, fTrackLengthChHistos, fAbsorLabel) = data\n",
    "    lay = @layout [°; ° °]\n",
    "    img = plot(layout=lay, show=true, size=(1400,1000))\n",
    "    for (h, l) in zip(fEdepHistos, fAbsorLabel)\n",
    "        plot!(subplot=1, h, title=\"Energy Deposition\", xlabel=\"layer #\", label=l, show=true)\n",
    "    end\n",
    "    for (h, l) in zip(fEdepEventHistos, fAbsorLabel)\n",
    "        plot!(subplot=2, h, title=\"Energy/event Distribution\", label=l, xlabel=\"MeV\")\n",
    "    end\n",
    "    for (h, l) in zip(fTrackLengthChHistos, fAbsorLabel)\n",
    "        plot!(subplot=3, h, title=\"Track Lengh Distribution\", label=l, xlabel=\"mm\")\n",
    "    end\n",
    "    return img\n",
    "end"
   ],
   "metadata": {},
   "execution_count": null
  },
  {
   "cell_type": "markdown",
   "source": [
    "## Particle Gun initialization"
   ],
   "metadata": {}
  },
  {
   "outputs": [],
   "cell_type": "code",
   "source": [
    "particlegun = G4JLGunGenerator(particle = \"e-\",\n",
    "                               energy = 1GeV,\n",
    "                               direction = G4ThreeVector(1,0,0),\n",
    "                               position = G4ThreeVector(0,0,0))  # temporary potition, will update once the detector is constructed"
   ],
   "metadata": {},
   "execution_count": null
  },
  {
   "cell_type": "markdown",
   "source": [
    "## Define the Simulation User Actions"
   ],
   "metadata": {}
  },
  {
   "outputs": [],
   "cell_type": "code",
   "source": [
    "##---Step action------------------------------------------------------------------------------------\n",
    "function stepaction(step::G4Step, app::G4JLApplication)::Nothing\n",
    "    detector = app.detector\n",
    "    data = getSIMdata(app)\n",
    "    prepoint = GetPreStepPoint(step)\n",
    "    track = GetTrack(step)\n",
    "\n",
    "    # Return if step in not in the world volume\n",
    "    prepoint |> GetPhysicalVolume |> GetLogicalVolume |> GetMaterial == detector.fWorldMaterial && return nothing\n",
    "\n",
    "    particle = GetDefinition(track)\n",
    "    charge  = GetPDGCharge(particle)\n",
    "    stepl = 0.\n",
    "    if charge != 0.\n",
    "        stepl = GetStepLength(step)\n",
    "        data.fChargedStep += 1\n",
    "    else\n",
    "        data.fNeutralStep += 1\n",
    "    end\n",
    "    edep = GetTotalEnergyDeposit(step) * GetWeight(track)\n",
    "    absorNum  = GetCopyNumber(GetTouchable(prepoint), 0)\n",
    "    layerNum  = GetCopyNumber(GetTouchable(prepoint), 1) + 1  ## replicas copynumber starts at 0\n",
    "\n",
    "    data.fEnergyDeposit[absorNum] += edep\n",
    "    data.fTrackLengthCh[absorNum] += stepl\n",
    "\n",
    "    push!(data.fEdepHistos[absorNum], layerNum, edep)\n",
    "    nothing\n",
    "end\n",
    "\n",
    "##---Tracking pre-action----------------------------------------------------------------------------\n",
    "let G4Gamma, G4Electron, G4Positron, first=true\n",
    "global function pretrackaction(track::G4Track, app::G4JLApplication)::Nothing\n",
    "    if first\n",
    "        G4Gamma    = FindParticle(\"gamma\")\n",
    "        G4Electron = FindParticle(\"e-\")\n",
    "        G4Positron = FindParticle(\"e+\")\n",
    "        first = false\n",
    "    end\n",
    "    data = getSIMdata(app)\n",
    "    d = GetDefinition(track)\n",
    "    if d === G4Gamma\n",
    "        data.fN_gamma += 1\n",
    "    elseif d === G4Electron\n",
    "        data.fN_elec +=1\n",
    "    elseif d === G4Positron\n",
    "        data.fN_pos += 1\n",
    "    end\n",
    "    nothing\n",
    "end\n",
    "end\n",
    "\n",
    "##---Tracking post-action---------------------------------------------------------------------------\n",
    "function posttrackaction(track::G4Track, ::G4JLApplication)::Nothing\n",
    "  nothing\n",
    "end\n",
    "\n",
    "##---Begin Run Action-------------------------------------------------------------------------------\n",
    "function beginrun(run::G4Run, app::G4JLApplication)::Nothing\n",
    "    data = getSIMdata(app)\n",
    "    (; fNbOfAbsor, fNbOfLayers, fAbsorMaterial, fAbsorThickness) = app.detector\n",
    "    gun = app.generator.data.gun\n",
    "    data.fParticle = GetParticleDefinition(gun)\n",
    "    data.fEkin = GetParticleEnergy(gun)\n",
    "    data.fN_gamma = data.fN_elec = data.fN_pos = 0\n",
    "    data.fChargedStep = data.fNeutralStep = 0\n",
    "    # init arrays\n",
    "    data.fEnergyDeposit = zeros(fNbOfAbsor)\n",
    "    data.fTrackLengthCh = zeros(fNbOfAbsor)\n",
    "    data.fEdepHistos = [Hist1D(;counttype=Float64,binedges=0.:1.0:fNbOfLayers) for i in 1:fNbOfAbsor]\n",
    "    data.fEdepEventHistos = [Hist1D(;binedges=0.:10.:1000.) for i in 1:fNbOfAbsor]\n",
    "    data.fTrackLengthChHistos = [Hist1D(;binedges=0.:20.:2000.) for i in 1:fNbOfAbsor]\n",
    "    data.fAbsorLabel = [\"$(fAbsorThickness[i])mm of $(fAbsorMaterial[i] |> GetName |> String)\" for i in 1:fNbOfAbsor]\n",
    "    nothing\n",
    "end\n",
    "##---End Run Action---------------------------------------------------------------------------------\n",
    "function endrun(run::G4Run, app::G4JLApplication)::Nothing\n",
    "    ##---end run action is called for each workwer thread and the master one\n",
    "    if G4Threading!G4GetThreadId() < 0\n",
    "        data = app.simdata[1]\n",
    "        ##---This is the master thread, so we need to add all the simuation results-----------------\n",
    "        for d in app.simdata[2:end]\n",
    "            add!(data, d)\n",
    "        end\n",
    "        nEvt = GetNumberOfEvent(run)\n",
    "        norm = nEvt > 0 ? 1/nEvt : 1.\n",
    "\n",
    "        @printf \"------------------------------------------------------------\\n\"\n",
    "        @printf \" Beam particle %s E = %.2f GeV\\n\" String(GetParticleName(data.fParticle)) data.fEkin/GeV\n",
    "        @printf \" Mean number of gamma          %.2f\\n\" data.fN_gamma*norm\n",
    "        @printf \" Mean number of e-             %.2f\\n\" data.fN_elec*norm\n",
    "        @printf \" Mean number of e+             %.2f\\n\" data.fN_pos*norm\n",
    "        @printf \" Mean number of charged steps  %f\\n\"   data.fChargedStep*norm\n",
    "        @printf \" Mean number of neutral steps  %f\\n\"   data.fNeutralStep*norm\n",
    "        @printf \"------------------------------------------------------------\"\n",
    "    else\n",
    "        G4JL_println(\"end-run  for worker $(G4Threading!G4GetThreadId())\")\n",
    "    end\n",
    "end\n",
    "\n",
    "##---Begin Event Action-----------------------------------------------------------------------------\n",
    "function beginevent(evt::G4Event, app::G4JLApplication)\n",
    "    data = getSIMdata(app)\n",
    "    fill!(data.fEnergyDeposit, 0.0)\n",
    "    fill!(data.fTrackLengthCh, 0.0)\n",
    "    nothing\n",
    "end\n",
    "\n",
    "##---End Event Action-------------------------------------------------------------------------------\n",
    "function endevent(evt::G4Event, app::G4JLApplication)\n",
    "    data = getSIMdata(app)\n",
    "    (; fNbOfAbsor, fNbOfLayers) = app.detector\n",
    "    for i in 1:fNbOfAbsor\n",
    "        push!(data.fEdepEventHistos[i], data.fEnergyDeposit[i])\n",
    "        push!(data.fTrackLengthChHistos[i], data.fTrackLengthCh[i])\n",
    "    end\n",
    "    nothing\n",
    "end"
   ],
   "metadata": {},
   "execution_count": null
  },
  {
   "cell_type": "markdown",
   "source": [
    "## Create the Application"
   ],
   "metadata": {}
  },
  {
   "outputs": [],
   "cell_type": "code",
   "source": [
    "app = G4JLApplication(detector = TestEm3Detector(),               ## detector with parameters\n",
    "                      simdata = TestEm3SimData(),                 ## simulation data structure\n",
    "                      generator = particlegun,                    ## primary particle generator\n",
    "                      nthreads = VERSION > v\"1.9\" ? 4 : 0,        ## number of threads (MT)\n",
    "                      physics_type = FTFP_BERT,                   ## what physics list to instantiate\n",
    "                      ##----Actions--------------------------------\n",
    "                      stepaction_method = stepaction,             ## step action method\n",
    "                      pretrackaction_method = pretrackaction,     ## pre-tracking action\n",
    "                      posttrackaction_method = posttrackaction,   ## post-tracking action\n",
    "                      beginrunaction_method = beginrun,           ## begin-run action (initialize counters and histograms)\n",
    "                      endrunaction_method = endrun,               ## end-run action (print summary)\n",
    "                      begineventaction_method = beginevent,       ## begin-event action (initialize per-event data)\n",
    "                      endeventaction_method = endevent            ## end-event action (fill histogram per event data)\n",
    "                      )"
   ],
   "metadata": {},
   "execution_count": null
  },
  {
   "cell_type": "markdown",
   "source": [
    "## Configure, Initialize and Run"
   ],
   "metadata": {}
  },
  {
   "outputs": [],
   "cell_type": "code",
   "source": [
    "configure(app)\n",
    "initialize(app)\n",
    "SetParticlePosition(particlegun, G4ThreeVector(-app.detector.fWorldSizeX/2,0,0))  ## Only now is known the size of the 'world'\n",
    "\n",
    "beamOn(app, 1000)"
   ],
   "metadata": {},
   "execution_count": null
  },
  {
   "cell_type": "markdown",
   "source": [
    "## Plot the results"
   ],
   "metadata": {}
  },
  {
   "outputs": [],
   "cell_type": "code",
   "source": [
    "img = do_plot(app.simdata[1])\n",
    "PNG(img)"
   ],
   "metadata": {},
   "execution_count": null
  },
  {
   "cell_type": "markdown",
   "source": [
    "### Change the primary particle enerqy and run the simulation again"
   ],
   "metadata": {}
  },
  {
   "outputs": [],
   "cell_type": "code",
   "source": [
    "SetParticleEnergy(particlegun, 100MeV)\n",
    "beamOn(app, 1000)\n",
    "img = do_plot(app.simdata[1])\n",
    "PNG(img)"
   ],
   "metadata": {},
   "execution_count": null
  },
  {
   "cell_type": "markdown",
   "source": [
    "### Change the geometry and run the simulation again\n",
    "Add a new absorber layer"
   ],
   "metadata": {}
  },
  {
   "outputs": [],
   "cell_type": "code",
   "source": [
    "reinitialize(app, TestEm3Detector(absorThickness = [2.3mm, 5.7mm, 1mm],\n",
    "                                  absorMaterial = [\"G4_Pb\", \"G4_lAr\", \"G4_Al\"]))\n",
    "beamOn(app, 1000)\n",
    "img = do_plot(app.simdata[1])\n",
    "PNG(img)"
   ],
   "metadata": {},
   "execution_count": null
  },
  {
   "cell_type": "markdown",
   "source": [
    "---\n",
    "\n",
    "*This notebook was generated using [Literate.jl](https://github.com/fredrikekre/Literate.jl).*"
   ],
   "metadata": {}
  }
 ],
 "nbformat_minor": 3,
 "metadata": {
  "language_info": {
   "file_extension": ".jl",
   "mimetype": "application/julia",
   "name": "julia",
   "version": "1.11.1"
  },
  "kernelspec": {
   "name": "julia-1.11",
   "display_name": "Julia 1.11.1",
   "language": "julia"
  }
 },
 "nbformat": 4
}
