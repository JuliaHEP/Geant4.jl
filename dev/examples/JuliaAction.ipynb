{
 "cells": [
  {
   "cell_type": "markdown",
   "source": [
    "# Calling G4 actions in Julia\n",
    "\n",
    "This is a very simple example of calling user actions in Julia from a C++\n",
    "Geant4 application.\n",
    "We define the user actions in Julia language in the file `MyCode.jl`\n",
    "and call them from the C++ application. The name and signatures of the functions\n",
    "are important since the C++ will associate them in the corresponding inherited\n",
    "classes.\n",
    "\n",
    "The C++ code is a single file `G4example.cpp` that defines the Geant4 the minimal\n",
    "set of classes to run a simulation.\n",
    "- The main program is responsible of initializing Julia by calling `julia_init` and\n",
    "  loading the Julia code executing.\n",
    "  ```cpp\n",
    "  jl_init()\n",
    "  jl_eval_string(\"include(\\\"MyCode.jl\\\")\");\n",
    "  ```\n",
    "- Each constructor of a user action class needs to initialize a C++ function pointer to the\n",
    "  corresponding Julia function. This is done in the constructor to avoid any dynamic dispatch\n",
    "  at runtime. For example, for the `EventAction` class:\n",
    "  ```cpp\n",
    "  typedef  void (*eventaction_f)(const G4Event*);\n",
    "  class EventAction : public G4UserEventAction {\n",
    "    public:\n",
    "      EventAction() {\n",
    "          beginevent_jl = (eventaction_f)(jl_unbox_voidpointer(jl_eval_string(\"@cfunction(begin_of_event_action, Nothing, (CxxPtr{G4Event},))\")));\n",
    "          endevent_jl = (eventaction_f)(jl_unbox_voidpointer(jl_eval_string(\"@cfunction(end_of_event_action, Nothing, (CxxPtr{G4Event},))\")));\n",
    "      }\n",
    "      ...\n",
    "    private:\n",
    "      eventaction_f beginevent_jl;\n",
    "      eventaction_f endevent_jl;\n",
    "  };\n",
    "  ```\n",
    "- Finally the actions are called in the corresponding Geant4 classes. For example in the `EventAction` class:\n",
    "  ```cpp\n",
    "  void EventAction::BeginOfEventAction(const G4Event* event) {\n",
    "      beginevent_jl(event);\n",
    "  }\n",
    "  ...\n",
    "  ```"
   ],
   "metadata": {}
  },
  {
   "cell_type": "markdown",
   "source": [
    "## Loading the necessary Julia modules"
   ],
   "metadata": {}
  },
  {
   "outputs": [],
   "cell_type": "code",
   "source": [
    "using Geant4_jll   # Needed to locate the Geant4 installation directory"
   ],
   "metadata": {},
   "execution_count": null
  },
  {
   "cell_type": "markdown",
   "source": [
    "## Building G4Example Application\n",
    "The custom library is defined in the C++ file `G4example.cpp`. It is a single file to\n",
    "facilitate the building of the executable.\n",
    "\n",
    "The attribute `Geant4_jll.artifact_dir` provides the path to the Geant4 installation directory.\n",
    "Sources are in the same location as this script."
   ],
   "metadata": {}
  },
  {
   "outputs": [],
   "cell_type": "code",
   "source": [
    "cd(@__DIR__)\n",
    "g4prefix = Geant4_jll.artifact_dir\n",
    "jlprefix = dirname(Sys.BINDIR);"
   ],
   "metadata": {},
   "execution_count": null
  },
  {
   "cell_type": "markdown",
   "source": [
    "We use the executables `geant4-config` and `julia-config.jl` to get the needed\n",
    "libraries and compiler/linker flags."
   ],
   "metadata": {}
  },
  {
   "outputs": [],
   "cell_type": "code",
   "source": [
    "g4libs = read(`$g4prefix/bin/geant4-config --libs`, String) |> split\n",
    "filter!(x -> x != \"-lG4gdml\", g4libs)\n",
    "jllibs = read(`$jlprefix/share/julia/julia-config.jl --ldlibs`, String) |> split\n",
    "append!(jllibs, [\"-L$jlprefix/lib\"])\n",
    "cflags = read(`$g4prefix/bin/geant4-config --cflags`, String) |> split\n",
    "ldflags = [\"-Wl,-rpath,$g4prefix/lib\", \"-Wl,-rpath,$jlprefix/lib\"];\n",
    "Sys.KERNEL == :Linux  && append!(ldflags, [\"-Wl,--no-as-needed\"]);"
   ],
   "metadata": {},
   "execution_count": null
  },
  {
   "cell_type": "markdown",
   "source": [
    "Run the compilation and link command"
   ],
   "metadata": {}
  },
  {
   "outputs": [],
   "cell_type": "code",
   "source": [
    "Base.run(`c++ -O2 -fPIC $cflags -I$jlprefix/include/julia $ldflags $g4libs $jllibs\n",
    "          -o G4example.exe $(@__DIR__)/G4example.cpp`).exitcode == 0 || error(\"Compilation failed\");"
   ],
   "metadata": {},
   "execution_count": null
  },
  {
   "cell_type": "markdown",
   "source": [
    "## Run the application\n",
    "We need to set the variable `JULIA_PROJECT` pointing to correctly setup Julia environment."
   ],
   "metadata": {}
  },
  {
   "outputs": [],
   "cell_type": "code",
   "source": [
    "withenv(\"JULIA_PROJECT\" => \"@.\", \"G4NUMTHREADS\" => \"4\") do\n",
    "   Base.run(`./G4example.exe`).exitcode == 0 || error(\"Execution failed\")\n",
    "end"
   ],
   "metadata": {},
   "execution_count": null
  },
  {
   "cell_type": "markdown",
   "source": [
    "## Display the results"
   ],
   "metadata": {}
  },
  {
   "outputs": [],
   "cell_type": "code",
   "source": [
    "println(\"=====> The file edepHist.png should have been saved\")"
   ],
   "metadata": {},
   "execution_count": null
  },
  {
   "cell_type": "markdown",
   "source": [
    "![](edepHist.png)"
   ],
   "metadata": {}
  },
  {
   "cell_type": "markdown",
   "source": [
    "---\n",
    "\n",
    "*This notebook was generated using [Literate.jl](https://github.com/fredrikekre/Literate.jl).*"
   ],
   "metadata": {}
  }
 ],
 "nbformat_minor": 3,
 "metadata": {
  "language_info": {
   "file_extension": ".jl",
   "mimetype": "application/julia",
   "name": "julia",
   "version": "1.11.5"
  },
  "kernelspec": {
   "name": "julia-1.11",
   "display_name": "Julia 1.11.5",
   "language": "julia"
  }
 },
 "nbformat": 4
}
