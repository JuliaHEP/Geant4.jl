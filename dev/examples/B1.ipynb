{
 "cells": [
  {
   "cell_type": "markdown",
   "source": [
    "# Basic/B1 Example\n",
    "\n",
    "In this example is based on the Geant4 basic/B1 example of the\n",
    "Geant4 distribution. It is a simple example that shows how to\n",
    "interact with the Geant4 classes. The example uses the native interface\n",
    "emulating the C++ code."
   ],
   "metadata": {}
  },
  {
   "cell_type": "markdown",
   "source": [
    "## Loading the necessary Julia modules\n",
    "Load the `Geant4` and `Geant4.SystemOfUnits` modules"
   ],
   "metadata": {}
  },
  {
   "outputs": [],
   "cell_type": "code",
   "source": [
    "using Geant4\n",
    "using Geant4.SystemOfUnits"
   ],
   "metadata": {},
   "execution_count": null
  },
  {
   "cell_type": "markdown",
   "source": [
    "## Define the Detector Construction\n",
    "Define the function that will construct the detector geometry.\n",
    "The setup consists of a an envelope of box shape containing two volumes:\n",
    "a spherical cone and a trapezoid.\n",
    "\n",
    "In this example we use  some common materials materials for medical applications. The envelope is made of water and the two inner volumes\n",
    "are made from tissue and bone materials.\n",
    "The materials are created with the help of the G4NistManager class,\n",
    "which allows to build a material from the NIST database using their\n",
    "names. All available materials can be found in the Geant4 User's Guide\n",
    "for Application Developers, Appendix 10: Geant4 Materials Database.\n",
    "detector construction class `B1DetectorConstruction` that inherits from `G4VUserDetectorConstruction`"
   ],
   "metadata": {}
  },
  {
   "outputs": [],
   "cell_type": "code",
   "source": [
    "function constructB1Detector(::Nothing)::CxxPtr{G4VPhysicalVolume}\n",
    "    nist = G4NistManager!Instance()\n",
    "\n",
    "    # Envelope parameters\n",
    "    env_sizeXY = 20cm\n",
    "    env_sizeZ  = 30cm\n",
    "    env_mat    = FindOrBuildMaterial(nist, \"G4_WATER\")\n",
    "\n",
    "    # Option to switch on/off checking of volumes overlaps\n",
    "    checkOverlaps = true\n",
    "\n",
    "    # World\n",
    "    world_sizeXY = 1.2*env_sizeXY\n",
    "    world_sizeZ  = 1.2*env_sizeZ\n",
    "    world_mat = FindOrBuildMaterial(nist, \"G4_AIR\")\n",
    "\n",
    "    solidworld = G4Box(\"World\", 0.5 * world_sizeXY, 0.5 * world_sizeXY, 0.5 * world_sizeZ)\n",
    "    logicworld = G4LogicalVolume(solidworld, world_mat, \"World\")\n",
    "\n",
    "    physWorld = G4PVPlacement(nothing,          ## no rotation\n",
    "                              G4ThreeVector(),  ## at (0,0,0)\n",
    "                              logicworld,       ## its logical volume\n",
    "                              \"World\",          ## its name\n",
    "                              nothing,          ## its mother volume\n",
    "                              false,            ## no boolean operation\n",
    "                              0,                ## copy number\n",
    "                              checkOverlaps)    ## overlaps checking\n",
    "\n",
    "    # Envelope\n",
    "    solidEnv = G4Box(\"Envelope\", 0.5 * env_sizeXY, 0.5 * env_sizeXY, 0.5 * env_sizeZ)\n",
    "    logicEnv = G4LogicalVolume(solidEnv, env_mat, \"Envelope\")\n",
    "\n",
    "    G4PVPlacement(nothing,           ## no rotation\n",
    "                  G4ThreeVector(),   ## at (0,0,0)\n",
    "                  logicEnv,          ## its logical volume\n",
    "                  \"Envelope\",        ## its name\n",
    "                  logicworld,        ## its mother  volume\n",
    "                  false,             ## no boolean operation\n",
    "                  0,                 ## copy number\n",
    "                  checkOverlaps)     ## overlaps checking\n",
    "    # shape 1\n",
    "    shape1_mat = FindOrBuildMaterial(nist, \"G4_A-150_TISSUE\")\n",
    "    pos1 = G4ThreeVector(0, 2cm, -7cm)\n",
    "\n",
    "    # Conical section shape\n",
    "    shape1_rmina =  0cm; shape1_rmaxa = 2cm\n",
    "    shape1_rminb =  0cm; shape1_rmaxb = 4cm\n",
    "    shape1_hz = 3cm\n",
    "    shape1_phimin = 0deg; shape1_phimax = 360deg\n",
    "\n",
    "    solidShape1 = G4Cons(\"Shape1\", shape1_rmina, shape1_rmaxa, shape1_rminb, shape1_rmaxb,\n",
    "                  shape1_hz, shape1_phimin, shape1_phimax)\n",
    "\n",
    "    logicShape1 = G4LogicalVolume(solidShape1, shape1_mat, \"Shape1\")\n",
    "    G4PVPlacement(nothing,      ## no rotation\n",
    "                  pos1,         ## at position\n",
    "                  logicShape1,  ## its logical volume\n",
    "                  \"Shape1\",     ## its name\n",
    "                  logicEnv,     ## its mother  volume\n",
    "                  false,        ## no boolean operation\n",
    "                  0,            ## copy number\n",
    "                  checkOverlaps)## overlaps checking\n",
    "    # Shape 2\n",
    "    shape2_mat = FindOrBuildMaterial(nist, \"G4_BONE_COMPACT_ICRU\")\n",
    "    pos2 = G4ThreeVector(0, -1cm, 7cm)\n",
    "\n",
    "    # Trapezoid shape\n",
    "    shape2_dxa = 12cm; shape2_dxb = 12cm\n",
    "    shape2_dya = 10cm; shape2_dyb = 16cm\n",
    "    shape2_dz  = 6cm\n",
    "    solidShape2 = G4Trd(\"Shape2\", 0.5 * shape2_dxa, 0.5 * shape2_dxb, 0.5 * shape2_dya, 0.5 * shape2_dyb, 0.5 * shape2_dz)\n",
    "    logicShape2 = G4LogicalVolume(solidShape2, shape2_mat, \"Shape2\")\n",
    "    G4PVPlacement(nothing,        ## no rotation\n",
    "                  pos2,           ## at position\n",
    "                  logicShape2,    ## its logical volume\n",
    "                  \"Shape2\",       ## its name\n",
    "                  logicEnv,       ## its mother  volume\n",
    "                  false,          ## no boolean operation\n",
    "                  0,              ## copy number\n",
    "                  checkOverlaps)  ## overlaps checking\n",
    "\n",
    "    # Visualization attributes\n",
    "    SetVisAttributes(logicworld, G4VisAttributes!GetInvisible())\n",
    "    SetVisAttributes(logicEnv, G4VisAttributes!GetInvisible())\n",
    "    SetVisAttributes(logicShape1, G4VisAttributes(G4Colour(1.0, 1.0, 0.0)))\n",
    "    SetVisAttributes(logicShape2, G4VisAttributes(G4Colour(0.0, 0.0, 1.0)))\n",
    "\n",
    "    return physWorld              ## return a pointer to the G4PhysicalVolume\n",
    "end"
   ],
   "metadata": {},
   "execution_count": null
  },
  {
   "cell_type": "markdown",
   "source": [
    "crate an instance of the detector construction and physics list to be used in the simulation"
   ],
   "metadata": {}
  },
  {
   "outputs": [],
   "cell_type": "code",
   "source": [
    "detctor = G4JLDetectorConstruction(constructB1Detector)\n",
    "physics = QBBC()"
   ],
   "metadata": {},
   "execution_count": null
  },
  {
   "cell_type": "markdown",
   "source": [
    "## Define User Actions"
   ],
   "metadata": {}
  },
  {
   "outputs": [],
   "cell_type": "code",
   "source": [
    "function buildApp(self::G4JLActionInitialization, ::Nothing)\n",
    "    # Create particle gun\n",
    "    particle_gun = G4JLParticleGun()\n",
    "    # Setup particle gun\n",
    "    pg = GetGun(particle_gun)\n",
    "    SetParticleByName(pg, \"e-\")\n",
    "    SetParticleEnergy(pg, 100MeV)\n",
    "    SetParticleMomentumDirection(pg, G4ThreeVector(0,0,1))\n",
    "    SetParticlePosition(pg, G4ThreeVector(0,0,-16cm))\n",
    "    # Register and relinquish ownership\n",
    "    SetUserAction(self, move!(particle_gun))\n",
    "end\n",
    "app = G4JLActionInitialization(buildApp)"
   ],
   "metadata": {},
   "execution_count": null
  },
  {
   "cell_type": "markdown",
   "source": [
    "## Instantiate RunManager and initialize"
   ],
   "metadata": {}
  },
  {
   "outputs": [],
   "cell_type": "code",
   "source": [
    "# Construct the default run manager and set initializers\n",
    "runManager = G4RunManager()\n",
    "\n",
    "# Register User initialization objects and relinquish ownership\n",
    "SetUserInitialization(runManager, move!(detctor))\n",
    "SetUserInitialization(runManager, move!(physics))\n",
    "SetUserInitialization(runManager, move!(app))\n",
    "\n",
    "# Get the pointer to the User Interface manager\n",
    "UImanager = G4UImanager!GetUIpointer();"
   ],
   "metadata": {},
   "execution_count": null
  },
  {
   "cell_type": "markdown",
   "source": [
    "## Execute the commands to initialize the simulation"
   ],
   "metadata": {}
  },
  {
   "outputs": [],
   "cell_type": "code",
   "source": [
    "# Initialize kernel\n",
    "ApplyCommand(UImanager, \"/run/initialize\")\n",
    "\n",
    "# Change verbosity\n",
    "#ApplyCommand(UImanager, \"/control/verbose 2\")\n",
    "#ApplyCommand(UImanager, \"/run/verbose 2\")\n",
    "#ApplyCommand(UImanager, \"/event/verbose 0\")\n",
    "ApplyCommand(UImanager, \"/tracking/verbose 1\")\n",
    "\n",
    "# gamma 6 MeV to the direction (0.,0.,1.)\n",
    "ApplyCommand(UImanager, \"/gun/particle gamma\")\n",
    "ApplyCommand(UImanager, \"/gun/energy 6 MeV\")\n",
    "\n",
    "# go\n",
    "ApplyCommand(UImanager, \"/run/beamOn 1\")"
   ],
   "metadata": {},
   "execution_count": null
  },
  {
   "cell_type": "markdown",
   "source": [
    "Change the energy and run again"
   ],
   "metadata": {}
  },
  {
   "outputs": [],
   "cell_type": "code",
   "source": [
    "ApplyCommand(UImanager, \"/gun/particle e+\")\n",
    "ApplyCommand(UImanager, \"/gun/energy 60 MeV\")\n",
    "ApplyCommand(UImanager, \"/run/beamOn 1\")"
   ],
   "metadata": {},
   "execution_count": null
  },
  {
   "cell_type": "markdown",
   "source": [
    "---\n",
    "\n",
    "*This notebook was generated using [Literate.jl](https://github.com/fredrikekre/Literate.jl).*"
   ],
   "metadata": {}
  }
 ],
 "nbformat_minor": 3,
 "metadata": {
  "language_info": {
   "file_extension": ".jl",
   "mimetype": "application/julia",
   "name": "julia",
   "version": "1.11.5"
  },
  "kernelspec": {
   "name": "julia-1.11",
   "display_name": "Julia 1.11.5",
   "language": "julia"
  }
 },
 "nbformat": 4
}
