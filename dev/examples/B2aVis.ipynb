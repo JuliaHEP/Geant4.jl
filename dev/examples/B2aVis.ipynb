{
 "cells": [
  {
   "cell_type": "markdown",
   "source": [
    "# Basic/B2a Event Display Example\n",
    "\n",
    "In this example is based on the Geant4 basic/B2 example of the\n",
    "Geant4 distribution. It is a simple example that shows how to\n",
    "interact with the Geant4 classes."
   ],
   "metadata": {}
  },
  {
   "cell_type": "markdown",
   "source": [
    "## Loading the necessary Julia modules\n",
    "Load the `Geant4` and `Geant4.SystemOfUnits` modules.\n",
    "In order to trigger the load of the G4Vis extension we need to load the\n",
    "following modules: `GLMakie`, `Rotations`, `LinearAlgebra`, `IGLWrap_jll`"
   ],
   "metadata": {}
  },
  {
   "outputs": [],
   "cell_type": "code",
   "source": [
    "using Geant4\n",
    "using Geant4.SystemOfUnits\n",
    "using CairoMakie, Rotations, LinearAlgebra, IGLWrap_jll  # to force loading G4Vis extension\n",
    "import DisplayAs: PNG"
   ],
   "metadata": {},
   "execution_count": null
  },
  {
   "cell_type": "markdown",
   "source": [
    "## Define Detector Parameters structure\n",
    "The `B2aDetector` structure is defined with the default detector parameters. We include the B2aDetector.jl file not to clutter the example."
   ],
   "metadata": {}
  },
  {
   "outputs": [],
   "cell_type": "code",
   "source": [
    "include(joinpath(@__DIR__, \"B2aDetector.jl\"))"
   ],
   "metadata": {},
   "execution_count": null
  },
  {
   "cell_type": "markdown",
   "source": [
    "## Particle Gun initialization"
   ],
   "metadata": {}
  },
  {
   "outputs": [],
   "cell_type": "code",
   "source": [
    "particlegun = G4JLGunGenerator(particle = \"proton\",\n",
    "                               energy = 3GeV,\n",
    "                               direction = G4ThreeVector(0,0,1),\n",
    "                               position = G4ThreeVector(0,0,-2940.0));"
   ],
   "metadata": {},
   "execution_count": null
  },
  {
   "cell_type": "markdown",
   "source": [
    "## Event Display\n",
    "To setup the event display we need to create an instance of the `G4JLEventDisplay` type. The file `B2aVisSettings.jl` contains\n",
    "the settings for the visualization."
   ],
   "metadata": {}
  },
  {
   "outputs": [],
   "cell_type": "code",
   "source": [
    "evtdisplay = G4JLEventDisplay(joinpath(@__DIR__, \"B2aVisSettings.jl\"));"
   ],
   "metadata": {},
   "execution_count": null
  },
  {
   "cell_type": "markdown",
   "source": [
    " ## Create the application"
   ],
   "metadata": {}
  },
  {
   "outputs": [],
   "cell_type": "code",
   "source": [
    "app = G4JLApplication(;detector = B2aDetector(nChambers=5),          ## detector with parameters\n",
    "                       generator = particlegun,                      ## primary particle generator\n",
    "                       physics_type = FTFP_BERT,                     ## what physics list to instantiate\n",
    "                       evtdisplay =  evtdisplay,                     ## detector and event visualization\n",
    "                      );\n",
    "# wait_for_key(prompt) = (print(stdout, prompt); read(stdin, 1); nothing)"
   ],
   "metadata": {},
   "execution_count": null
  },
  {
   "cell_type": "markdown",
   "source": [
    "## Configure, Initialize and Run"
   ],
   "metadata": {}
  },
  {
   "outputs": [],
   "cell_type": "code",
   "source": [
    "configure(app)\n",
    "initialize(app)"
   ],
   "metadata": {},
   "execution_count": null
  },
  {
   "cell_type": "markdown",
   "source": [
    "Display the detector geometry at this point"
   ],
   "metadata": {}
  },
  {
   "outputs": [],
   "cell_type": "code",
   "source": [
    "beamOn(app,0)  ## Needed to really initialize\n",
    "PNG(evtdisplay.figure)"
   ],
   "metadata": {},
   "execution_count": null
  },
  {
   "cell_type": "markdown",
   "source": [
    "Display the detector geometry with the first event"
   ],
   "metadata": {}
  },
  {
   "outputs": [],
   "cell_type": "code",
   "source": [
    "beamOn(app,1)\n",
    "PNG(evtdisplay.figure)"
   ],
   "metadata": {},
   "execution_count": null
  },
  {
   "cell_type": "markdown",
   "source": [
    "Display the detector geometry with the second event"
   ],
   "metadata": {}
  },
  {
   "outputs": [],
   "cell_type": "code",
   "source": [
    "beamOn(app,1)\n",
    "PNG(evtdisplay.figure)"
   ],
   "metadata": {},
   "execution_count": null
  },
  {
   "cell_type": "markdown",
   "source": [
    "---\n",
    "\n",
    "*This notebook was generated using [Literate.jl](https://github.com/fredrikekre/Literate.jl).*"
   ],
   "metadata": {}
  }
 ],
 "nbformat_minor": 3,
 "metadata": {
  "language_info": {
   "file_extension": ".jl",
   "mimetype": "application/julia",
   "name": "julia",
   "version": "1.11.6"
  },
  "kernelspec": {
   "name": "julia-1.11",
   "display_name": "Julia 1.11.6",
   "language": "julia"
  }
 },
 "nbformat": 4
}
