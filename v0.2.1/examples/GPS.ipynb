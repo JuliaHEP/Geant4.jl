{
 "cells": [
  {
   "cell_type": "markdown",
   "source": [
    "# Extended/GPS Example\n",
    "\n",
    "This example is to test the General Particle Source (GPS) in Geant4.jl.\n",
    "The GPS is a flexible and powerful tool to generate primary particles in Geant4.\n",
    "See the [G4GeneralParticleSource documentation](https://geant4-userdoc.web.cern.ch/UsersGuides/ForApplicationDeveloper/html/GettingStarted/generalParticleSource.html)\n",
    "for the definition of parameters."
   ],
   "metadata": {}
  },
  {
   "cell_type": "markdown",
   "source": [
    "## Loading the necessary Julia modules\n",
    "Load the `Geant4`, `Geant4.PhysicalConstants` and `Geant4.SystemOfUnits` modules. In addition we will use the `Parameters` module to handle the parameters of the detector.\n",
    "We will also use the `FHist` and `Plots` modules to handle the histograms and plots."
   ],
   "metadata": {}
  },
  {
   "outputs": [],
   "cell_type": "code",
   "source": [
    "using Geant4\n",
    "using Geant4.PhysicalConstants\n",
    "using Geant4.SystemOfUnits\n",
    "using Geant4.SystemOfUnits: deg\n",
    "using Parameters\n",
    "using FHist\n",
    "using Plots\n",
    "import DisplayAs: PNG"
   ],
   "metadata": {},
   "execution_count": null
  },
  {
   "cell_type": "markdown",
   "source": [
    "## Define the Detector\n",
    "The GPS detector is a simple box filled with air. The detector is defined by the `GPSDetector` structure.\n",
    "We include the GPSDetector.jl file not to clutter the example."
   ],
   "metadata": {}
  },
  {
   "outputs": [],
   "cell_type": "code",
   "source": [
    "include(joinpath(@__DIR__, \"GPSDetector.jl\"))"
   ],
   "metadata": {},
   "execution_count": null
  },
  {
   "cell_type": "markdown",
   "source": [
    "## Define the Simulation Data\n",
    "The simulation data structure `GPSSimData` consists of several histograms to store the\n",
    "simulation results."
   ],
   "metadata": {}
  },
  {
   "outputs": [],
   "cell_type": "code",
   "source": [
    "const nbins = 50\n",
    "@with_kw mutable struct GPSSimData <: G4JLSimulationData\n",
    "    hKEne     = H1D(\"Energy Spectrum\", nbins, 0., 15., :MeV)\n",
    "    hRad      = H1D(\"Radial ditribution\", nbins, 0., 10., :cm)\n",
    "    hAngcosθ  = H1D(\"Angular ditribution cosθ\", nbins, -1., 1.)\n",
    "    hAngϕ     = H1D(\"Angular distribution ϕ\", nbins, 0.,360., :deg)\n",
    "    hXYpos    = H2D(\"Source X-Y distribution\", nbins, -10., 10., nbins, -10., 10., (:cm, :cm))\n",
    "    hZXpos    = H2D(\"Source Z-X distribution\", nbins, -10., 10., nbins, -10., 10., (:cm, :cm))\n",
    "    hYZpos    = H2D(\"Source Y-Z distribution\", nbins, -10., 10., nbins, -10., 10., (:cm, :cm))\n",
    "    hcosθϕ    = H2D(\"Angular cos(θ)-ϕ distribution\", nbins, -1., 1., nbins, 0., 360., (:nounit, :deg))\n",
    "    hθϕ       = H2D(\"Angular θ-ϕ distribution\", nbins, 0., 180., nbins, 0., 360., (:deg, :deg))\n",
    "end"
   ],
   "metadata": {},
   "execution_count": null
  },
  {
   "cell_type": "markdown",
   "source": [
    "We define the function `merge!` and `empty!` functions to reduce the simulation results"
   ],
   "metadata": {}
  },
  {
   "outputs": [],
   "cell_type": "code",
   "source": [
    "function Base.merge!(x::D, y::D) where D <: G4JLSimulationData\n",
    "    for f in fieldnames(D)\n",
    "        merge!(getfield(x,f), getfield(y,f))\n",
    "    end\n",
    "end\n",
    "function Base.empty!(x::D) where D <: G4JLSimulationData\n",
    "    for f in fieldnames(D)\n",
    "        empty!(getfield(x,f))\n",
    "    end\n",
    "end"
   ],
   "metadata": {},
   "execution_count": null
  },
  {
   "cell_type": "markdown",
   "source": [
    "The function `do_plot` is defined to plot the histograms of the simulation data."
   ],
   "metadata": {}
  },
  {
   "outputs": [],
   "cell_type": "code",
   "source": [
    "function do_plot(data::GPSSimData)\n",
    "    img = Plots.plot(layout=(3,3), show=true, size=(1400,1000))\n",
    "    for (i,fn) in enumerate(fieldnames(GPSSimData))\n",
    "        h = getfield(data, fn)\n",
    "        Plots.plot!(subplot=i, h.hist, title=h.title, show=true, cgrad=:plasma)\n",
    "    end\n",
    "    return img\n",
    "end"
   ],
   "metadata": {},
   "execution_count": null
  },
  {
   "cell_type": "markdown",
   "source": [
    "## Define the Simulation Actions\n",
    "The simulation actions are defined by the `beginrun`, `endrun` and `pretrackaction` functions."
   ],
   "metadata": {}
  },
  {
   "outputs": [],
   "cell_type": "code",
   "source": [
    "function beginrun(::G4Run, app::G4JLApplication)::Nothing\n",
    "    data = getSIMdata(app)\n",
    "    empty!(data)\n",
    "    nothing\n",
    "end\n",
    "function endrun(::G4Run, app::G4JLApplication)::Nothing\n",
    "    # end run action is called for each workwer thread and the master one\n",
    "    if G4Threading!G4GetThreadId() < 0\n",
    "        data = app.simdata[1]\n",
    "        # this is the master thread, so we need to add all the simulation results\n",
    "        for d in app.simdata[2:end]\n",
    "            merge!(data, d)\n",
    "        end\n",
    "    end\n",
    "end\n",
    "function pretrackaction(track::G4Track, app::G4JLApplication)::Nothing\n",
    "    data = getSIMdata(app)\n",
    "    ekin = track |> GetKineticEnergy\n",
    "    vertex = track |> GetPosition\n",
    "    direction = track |> GetMomentumDirection\n",
    "    weight = track |> GetWeight\n",
    "\n",
    "    x = vertex |> getX\n",
    "    y = vertex |> getY\n",
    "    z = vertex |> getZ\n",
    "    θ = direction |> getTheta\n",
    "    ϕ = direction |> getPhi\n",
    "    ϕ < 0 &&  (ϕ += 2π)\n",
    "    r = vertex |> mag\n",
    "    dr = binedges(data.hRad.hist).uniform_edges.step |> Float64\n",
    "    dv = 4π * r^2 * dr\n",
    "\n",
    "    # fill histograms\n",
    "    push!(data.hKEne, ekin)\n",
    "    push!(data.hRad, r, 1.0/dv)\n",
    "    push!(data.hAngcosθ, cos(θ))\n",
    "    push!(data.hAngϕ, ϕ)\n",
    "    push!(data.hXYpos, x, y)\n",
    "    push!(data.hZXpos, z, x)\n",
    "    push!(data.hYZpos, y, z)\n",
    "    push!(data.hcosθϕ, cos(θ), ϕ)\n",
    "    push!(data.hθϕ, θ, ϕ)\n",
    "    nothing\n",
    "end;"
   ],
   "metadata": {},
   "execution_count": null
  },
  {
   "cell_type": "markdown",
   "source": [
    "## GPS initialization\n",
    "We define the GPS parameters and create the primary particle generator. This is equivalent\n",
    "to the particle gun in the previous examples."
   ],
   "metadata": {}
  },
  {
   "outputs": [],
   "cell_type": "code",
   "source": [
    "gps = G4JLGeneralParticleSource(particle = \"geantino\",\n",
    "                                energy = 10MeV,\n",
    "                                direction = G4ThreeVector(1,0,0),\n",
    "                                position = G4ThreeVector(1,2,1));"
   ],
   "metadata": {},
   "execution_count": null
  },
  {
   "cell_type": "markdown",
   "source": [
    "## Create the Application"
   ],
   "metadata": {}
  },
  {
   "outputs": [],
   "cell_type": "code",
   "source": [
    "app = G4JLApplication(detector = GPSDetector(),                   ## detector with parameters\n",
    "                      simdata = GPSSimData(),                     ## simulation data structure\n",
    "                      generator = gps,                            ## primary particle generator\n",
    "                      nthreads = VERSION > v\"1.9\" ? 4 : 0,        ## number of threads (MT)\n",
    "                      physics_type = FTFP_BERT,                   ## what physics list to instantiate\n",
    "                      ##----Actions--------------------------------\n",
    "                      pretrackaction_method = pretrackaction,     ## pre-tracking action\n",
    "                      beginrunaction_method = beginrun,           ## begin-run action (initialize counters and histograms)\n",
    "                      endrunaction_method = endrun,               ## end-run action (print summary)\n",
    "                      );"
   ],
   "metadata": {},
   "execution_count": null
  },
  {
   "cell_type": "markdown",
   "source": [
    "## Configure and Initialize"
   ],
   "metadata": {}
  },
  {
   "outputs": [],
   "cell_type": "code",
   "source": [
    "configure(app)\n",
    "initialize(app)"
   ],
   "metadata": {},
   "execution_count": null
  },
  {
   "cell_type": "markdown",
   "source": [
    "## Run the simulation\n",
    "We run the simulation with 100000 particles and plot the results."
   ],
   "metadata": {}
  },
  {
   "outputs": [],
   "cell_type": "code",
   "source": [
    "beamOn(app,100000)\n",
    "img = do_plot(app.simdata[1])\n",
    "PNG(img)"
   ],
   "metadata": {},
   "execution_count": null
  },
  {
   "cell_type": "markdown",
   "source": [
    "Let's change the GPS parameters and run the simulation again."
   ],
   "metadata": {}
  },
  {
   "outputs": [],
   "cell_type": "code",
   "source": [
    "ui`/gps/particle geantino`\n",
    "ui`/gps/pos/type Plane`\n",
    "ui`/gps/pos/shape Square`\n",
    "ui`/gps/pos/centre 1 2 1 cm`\n",
    "ui`/gps/pos/halfx 2 cm`\n",
    "ui`/gps/pos/halfy 2 cm`\n",
    "ui`/gps/ang/type cos`\n",
    "ui`/gps/ene/type Lin`\n",
    "ui`/gps/ene/min 2 MeV`\n",
    "ui`/gps/ene/max 10 MeV`\n",
    "ui`/gps/ene/gradient 1`\n",
    "ui`/gps/ene/intercept 1`\n",
    "\n",
    "beamOn(app,100000)\n",
    "img = do_plot(app.simdata[1])\n",
    "PNG(img)"
   ],
   "metadata": {},
   "execution_count": null
  },
  {
   "cell_type": "markdown",
   "source": [
    "---\n",
    "\n",
    "*This notebook was generated using [Literate.jl](https://github.com/fredrikekre/Literate.jl).*"
   ],
   "metadata": {}
  }
 ],
 "nbformat_minor": 3,
 "metadata": {
  "language_info": {
   "file_extension": ".jl",
   "mimetype": "application/julia",
   "name": "julia",
   "version": "1.11.2"
  },
  "kernelspec": {
   "name": "julia-1.11",
   "display_name": "Julia 1.11.2",
   "language": "julia"
  }
 },
 "nbformat": 4
}
