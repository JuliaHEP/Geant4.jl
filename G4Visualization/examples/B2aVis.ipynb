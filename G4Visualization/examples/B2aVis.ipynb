{
 "cells": [
  {
   "cell_type": "code",
   "execution_count": null,
   "id": "633484ee",
   "metadata": {},
   "outputs": [],
   "source": [
    "using Geant4\n",
    "using G4Visualization\n",
    "using Geant4.SystemOfUnits\n",
    "#---Choose the Makie backend\n",
    "#using GLMakie\n",
    "using WGLMakie\n",
    "#using CairoMakie\n",
    "using GeometryBasics"
   ]
  },
  {
   "cell_type": "code",
   "execution_count": null,
   "id": "ecc2fdcd",
   "metadata": {},
   "outputs": [],
   "source": [
    "include(joinpath(@__DIR__, \"../../examples/basic/B2/DetectorB2a.jl\"))"
   ]
  },
  {
   "cell_type": "code",
   "execution_count": null,
   "id": "cac2180f",
   "metadata": {},
   "outputs": [],
   "source": [
    "#---Define Simulation Data struct------------------------------------------------------------------\n",
    "mutable struct B2aSimData <: G4JLSimulationData\n",
    "  tracks::Vector{Vector{Point3{Float64}}}   # vector of vector of step positions\n",
    "end"
   ]
  },
  {
   "cell_type": "code",
   "execution_count": null,
   "id": "5ac19883",
   "metadata": {},
   "outputs": [],
   "source": [
    "#---Step action------------------------------------------------------------------------------------\n",
    "function stepaction(step::G4Step, app::G4JLApplication)::Nothing\n",
    "  tracks = app.simdata.tracks\n",
    "  p = GetPosition(GetPostStepPoint(step))\n",
    "  push!(tracks[end], Point3{Float64}(x(p),y(p),z(p)))\n",
    "  return\n",
    "end\n",
    "#---Tracking pre-action---------------------------------------------------------------------------- \n",
    "function pretrackaction(track::G4Track, app::G4JLApplication)::Nothing\n",
    "  tracks = app.simdata.tracks\n",
    "  p = GetPosition(track)[]\n",
    "  push!(tracks, [Point3{Float64}(x(p),y(p),z(p))])\n",
    "  return\n",
    "end\n",
    "#---begin-event-action---------------------------------------------------------------------------- \n",
    "function beginevent(::G4Event, app::G4JLApplication)::Nothing\n",
    "  empty!(app.simdata.tracks)\n",
    "  return\n",
    "end"
   ]
  },
  {
   "cell_type": "code",
   "execution_count": null,
   "id": "610d9335",
   "metadata": {},
   "outputs": [],
   "source": [
    "#---Particle Gun initialization--------------------------------------------------------------------\n",
    "function gun_initialize(gen::G4JLParticleGun, det::G4JLDetector)\n",
    "  pg = GetGun(gen)\n",
    "  SetParticleByName(pg, \"proton\")\n",
    "  SetParticleEnergy(pg, 3GeV)\n",
    "  SetParticleMomentumDirection(pg, G4ThreeVector(0,0,1))\n",
    "  SetParticlePosition(pg, G4ThreeVector(0, 0, -det.worldZHalfLength))\n",
    "end\n",
    "Geant4.getInitializer(::G4JLParticleGun) = gun_initialize"
   ]
  },
  {
   "cell_type": "code",
   "execution_count": null,
   "id": "91e53279",
   "metadata": {},
   "outputs": [],
   "source": [
    "#---Create the Application-------------------------------------------------------------------------\n",
    "app = G4JLApplication(detector=B2aDetector(nChambers=5),          # detector with parameters\n",
    "                      simdata = B2aSimData([]),                   # simulation data structure\n",
    "                      runmanager_type = G4RunManager,             # what RunManager to instantiate\n",
    "                      physics_type = FTFP_BERT,                   # what physics list to instantiate\n",
    "                      generator_type = G4JLParticleGun,           # what primary generator to instantiate\n",
    "                      stepaction_method = stepaction,             # step action method\n",
    "                      begineventaction_method = beginevent,       # begin-event action (initialize per-event data)\n",
    "                      pretrackaction_method = pretrackaction)     # pre-tracking action\n",
    "              \n",
    "#---Configure, Initialize and Run------------------------------------------------------------------                      \n",
    "configure(app)\n",
    "initialize(app)\n",
    "beamOn(app, 8)"
   ]
  },
  {
   "cell_type": "code",
   "execution_count": null,
   "id": "c9a63ed5",
   "metadata": {},
   "outputs": [],
   "source": [
    "world = GetWorldVolume()\n",
    "tracks = app.simdata.tracks;"
   ]
  },
  {
   "cell_type": "code",
   "execution_count": null,
   "id": "d65fc5c0",
   "metadata": {},
   "outputs": [],
   "source": [
    "beamOn(app, 1)\n",
    "\n",
    "fig = Figure(resolution=(1024,1024))\n",
    "s = LScene(fig[1,1])\n",
    "draw!(s, world)\n",
    "for t in tracks\n",
    "    lines!(t)\n",
    "end\n",
    "display(fig)"
   ]
  },
  {
   "cell_type": "code",
   "execution_count": null,
   "id": "827de0f2",
   "metadata": {},
   "outputs": [],
   "source": []
  }
 ],
 "metadata": {
  "kernelspec": {
   "display_name": "Julia 1.9.0",
   "language": "julia",
   "name": "julia-1.9"
  },
  "language_info": {
   "file_extension": ".jl",
   "mimetype": "application/julia",
   "name": "julia",
   "version": "1.9.0"
  }
 },
 "nbformat": 4,
 "nbformat_minor": 5
}
