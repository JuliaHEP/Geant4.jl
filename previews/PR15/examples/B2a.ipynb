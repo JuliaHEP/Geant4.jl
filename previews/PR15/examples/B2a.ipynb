{
 "cells": [
  {
   "cell_type": "markdown",
   "source": [
    "# Basic/B2a Example\n",
    "\n",
    "In this example is based on the Geant4 basic/B2 example of the\n",
    "Geant4 distribution. It is a simple example that shows how to\n",
    "interact with the Geant4 classes."
   ],
   "metadata": {}
  },
  {
   "cell_type": "markdown",
   "source": [
    "## Loading the necessary Julia modules\n",
    "Load the `Geant4` and `Geant4.SystemOfUnits` modules.\n",
    "We will also use the `Printf` and `GeometryBasics` modules to format the output and handle the geometry.ß"
   ],
   "metadata": {}
  },
  {
   "outputs": [],
   "cell_type": "code",
   "source": [
    "using Geant4\n",
    "using Geant4.SystemOfUnits\n",
    "using Printf, GeometryBasics"
   ],
   "metadata": {},
   "execution_count": null
  },
  {
   "cell_type": "markdown",
   "source": [
    "## Define Detector Parameters structure\n",
    "The `B2aDetector` structure is defined with the default detector parameters. We include the B2aDetector.jl file not to clutter the example."
   ],
   "metadata": {}
  },
  {
   "outputs": [],
   "cell_type": "code",
   "source": [
    "include(joinpath(@__DIR__, \"B2aDetector.jl\"))"
   ],
   "metadata": {},
   "execution_count": null
  },
  {
   "cell_type": "markdown",
   "source": [
    "## Define Tracker Hit\n",
    "We will extract the hits from the tracker and store them in a `TrackerHit` structure that ius custom defined"
   ],
   "metadata": {}
  },
  {
   "outputs": [],
   "cell_type": "code",
   "source": [
    "struct TrackerHit\n",
    "  trackID::Int32\n",
    "  chamberNb::Int32\n",
    "  edep::Float64\n",
    "  pos::Point3{Float64}\n",
    "end"
   ],
   "metadata": {},
   "execution_count": null
  },
  {
   "cell_type": "markdown",
   "source": [
    "Providing a custom `Base.show` method to print the hits in a nice way"
   ],
   "metadata": {}
  },
  {
   "outputs": [],
   "cell_type": "code",
   "source": [
    "function Base.show(io::IO, hit::TrackerHit)\n",
    "  (;trackID, chamberNb, edep, pos) = hit\n",
    "  @printf(io, \"\\ntrackID: %3d chamberNb: %2d Edep: %.3f MeV Position: (%3f, %3f, %3f)\", trackID, chamberNb, edep/MeV, pos...)\n",
    "end"
   ],
   "metadata": {},
   "execution_count": null
  },
  {
   "cell_type": "markdown",
   "source": [
    "## Define Sensitive Detector\n",
    "First we define the data structure that will hold the hits. In this case we will store the hits in a vector of `TrackerHit` structures."
   ],
   "metadata": {}
  },
  {
   "outputs": [],
   "cell_type": "code",
   "source": [
    "struct B2aSDData <: G4JLSDData\n",
    "  trackerHits::Vector{TrackerHit}\n",
    "  B2aSDData() = new([])\n",
    "end"
   ],
   "metadata": {},
   "execution_count": null
  },
  {
   "cell_type": "markdown",
   "source": [
    "Then we define the methods that will be called by the Geant4 simulation `_initialize` (to initialize),\n",
    "`_endOfEvent` (at the end of the event) and `_processHits` (called when a hit is detected in that sensitive detector)"
   ],
   "metadata": {}
  },
  {
   "outputs": [],
   "cell_type": "code",
   "source": [
    "# Initialize method\n",
    "function _initialize(::G4HCofThisEvent, data::B2aSDData)::Nothing\n",
    "  empty!(data.trackerHits)\n",
    "  return\n",
    "end\n",
    "# End of event method\n",
    "function _endOfEvent(::G4HCofThisEvent, data::B2aSDData)::Nothing\n",
    "  return\n",
    "end\n",
    "# Process Hit method\n",
    "function _processHits(step::G4Step, ::G4TouchableHistory, data::B2aSDData)::Bool\n",
    "  edep = step |> GetTotalEnergyDeposit\n",
    "  edep <  0. && return false\n",
    "  pos = step |> GetPostStepPoint |> GetPosition\n",
    "  push!(data.trackerHits, TrackerHit(step |> GetTrack |> GetTrackID,\n",
    "                                     step |> GetPreStepPoint |> GetTouchable |> GetCopyNumber,\n",
    "                                     edep,\n",
    "                                     Point3{Float64}(x(pos),y(pos),z(pos))))\n",
    "  return true\n",
    "end"
   ],
   "metadata": {},
   "execution_count": null
  },
  {
   "cell_type": "markdown",
   "source": [
    "Finally, create the sensitive detector instance of the type `G4JLSensitiveDetector` with the name `Chamber_SD` and\n",
    "the associated data structure `B2aSDData`. The three previously defined methods are passed as arguments to the constructor."
   ],
   "metadata": {}
  },
  {
   "outputs": [],
   "cell_type": "code",
   "source": [
    "chamber_SD = G4JLSensitiveDetector(\"Chamber_SD\", B2aSDData();           ## SD name an associated data are mandatory\n",
    "                                    processhits_method=_processHits,    ## process hist method (also mandatory)\n",
    "                                    initialize_method=_initialize,      ## intialize method\n",
    "                                    endofevent_method=_endOfEvent)      ## end of event method"
   ],
   "metadata": {},
   "execution_count": null
  },
  {
   "cell_type": "markdown",
   "source": [
    "## Define End Event Action\n",
    "This user function will be called at the end of each event. It will print the number of hits in the tracker for each event."
   ],
   "metadata": {}
  },
  {
   "outputs": [],
   "cell_type": "code",
   "source": [
    "function endeventaction(evt::G4Event, app::G4JLApplication)\n",
    "  hits = getSDdata(app, \"Chamber_SD\").trackerHits\n",
    "  eventID = evt |> GetEventID\n",
    "  if eventID < 10 || eventID % 1000 == 0\n",
    "    G4JL_println(\"Event: $eventID with $(length(hits)) hits stored in this event\")\n",
    "  end\n",
    "  return\n",
    "end"
   ],
   "metadata": {},
   "execution_count": null
  },
  {
   "cell_type": "markdown",
   "source": [
    "## Particle Gun initialization"
   ],
   "metadata": {}
  },
  {
   "outputs": [],
   "cell_type": "code",
   "source": [
    "particlegun = G4JLGunGenerator(particle = \"proton\",\n",
    "                               energy = 3GeV,\n",
    "                               direction = G4ThreeVector(0,0,1),\n",
    "                               position = G4ThreeVector(0,0,-2940.0))"
   ],
   "metadata": {},
   "execution_count": null
  },
  {
   "cell_type": "markdown",
   "source": [
    "## Define Physics List\n",
    "We define a new physics list that is based on the `FTFP_BERT` physics list and adds\n",
    "a `G4StepLimiterPhysics` to limit the step length of the particles."
   ],
   "metadata": {}
  },
  {
   "outputs": [],
   "cell_type": "code",
   "source": [
    "struct B2PhysicsList <: G4VUserPhysicsList\n",
    "  function B2PhysicsList(verbose)\n",
    "      pl = FTFP_BERT(verbose)\n",
    "      lp = G4StepLimiterPhysics()\n",
    "      SetApplyToAll(lp, true)            ## Apply to all particles\n",
    "      RegisterPhysics(pl, move!(lp))     ## Register to the physics list\n",
    "      return pl                          ## We need to return the physics list instance\n",
    "  end\n",
    "end"
   ],
   "metadata": {},
   "execution_count": null
  },
  {
   "cell_type": "markdown",
   "source": [
    "## Create the Application\n",
    "We put all together in the `G4JLApplication` structure. We define the detector, the primary generator, the number of threads,\n",
    "the physics list, the end event action and the sensitive detectors."
   ],
   "metadata": {}
  },
  {
   "outputs": [],
   "cell_type": "code",
   "source": [
    "app = G4JLApplication(;detector = B2aDetector(nChambers=5),          ## detector with parameters\n",
    "                       generator = particlegun,                      ## primary particle generator\n",
    "                       nthreads = 0,                                 ## # of threads (0 = no MT)\n",
    "                       physics_type = B2PhysicsList,                 ## what physics list to instantiate\n",
    "                       endeventaction_method = endeventaction,       ## end event action\n",
    "                       sdetectors = [\"Chamber_LV+\" => chamber_SD]    ## mapping of LVs to SDs (+ means multiple LVs with same name)\n",
    "                      )"
   ],
   "metadata": {},
   "execution_count": null
  },
  {
   "cell_type": "markdown",
   "source": [
    "## Configure, Initialize and Run"
   ],
   "metadata": {}
  },
  {
   "outputs": [],
   "cell_type": "code",
   "source": [
    "configure(app)\n",
    "initialize(app)"
   ],
   "metadata": {},
   "execution_count": null
  },
  {
   "cell_type": "markdown",
   "source": [
    "## Run the simulation"
   ],
   "metadata": {}
  },
  {
   "outputs": [],
   "cell_type": "code",
   "source": [
    "# ui`/tracking/verbose 1`\n",
    "beamOn(app,100)"
   ],
   "metadata": {},
   "execution_count": null
  },
  {
   "cell_type": "markdown",
   "source": [
    "---\n",
    "\n",
    "*This notebook was generated using [Literate.jl](https://github.com/fredrikekre/Literate.jl).*"
   ],
   "metadata": {}
  }
 ],
 "nbformat_minor": 3,
 "metadata": {
  "language_info": {
   "file_extension": ".jl",
   "mimetype": "application/julia",
   "name": "julia",
   "version": "1.11.1"
  },
  "kernelspec": {
   "name": "julia-1.11",
   "display_name": "Julia 1.11.1",
   "language": "julia"
  }
 },
 "nbformat": 4
}
