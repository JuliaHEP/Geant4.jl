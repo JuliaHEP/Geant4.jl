{
 "cells": [
  {
   "cell_type": "markdown",
   "source": [
    "# CERN Liquid Hydrogen Bubble Chamber\n",
    "\n",
    "Example to simulate the CERN 30cm bubble chamber fill with liquid hydrogen and using a pion beam of 330 MeV from PS. The original device was like this:\n",
    "\n",
    "![](https://upload.wikimedia.org/wikipedia/commons/thumb/a/aa/30_cm_bubble_chamber.jpg/447px-30_cm_bubble_chamber.jpg)"
   ],
   "metadata": {}
  },
  {
   "cell_type": "markdown",
   "source": [
    "## Loading the necessary Julia modules\n",
    "- `Geant4` and `Geant4.SystemOfUnits` for the Geant4 simulation\n",
    "- `Printf` and `GeometryBasics` to format the output and handle the geometry"
   ],
   "metadata": {}
  },
  {
   "outputs": [],
   "cell_type": "code",
   "source": [
    "using Geant4\n",
    "using Geant4.SystemOfUnits\n",
    "using Printf, GeometryBasics\n",
    "using CairoMakie, Rotations, LinearAlgebra, IGLWrap_jll  # to force loading G4Vis extension\n",
    "import DisplayAs: PNG #hide"
   ],
   "metadata": {},
   "execution_count": null
  },
  {
   "cell_type": "markdown",
   "source": [
    "## Define the Detector\n",
    "The HBC30 is cylinder of 30cm filled with liquid hydrogen\n",
    "We include the HBC30Detector.jl file not to clutter the example."
   ],
   "metadata": {}
  },
  {
   "outputs": [],
   "cell_type": "code",
   "source": [
    "include(joinpath(@__DIR__, \"HBC30Detector.jl\"))\n",
    "hbc30 = HBC30()"
   ],
   "metadata": {},
   "execution_count": null
  },
  {
   "cell_type": "markdown",
   "source": [
    "## Define the simulation data\n",
    "The data structure `HBC30SimData` will be filled by the user actions at the correct moment during\n",
    "the simulation. We collect the points for each track at the step boundaries together with the\n",
    "initial kinetic energy and particle name and charge."
   ],
   "metadata": {}
  },
  {
   "outputs": [],
   "cell_type": "code",
   "source": [
    "##---Define Simulation Data struct------------------------------------------------------------------\n",
    "struct Track\n",
    "    particle::String\n",
    "    charge::Int\n",
    "    energy::Float64\n",
    "    points::Vector{Point3{Float64}}\n",
    "end\n",
    "mutable struct HBC30SimData <: G4JLSimulationData\n",
    "    ##---Run data-----------------------------------------------------------------------------------\n",
    "    fParticle::String\n",
    "    fEkin::Float64\n",
    "    ##---trigger/veto-------------------------------------------------------------------------------\n",
    "    veto::Bool\n",
    "    ##---tracks-------------------------------------------------------------------------------------\n",
    "    tracks::Vector{Track}\n",
    "    HBC30SimData() = new(\"\", 0.0, false, [])\n",
    "end"
   ],
   "metadata": {},
   "execution_count": null
  },
  {
   "cell_type": "markdown",
   "source": [
    "## Define the user actions\n",
    "\n",
    "- **beginrun** stores the particle type and initial kinetic energy of the generated primary particle\n",
    "- **beginevent** clear the trigger `veto` and the list of tracks for the current event\n",
    "- **pretrackaction** pushes a new `Track` with the particle name, charge, intial energy and initial point\n",
    "- **posttackactkion** is used exclusevily to set the `veto` if the initial particle exists the world without a sizeable interaction\n",
    "- **stepaction** pushes points to the latest `Track` in the track list"
   ],
   "metadata": {}
  },
  {
   "outputs": [],
   "cell_type": "code",
   "source": [
    "##---Step action------------------------------------------------------------------------------------\n",
    "function stepaction(step::G4Step, app::G4JLApplication)::Nothing\n",
    "    tracks = getSIMdata(app).tracks\n",
    "    p = step |> GetPostStepPoint |> GetPosition\n",
    "    auxpoints = step |> GetPointerToVectorOfAuxiliaryPoints\n",
    "    if auxpoints != C_NULL\n",
    "        for ap in auxpoints\n",
    "            push!(tracks[end].points, Point3{Float64}(x(ap),y(ap),z(ap)))\n",
    "        end\n",
    "    end\n",
    "    push!(tracks[end].points, Point3{Float64}(x(p),y(p),z(p)))\n",
    "    return\n",
    "end\n",
    "##---Tracking pre-action----------------------------------------------------------------------------\n",
    "function pretrackaction(track::G4Track, app::G4JLApplication)::Nothing\n",
    "    tracks = getSIMdata(app).tracks\n",
    "    p = GetPosition(track)[]\n",
    "    particle = track |> GetParticleDefinition\n",
    "    name = particle |> GetParticleName |> String\n",
    "    charge = particle |> GetPDGCharge |> Int\n",
    "    energy = track |> GetKineticEnergy\n",
    "    push!(tracks, Track(name, charge, energy, [Point3{Float64}(x(p),y(p),z(p))]))\n",
    "    return\n",
    "end\n",
    "##---Tracking post-action----------------------------------------------------------------------------\n",
    "function posttrackaction(track::G4Track, app::G4JLApplication)::Nothing\n",
    "    data = getSIMdata(app)\n",
    "    id = track |> GetTrackID\n",
    "    energy = track |> GetKineticEnergy\n",
    "    if id == 1 && energy > 0.80 * data.fEkin # primary particle did not losse any energy\n",
    "        if track |> GetStep |> GetPostStepPoint |> GetPhysicalVolume == C_NULL  # Only if outside world\n",
    "            data.veto = true\n",
    "        end\n",
    "    end\n",
    "    return\n",
    "end\n",
    "##---Begin-event-action----------------------------------------------------------------------------\n",
    "function beginevent(::G4Event, app::G4JLApplication)::Nothing\n",
    "    data = getSIMdata(app)\n",
    "    data.veto = false\n",
    "    empty!(data.tracks)\n",
    "    return\n",
    "end\n",
    "##---Begin Run Action-------------------------------------------------------------------------------\n",
    "function beginrun(run::G4Run, app::G4JLApplication)::Nothing\n",
    "    data = getSIMdata(app)\n",
    "    gun = app.generator.data.gun\n",
    "    data.fParticle = gun |> GetParticleDefinition |> GetParticleName |> String\n",
    "    data.fEkin = gun |> GetParticleEnergy\n",
    "    return\n",
    "end;"
   ],
   "metadata": {},
   "execution_count": null
  },
  {
   "cell_type": "markdown",
   "source": [
    "## Define the primary particle generator"
   ],
   "metadata": {}
  },
  {
   "outputs": [],
   "cell_type": "code",
   "source": [
    "import Geant4.SystemOfUnits:tesla\n",
    "particlegun = G4JLGunGenerator(particle = \"pi+\",\n",
    "                               energy = 330MeV,\n",
    "                               direction = G4ThreeVector(0,-1,0),\n",
    "                               position = G4ThreeVector(0, hbc30.worldZHalfLength,0));"
   ],
   "metadata": {},
   "execution_count": null
  },
  {
   "cell_type": "markdown",
   "source": [
    "## Create Magnetic Field"
   ],
   "metadata": {}
  },
  {
   "outputs": [],
   "cell_type": "code",
   "source": [
    "bfield = G4JLUniformMagField(G4ThreeVector(0,0, 1.5tesla));"
   ],
   "metadata": {},
   "execution_count": null
  },
  {
   "cell_type": "markdown",
   "source": [
    "## Create the Application"
   ],
   "metadata": {}
  },
  {
   "outputs": [],
   "cell_type": "code",
   "source": [
    "app = G4JLApplication(; detector = hbc30,                             # detector with parameters\n",
    "                        simdata = HBC30SimData(),                     # simulation data structure\n",
    "                        generator = particlegun,                      # primary particle generator\n",
    "                        field = bfield,                               # uniform magnetic field\n",
    "                        nthreads = 0,                                 # # of threads (0 = no MT)\n",
    "                        physics_type = FTFP_BERT,                     # what physics list to instantiate\n",
    "                        stepaction_method = stepaction,               # step action method\n",
    "                        begineventaction_method = beginevent,         # begin-event action (initialize per-event data)\n",
    "                        pretrackaction_method = pretrackaction,       # pre-tracking action\n",
    "                        posttrackaction_method = posttrackaction,     # post-tracking action\n",
    "                        beginrunaction_method = beginrun              # begin run action\n",
    "                      );"
   ],
   "metadata": {},
   "execution_count": null
  },
  {
   "cell_type": "markdown",
   "source": [
    "## Draw and trigger functions"
   ],
   "metadata": {}
  },
  {
   "outputs": [],
   "cell_type": "code",
   "source": [
    "# Draw detector\n",
    "function drawdetector(s, app)\n",
    "    world = GetWorldVolume()\n",
    "    Geant4.draw!(s, world)\n",
    "end\n",
    "# Draw event\n",
    "function drawevent(s, app)\n",
    "    data = app.simdata[1]\n",
    "    # clear previous plots from previous event\n",
    "    tobe = [p for p in plots(s) if p isa Lines || p isa Makie.Text]  # The event is made of lines and text\n",
    "    for p in tobe\n",
    "        delete!(s,p)\n",
    "    end\n",
    "    # draw new event\n",
    "    for t in data.tracks\n",
    "        style = abs(t.charge) > 0. ? :solid : :dot\n",
    "        lines!(s, t.points, linestyle=style)\n",
    "        if t.energy > data.fEkin/20\n",
    "            text!(s, t.points[end], text=t.particle)\n",
    "        end\n",
    "    end\n",
    "end\n",
    "\n",
    "# Very simplistic trigger to get interesting events to plot\n",
    "function nexttrigger(app)\n",
    "    data = app.simdata[1]\n",
    "    beamOn(app,1)\n",
    "    n = 1\n",
    "    while data.veto\n",
    "        beamOn(app,1)\n",
    "        n += 1\n",
    "    end\n",
    "    println(\"Got a trigger after $n generated particles\")\n",
    "end;"
   ],
   "metadata": {},
   "execution_count": null
  },
  {
   "cell_type": "markdown",
   "source": [
    "## Configure and Initialize"
   ],
   "metadata": {}
  },
  {
   "outputs": [],
   "cell_type": "code",
   "source": [
    "configure(app)\n",
    "initialize(app)\n",
    "\n",
    "ui`/tracking/storeTrajectory 2` ## store auxiliary points to smooth the trajectory"
   ],
   "metadata": {},
   "execution_count": null
  },
  {
   "cell_type": "markdown",
   "source": [
    "## Draw detector and first event that triggers"
   ],
   "metadata": {}
  },
  {
   "outputs": [],
   "cell_type": "code",
   "source": [
    "fig = Figure(size=(2048,2028))\n",
    "s = LScene(fig[1,1])\n",
    "\n",
    "drawdetector(s, app)\n",
    "nexttrigger(app); drawevent(s, app)\n",
    "\n",
    "PNG(fig)"
   ],
   "metadata": {},
   "execution_count": null
  },
  {
   "cell_type": "markdown",
   "source": [
    "Change the energy and type of particle and draw the next event that triggers"
   ],
   "metadata": {}
  },
  {
   "outputs": [],
   "cell_type": "code",
   "source": [
    "SetParticleEnergy(particlegun, 1GeV)\n",
    "SetParticleByName(particlegun, \"e-\")\n",
    "\n",
    "fig = Figure(size=(2048,2028))\n",
    "s = LScene(fig[1,1])\n",
    "\n",
    "drawdetector(s, app)\n",
    "nexttrigger(app); drawevent(s, app)\n",
    "\n",
    "PNG(fig)"
   ],
   "metadata": {},
   "execution_count": null
  },
  {
   "cell_type": "markdown",
   "source": [
    "---\n",
    "\n",
    "*This notebook was generated using [Literate.jl](https://github.com/fredrikekre/Literate.jl).*"
   ],
   "metadata": {}
  }
 ],
 "nbformat_minor": 3,
 "metadata": {
  "language_info": {
   "file_extension": ".jl",
   "mimetype": "application/julia",
   "name": "julia",
   "version": "1.11.5"
  },
  "kernelspec": {
   "name": "julia-1.11",
   "display_name": "Julia 1.11.5",
   "language": "julia"
  }
 },
 "nbformat": 4
}
