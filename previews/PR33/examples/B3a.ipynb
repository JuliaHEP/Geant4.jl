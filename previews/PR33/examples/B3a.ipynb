{
 "cells": [
  {
   "cell_type": "markdown",
   "source": [
    "# Basic/B3a Example\n",
    "\n",
    "This example simulates schematically a Positron Emitted Tomography system. It is equivalent to\n",
    "the B3a example in Geant4 but re-written with a new more\n",
    "Julia friendly interface. See [README](https://raw.githubusercontent.com/Geant4/geant4/master/examples/basic/B3/README)\n",
    "file for the example."
   ],
   "metadata": {}
  },
  {
   "cell_type": "markdown",
   "source": [
    "## Loading the necessary Julia modules\n",
    "Load the `Geant4` and `Geant4.SystemOfUnits` modules."
   ],
   "metadata": {}
  },
  {
   "outputs": [],
   "cell_type": "code",
   "source": [
    "using Geant4\n",
    "using Geant4.SystemOfUnits:  cm, cm3, mm, pGy, eplus, keV, g, eV"
   ],
   "metadata": {},
   "execution_count": null
  },
  {
   "cell_type": "markdown",
   "source": [
    "## Define Detector Parameters struct\n",
    "The `B3Detector` structure is defined with the default detector parameters.\n",
    "We include the B3Detector.jl file not to clutter the example."
   ],
   "metadata": {}
  },
  {
   "outputs": [],
   "cell_type": "code",
   "source": [
    "include(joinpath(@__DIR__, \"B3Detector.jl\"))"
   ],
   "metadata": {},
   "execution_count": null
  },
  {
   "cell_type": "markdown",
   "source": [
    "## Defile Physics List\n",
    "The `B3aPhysics` structure is defined with the default physics list for the B3a example. It is\n",
    "composed of the default physics, the electromagnetic physics and the radioactive decay physics.\n",
    "The `RegisterPhysics` function is used to register the physics processes in the physics list.\n",
    "The `move!` function is used to move the ownership of the physics list to the `G4VUserPhysicsList`\n",
    "type. It returns a pointer to the physics list."
   ],
   "metadata": {}
  },
  {
   "outputs": [],
   "cell_type": "code",
   "source": [
    "struct B3aPhysics <: G4VUserPhysicsList\n",
    "    function B3aPhysics(verbose)\n",
    "        pl = G4VModularPhysicsList()\n",
    "        RegisterPhysics(pl, move!(G4DecayPhysics(verbose)))            ## Default physics\n",
    "        RegisterPhysics(pl, move!(G4EmStandardPhysics(verbose)))       ## EM physics\n",
    "        RegisterPhysics(pl, move!(G4RadioactiveDecayPhysics(verbose))) ## Radioactive decay\n",
    "        return pl\n",
    "    end\n",
    "end"
   ],
   "metadata": {},
   "execution_count": null
  },
  {
   "cell_type": "markdown",
   "source": [
    "## Define Primary Particle Generator\n",
    "This is the primary particle generator for the B3a example. It generates a ion beam\n",
    "of 0 energy from a random position inside a cube shaped volume. The user parameter\n",
    "type `B3aGeneratorData` is defined with the default generator parameters. The functions\n",
    "`_gen` and `_init` are defined to generate the primary particles and to initialize the\n",
    "generator, respectively. Finally, the `B3aGenerator` function is defined to instantiate\n",
    "an instance of the `G4JLPrimaryGenerator` type."
   ],
   "metadata": {}
  },
  {
   "outputs": [],
   "cell_type": "code",
   "source": [
    "@with_kw mutable struct B3aGeneratorData <: G4JLGeneratorData\n",
    "    gun::Union{Nothing, CxxPtr{G4ParticleGun}} = nothing\n",
    "    ion::Union{Nothing, CxxPtr{G4ParticleDefinition}} = nothing\n",
    "    Z::Int64 = 9\n",
    "    A::Int64 = 18\n",
    "    ionCharge::Float64 = 0eplus\n",
    "    excitEnergy::Float64 = 0keV\n",
    "    position::G4ThreeVector = G4ThreeVector(4cm,4cm,4cm)\n",
    "    direction::G4ThreeVector = G4ThreeVector(1,0,0)\n",
    "end\n",
    "function B3aGenerator(;kwargs...)\n",
    "    data = B3aGeneratorData(;kwargs...)\n",
    "    function _init(data::B3aGeneratorData, ::Any)\n",
    "        gun = data.gun = move!(G4ParticleGun())\n",
    "        SetParticleMomentumDirection(gun, G4ThreeVector(1,0,0))\n",
    "        SetParticleEnergy(gun, 1eV)\n",
    "    end\n",
    "    function _gen(evt::G4Event, data::B3aGeneratorData)::Nothing\n",
    "        if isnothing(data.ion)  # late initialize (after physics processes)\n",
    "            ion = data.ion = GetIon(data.Z, data.A, data.excitEnergy)\n",
    "            SetParticleDefinition(data.gun, ion)\n",
    "            SetParticleCharge(data.gun, data.ionCharge)\n",
    "        end\n",
    "        position = data.position + G4ThreeVector((rand()-0.5)*1cm, (rand()-0.5)*1cm, (rand()-0.5)*1cm)\n",
    "        SetParticlePosition(data.gun, position)\n",
    "        GeneratePrimaryVertex(data.gun, CxxPtr(evt))\n",
    "    end\n",
    "    G4JLPrimaryGenerator(\"B3aGenerator\", data; init_method=_init, generate_method=_gen)\n",
    "end;"
   ],
   "metadata": {},
   "execution_count": null
  },
  {
   "cell_type": "markdown",
   "source": [
    "## Define Simulation Data\n",
    "The `SimDataB3a` structure is defined to collect the simulation data during the execution of a\n",
    "run. The `add!` function is defined to add (i.e. reduce) the data from one instance to another when\n",
    "running in multi-threading mode. In this case we have only two counters for the number of good events\n",
    "and the sum of the dose of the patient."
   ],
   "metadata": {}
  },
  {
   "outputs": [],
   "cell_type": "code",
   "source": [
    "mutable struct SimDataB3a <: G4JLSimulationData\n",
    "    ##---Run data\n",
    "    goodEvents::Int64\n",
    "    sumDose::Float64\n",
    "    SimDataB3a() = new(0,0)\n",
    "end\n",
    "function add!(x::SimDataB3a, y::SimDataB3a)\n",
    "    x.goodEvents += y.goodEvents\n",
    "    x.sumDose += y.sumDose\n",
    "end"
   ],
   "metadata": {},
   "execution_count": null
  },
  {
   "cell_type": "markdown",
   "source": [
    "## Define Sensitive Detectors\n",
    "The B3a example has two sensitive detectors. One is for the crystal and the other for the patient.\n",
    "Each one has an associated data structure. The `CrystalData` structure is defined to collect the energy\n",
    "deposited in each crystal. The `PatientData` structure is defined to collect the dose in the patient."
   ],
   "metadata": {}
  },
  {
   "outputs": [],
   "cell_type": "code",
   "source": [
    "# Crystal sensitive detector\n",
    "struct CrystalData <: G4JLSDData\n",
    "    edep::Dict{Int64,Float64} # (CopyNo, Edep)\n",
    "    CrystalData() = new(Dict{Int64,Float64}())\n",
    "end\n",
    "function c_initialize(::G4HCofThisEvent, data::CrystalData)::Nothing\n",
    "    empty!(data.edep)\n",
    "    return\n",
    "end\n",
    "function c_processHits(step::G4Step, ::G4TouchableHistory, data::CrystalData)::Bool\n",
    "    edep = step |> GetTotalEnergyDeposit\n",
    "    edep <  0. && return false\n",
    "    copy = step |> GetPreStepPoint |> GetTouchable |> GetCopyNumber\n",
    "    data.edep[copy] = haskey(data.edep, copy) ? data.edep[copy] + edep : edep\n",
    "    return true\n",
    "end\n",
    "# Create SD instance\n",
    "crystalSD = G4JLSensitiveDetector(\"CrystalSD\", CrystalData();          ## SD name an associated data are mandatory\n",
    "                                   processhits_method=c_processHits,   ## process hist method (also mandatory)\n",
    "                                   initialize_method=c_initialize);    ## initialize method\n",
    "# Patient Sensitive detector\n",
    "mutable struct PatientData <: G4JLSDData\n",
    "    dose::Float64\n",
    "    PatientData() = new(0)\n",
    "end\n",
    "function p_initialize(::G4HCofThisEvent, data::PatientData)::Nothing\n",
    "    data.dose = 0\n",
    "    return\n",
    "end\n",
    "function p_processHits(step::G4Step, ::G4TouchableHistory, data::PatientData)::Bool\n",
    "    edep = step |> GetTotalEnergyDeposit\n",
    "    edep <=  0. && return false\n",
    "    volume  = step |> GetPreStepPoint |> GetTouchable |> GetSolid |> GetCubicVolume\n",
    "    density = step |> GetPreStepPoint |> GetMaterial |> GetDensity\n",
    "    data.dose += edep /(density * volume)\n",
    "    return true\n",
    "end\n",
    "# Create SD instance\n",
    "patientSD = G4JLSensitiveDetector(\"PatientSD\", PatientData();           ## SD name an associated data are mandatory\n",
    "                                   processhits_method=p_processHits,    ## process hist method (also mandatory)\n",
    "                                   initialize_method=p_initialize);     ## initialize method"
   ],
   "metadata": {},
   "execution_count": null
  },
  {
   "cell_type": "markdown",
   "source": [
    "## User Actions\n",
    "We define the user actions for the B3a example. The `beginrun` function is defined to initialize the\n",
    "simulation data. The `endrun` function is defined to print the results of the simulation. The `endevent`\n",
    "function is defined to count the number of good events and to accumulate the dose in the patient.\n",
    "The `stacking` action is defined to kill the neutrinos and to keep the primary particles."
   ],
   "metadata": {}
  },
  {
   "outputs": [],
   "cell_type": "code",
   "source": [
    "function beginrun(run::G4Run, app::G4JLApplication)::Nothing\n",
    "    data = getSIMdata(app)\n",
    "    data.goodEvents = 0\n",
    "    data.sumDose = 0.\n",
    "    nothing\n",
    "end\n",
    "μGy = Geant4.SystemOfUnits.gray/1e6\n",
    "\n",
    "function endrun(run::G4Run, app::G4JLApplication)::Nothing\n",
    "    partName = app.generator.data.gun |> GetParticleDefinition |> GetParticleName |> String\n",
    "    ##---end run action is called for each workwer thread and the master one\n",
    "    if G4Threading!G4GetThreadId() < 0\n",
    "        data = app.simdata[1]\n",
    "        ##---This is the master thread, so we need to add all the simuation results-----------------\n",
    "        for d in app.simdata[2:end]\n",
    "            add!(data, d)\n",
    "        end\n",
    "        noEvents = run |> GetNumberOfEvent\n",
    "        G4JL_println(\"\"\"\n",
    "                     --------------------End of Run------------------------------\n",
    "                      The run was $noEvents $partName Nb of 'good' e+ annihilations: $(data.goodEvents)\n",
    "                      Total dose in patient : $(data.sumDose/pGy) pGy\n",
    "                     ------------------------------------------------------------\n",
    "                     \"\"\")\n",
    "    end\n",
    "end\n",
    "\n",
    "function endevent(evt::G4Event, app::G4JLApplication)\n",
    "    edep = getSDdata(app, \"CrystalSD\").edep\n",
    "    dose = getSDdata(app, \"PatientSD\").dose\n",
    "    data = getSIMdata(app)\n",
    "    if count(>(500keV), values(edep)) == 2\n",
    "        data.goodEvents += 1\n",
    "    end\n",
    "    data.sumDose += dose\n",
    "    return\n",
    "end\n",
    "\n",
    "let G4NeutrinoE, first=true\n",
    "global function stacking(trk::G4Track, app::G4JLApplication)::G4ClassificationOfNewTrack\n",
    "    if first  ## emulation of C++ static variable\n",
    "        G4NeutrinoE = FindParticle(\"nu_e\")\n",
    "        first = false\n",
    "    end\n",
    "    (trk |> GetParentID) == 0 && return fUrgent               ## keep primary particle\n",
    "    (trk |> GetDefinition) == G4NeutrinoE && return fKill     ## kill neutrino\n",
    "    return fUrgent\n",
    "end\n",
    "end;"
   ],
   "metadata": {},
   "execution_count": null
  },
  {
   "cell_type": "markdown",
   "source": [
    "## Create the Application"
   ],
   "metadata": {}
  },
  {
   "outputs": [],
   "cell_type": "code",
   "source": [
    "app = G4JLApplication(; detector = B3Detector(),                      ## detector with parameters\n",
    "                        simdata = SimDataB3a(),                       ## simulation data structure\n",
    "                        generator = B3aGenerator(),                   ## primary particle generator\n",
    "                        nthreads = 0,                                 ## # of threads (0 = no MT)\n",
    "                        physics_type = B3aPhysics,                    ## what physics list to instantiate\n",
    "                        #evtdisplay =  display,                       ## set event display\n",
    "                        endeventaction_method = endevent,             ## end-event action (fill histograms per event)\n",
    "                        beginrunaction_method = beginrun,             ## begin run action\n",
    "                        endrunaction_method = endrun,                 ## end run action\n",
    "                        stackaction_method = stacking,                ## track classification action\n",
    "                        sdetectors = [\"CrystalLV+\" => crystalSD,\n",
    "                                      \"PatientLV\" => patientSD]       ## mapping of LVs to SDs (+ means multiple LVs with same name)\n",
    "                      );"
   ],
   "metadata": {},
   "execution_count": null
  },
  {
   "cell_type": "markdown",
   "source": [
    "## Configure, Initialize"
   ],
   "metadata": {}
  },
  {
   "outputs": [],
   "cell_type": "code",
   "source": [
    "configure(app)\n",
    "initialize(app)"
   ],
   "metadata": {},
   "execution_count": null
  },
  {
   "cell_type": "markdown",
   "source": [
    "## Run the simulation\n",
    "Lets run for 10,000 events and see the results."
   ],
   "metadata": {}
  },
  {
   "outputs": [],
   "cell_type": "code",
   "source": [
    "beamOn(app, 10000)\n",
    "\n",
    "# ui`/tracking/verbose 0`"
   ],
   "metadata": {},
   "execution_count": null
  },
  {
   "cell_type": "markdown",
   "source": [
    "## Visualize the detector geometry\n",
    "Load the needed modules for visualization"
   ],
   "metadata": {}
  },
  {
   "outputs": [],
   "cell_type": "code",
   "source": [
    "using CairoMakie, Rotations, LinearAlgebra, IGLWrap_jll  ## to force loading G4Vis extension\n",
    "import DisplayAs: PNG"
   ],
   "metadata": {},
   "execution_count": null
  },
  {
   "cell_type": "markdown",
   "source": [
    "Display the detector geometry"
   ],
   "metadata": {}
  },
  {
   "outputs": [],
   "cell_type": "code",
   "source": [
    "world = GetVolume(\"World\")\n",
    "img = draw(world[])\n",
    "PNG(img)"
   ],
   "metadata": {},
   "execution_count": null
  },
  {
   "cell_type": "markdown",
   "source": [
    "---\n",
    "\n",
    "*This notebook was generated using [Literate.jl](https://github.com/fredrikekre/Literate.jl).*"
   ],
   "metadata": {}
  }
 ],
 "nbformat_minor": 3,
 "metadata": {
  "language_info": {
   "file_extension": ".jl",
   "mimetype": "application/julia",
   "name": "julia",
   "version": "1.11.5"
  },
  "kernelspec": {
   "name": "julia-1.11",
   "display_name": "Julia 1.11.5",
   "language": "julia"
  }
 },
 "nbformat": 4
}
