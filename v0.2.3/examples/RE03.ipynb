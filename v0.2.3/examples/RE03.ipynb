{
 "cells": [
  {
   "cell_type": "markdown",
   "source": [
    "# Extended/RE03 Example\n",
    "This example demonstrates how to use UI-command base scoring.\n",
    "Its create parallel world(s) for defining scoring mesh(es)."
   ],
   "metadata": {}
  },
  {
   "cell_type": "markdown",
   "source": [
    "Due to some performance overhead, this functionality is not provided by default.\n",
    "To enable it, you need to set the parameter `scores` in `G4JLApplication` with a list of scorers"
   ],
   "metadata": {}
  },
  {
   "cell_type": "markdown",
   "source": [
    "The geometry consists of one water box in the world volume filled by air. Particle gun shoots a gamma\n",
    "into the water box. The physics list is taken from referenced physics-list `FTFP_BERT`` in Geant4."
   ],
   "metadata": {}
  },
  {
   "cell_type": "markdown",
   "source": [
    "## Loading the necessary Julia modules\n",
    "Load the `Geant4`, `Geant4.PhysicalConstants` and `Geant4.SystemOfUnits` modules. In addition we will use the `Parameters` module to handle the parameters of the detector.\n",
    "We will also use the `FHist` and `Plots` modules to handle the histograms and plots."
   ],
   "metadata": {}
  },
  {
   "outputs": [],
   "cell_type": "code",
   "source": [
    "using Geant4\n",
    "using Geant4.SystemOfUnits\n",
    "import DisplayAs: PNG"
   ],
   "metadata": {},
   "execution_count": null
  },
  {
   "cell_type": "markdown",
   "source": [
    "## Define Detector structure\n",
    "The RE03 detector is a simple box filled with air. The detector is defined by the `RE03Detector` structure.\n",
    "We include the RE03Detector.jl file not to clutter the example."
   ],
   "metadata": {}
  },
  {
   "outputs": [],
   "cell_type": "code",
   "source": [
    "include(joinpath(@__DIR__, \"RE03Detector.jl\"))"
   ],
   "metadata": {},
   "execution_count": null
  },
  {
   "cell_type": "markdown",
   "source": [
    "## Particle Gun initialization"
   ],
   "metadata": {}
  },
  {
   "outputs": [],
   "cell_type": "code",
   "source": [
    "particlegun = G4JLGunGenerator(particle = \"e-\",\n",
    "                               energy = 1GeV,\n",
    "                               direction = G4ThreeVector(0,0,1),\n",
    "                               position = G4ThreeVector(0,0,-1.01m))"
   ],
   "metadata": {},
   "execution_count": null
  },
  {
   "cell_type": "markdown",
   "source": [
    "## Scoring Setup\n",
    "In this example, we define a scoring mesh that will score the energy deposit and the number of\n",
    "steps of gamma, e- and e+ particles. We do not use the UI interface to define the scoring mesh, instead\n",
    "we define it in the Julia code by instantiating a `G4JLScoringMesh` object."
   ],
   "metadata": {}
  },
  {
   "outputs": [],
   "cell_type": "code",
   "source": [
    "sc1 = G4JLScoringMesh(\"boxMesh_1\",\n",
    "                      BoxMesh(1m,1m,1m),\n",
    "                      bins = (30, 30, 30),\n",
    "                      quantities = [ energyDeposit(\"eDep\")\n",
    "                                     nOfStep(\"nOfStepGamma\", filters=[ParticleFilter(\"gammafilter\", \"gamma\")])\n",
    "                                     nOfStep(\"nOfStepEMinus\", filters=[ParticleFilter(\"eMinusFilter\", \"e-\")])\n",
    "                                     nOfStep(\"nOfStepEPlus\", filters=[ParticleFilter(\"ePlusFilter\", \"e+\")])\n",
    "                                   ]\n",
    "                      );"
   ],
   "metadata": {},
   "execution_count": null
  },
  {
   "cell_type": "markdown",
   "source": [
    "## Create the Application"
   ],
   "metadata": {}
  },
  {
   "outputs": [],
   "cell_type": "code",
   "source": [
    "app = G4JLApplication(;detector = RE03Detector(),                    ## detector with parameters\n",
    "                       generator = particlegun,                      ## primary particle generator\n",
    "                       nthreads = 4,                                 ## number of threads (MT)\n",
    "                       physics_type = FTFP_BERT,                     ## what physics list to instantiate\n",
    "                       scorers = [sc1]                               ## list of scorers\n",
    "                      );"
   ],
   "metadata": {},
   "execution_count": null
  },
  {
   "cell_type": "markdown",
   "source": [
    "## Configure, Initialize and Run"
   ],
   "metadata": {}
  },
  {
   "outputs": [],
   "cell_type": "code",
   "source": [
    "configure(app)\n",
    "initialize(app)\n",
    "beamOn(app, 0)"
   ],
   "metadata": {},
   "execution_count": null
  },
  {
   "cell_type": "markdown",
   "source": [
    "## Do a run and get the scoring results"
   ],
   "metadata": {}
  },
  {
   "outputs": [],
   "cell_type": "code",
   "source": [
    "beamOn(app,1000)\n",
    "println(\"done with run!!!\")"
   ],
   "metadata": {},
   "execution_count": null
  },
  {
   "cell_type": "markdown",
   "source": [
    "## Access the scoring results\n",
    "This is done by accessing the `eDep` field of the `G4JLScoringMesh` object `sc1`, or by accessing\n",
    "the fields `nOfStepGamma`, `nOfStepEMinus` or `nOfStepEPlus`. Each of each of these fields\n",
    "returns a tuple with the scoring results (mean, mean², N) organized in a 3-dimensional matrix with the\n",
    "defined number of bins."
   ],
   "metadata": {}
  },
  {
   "outputs": [],
   "cell_type": "code",
   "source": [
    "t, t2, n = sc1.eDep"
   ],
   "metadata": {},
   "execution_count": null
  },
  {
   "cell_type": "markdown",
   "source": [
    "Lets see the dimensions of the scoring results"
   ],
   "metadata": {}
  },
  {
   "outputs": [],
   "cell_type": "code",
   "source": [
    "println(\"Dimensions of the scoring results: $(Base.size(t))\")"
   ],
   "metadata": {},
   "execution_count": null
  },
  {
   "cell_type": "markdown",
   "source": [
    "Print the total energy deposit"
   ],
   "metadata": {}
  },
  {
   "outputs": [],
   "cell_type": "code",
   "source": [
    "println(\"Total EDep = $(sum(t))\")\n",
    "println(\"Central EDep = $(sum(t[10:20,10:20,:]))\")"
   ],
   "metadata": {},
   "execution_count": null
  },
  {
   "cell_type": "markdown",
   "source": [
    "## Plot the scoring results\n",
    "We will use the `CairoMakie` package to plot the scoring results. We will plot the energy deposit in the\n",
    "center of the scoring mesh."
   ],
   "metadata": {}
  },
  {
   "outputs": [],
   "cell_type": "code",
   "source": [
    "using CairoMakie\n",
    "img = heatmap(t[1:30,15,1:30])\n",
    "PNG(img)"
   ],
   "metadata": {},
   "execution_count": null
  },
  {
   "cell_type": "markdown",
   "source": [
    "---\n",
    "\n",
    "*This notebook was generated using [Literate.jl](https://github.com/fredrikekre/Literate.jl).*"
   ],
   "metadata": {}
  }
 ],
 "nbformat_minor": 3,
 "metadata": {
  "language_info": {
   "file_extension": ".jl",
   "mimetype": "application/julia",
   "name": "julia",
   "version": "1.11.6"
  },
  "kernelspec": {
   "name": "julia-1.11",
   "display_name": "Julia 1.11.6",
   "language": "julia"
  }
 },
 "nbformat": 4
}
