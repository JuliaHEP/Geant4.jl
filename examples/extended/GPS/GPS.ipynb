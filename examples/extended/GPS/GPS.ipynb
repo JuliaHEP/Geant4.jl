{
 "cells": [
  {
   "cell_type": "markdown",
   "metadata": {},
   "source": [
    "# Testing G4GeneralParticleSource\n",
    "\n",
    "See the [G4GeneralParticleSource documentation](https://geant4-userdoc.web.cern.ch/UsersGuides/ForApplicationDeveloper/html/GettingStarted/generalParticleSource.html) for the definition of parameters.\n"
   ]
  },
  {
   "cell_type": "code",
   "execution_count": null,
   "metadata": {},
   "outputs": [],
   "source": [
    "using Parameters\n",
    "using Geant4\n",
    "using Geant4.PhysicalConstants\n",
    "using Geant4.SystemOfUnits\n",
    "using Geant4.SystemOfUnits: deg\n",
    "using FHist\n",
    "using Plots\n",
    "#---Choose the Makie backend\n",
    "#using GLMakie\n",
    "#using WGLMakie\n",
    "using CairoMakie\n",
    "using GeometryBasics, Rotations, IGLWrap_jll  # to force loding G4Vis extension"
   ]
  },
  {
   "cell_type": "markdown",
   "metadata": {},
   "source": [
    "## Detector definition and drawing"
   ]
  },
  {
   "cell_type": "code",
   "execution_count": null,
   "metadata": {},
   "outputs": [],
   "source": [
    "# Define the detector\n",
    "include(joinpath(@__DIR__, \"DetectorGPS.jl\"))\n",
    "\n",
    "# Draw the detector\n",
    "det = GPSDetector()\n",
    "world = construct(det)\n",
    "img = draw(world[])\n",
    "display(\"image/png\", img)"
   ]
  },
  {
   "cell_type": "markdown",
   "metadata": {},
   "source": [
    "## Simulation data\n",
    "The simulation data `GPSSimData` struct is a set of histograms that will be filled in the user tracking action and can be visualised with the function `do_plot()`. It is using the macro `@with_kw` from the `Parameters.jl` package to construct an instance with all the defaults."
   ]
  },
  {
   "cell_type": "code",
   "execution_count": null,
   "metadata": {},
   "outputs": [],
   "source": [
    "const nbins = 50\n",
    "@with_kw mutable struct GPSSimData <: G4JLSimulationData\n",
    "    hKEne     = H1D(\"Energy Spectrum\", nbins, 0., 15., :MeV)\n",
    "    hRad      = H1D(\"Radial ditribution\", nbins, 0., 10., :cm)\n",
    "    hAngcosθ  = H1D(\"Angular ditribution cosθ\", nbins, -1., 1.)\n",
    "    hAngϕ     = H1D(\"Angular distribution ϕ\", nbins, 0.,360., :deg)\n",
    "    hXYpos    = H2D(\"Source X-Y distribution\", nbins, -10., 10., nbins, -10., 10., (:cm, :cm))\n",
    "    hZXpos    = H2D(\"Source Z-X distribution\", nbins, -10., 10., nbins, -10., 10., (:cm, :cm))\n",
    "    hYZpos    = H2D(\"Source Y-Z distribution\", nbins, -10., 10., nbins, -10., 10., (:cm, :cm))\n",
    "    hcosθϕ    = H2D(\"Angular cos(θ)-ϕ distribution\", nbins, -1., 1., nbins, 0., 360., (:nounit, :deg))\n",
    "    hθϕ       = H2D(\"Angular θ-ϕ distribution\", nbins, 0., 180., nbins, 0., 360., (:deg, :deg))\n",
    "end\n",
    "#---merge and empty functions----------------------------------------------------------------------\n",
    "function Base.merge!(x::D, y::D) where D <: G4JLSimulationData\n",
    "    for f in fieldnames(D)\n",
    "        merge!(getfield(x,f), getfield(y,f))\n",
    "    end\n",
    "end\n",
    "function Base.empty!(x::D) where D <: G4JLSimulationData\n",
    "    for f in fieldnames(D)\n",
    "        empty!(getfield(x,f))\n",
    "    end\n",
    "end\n",
    "#---plot function----------------------------------------------------------------------------------\n",
    "function do_plot(data::GPSSimData)\n",
    "    img = Plots.plot(layout=(3,3), show=true, size=(1400,1000))\n",
    "    for (i,fn) in enumerate(fieldnames(GPSSimData))\n",
    "        h = getfield(data, fn)\n",
    "        Plots.plot!(subplot=i, h.hist, title=h.title, show=true, cgrad=:plasma)\n",
    "    end\n",
    "    return img\n",
    "end"
   ]
  },
  {
   "cell_type": "markdown",
   "metadata": {},
   "source": [
    "## User Actions\n",
    "The begin and end run action is used to initialise and sum (merge) the simulation data. The tracking action is used to fill the histograms."
   ]
  },
  {
   "cell_type": "code",
   "execution_count": null,
   "metadata": {},
   "outputs": [],
   "source": [
    "#---Run Actions------------------------------------------------------------------------------------\n",
    "function beginrun(::G4Run, app::G4JLApplication)::Nothing\n",
    "    data = getSIMdata(app)\n",
    "    empty!(data) \n",
    "    nothing\n",
    "end\n",
    "function endrun(::G4Run, app::G4JLApplication)::Nothing\n",
    "    #---end run action is called for each workwer thread and the master one\n",
    "    if G4Threading!G4GetThreadId() == -1   \n",
    "        data = app.simdata[1]\n",
    "        #---This is the master thread, so we need to add all the simuation results-----------------\n",
    "        for d in app.simdata[2:end]\n",
    "            merge!(data, d)\n",
    "        end\n",
    "    end\n",
    "end\n",
    "#---Tracking Actions-----------------------------------------------------------------------------\n",
    "function pretrackaction(track::G4Track, app::G4JLApplication)::Nothing\n",
    "    data = getSIMdata(app)\n",
    "    ekin = track |> GetKineticEnergy\n",
    "    vertex = track |> GetPosition\n",
    "    direction = track |> GetMomentumDirection\n",
    "    weight = track |> GetWeight\n",
    "\n",
    "    x = vertex |> getX\n",
    "    y = vertex |> getY\n",
    "    z = vertex |> getZ\n",
    "    θ = direction |> getTheta\n",
    "    ϕ = direction |> getPhi\n",
    "    ϕ < 0 &&  (ϕ += 2π)\n",
    "    r = vertex |> mag\n",
    "    dr = binedges(data.hRad.hist).step |> Float64\n",
    "    dv = 4π * r^2 * dr\n",
    "\n",
    "    # fill histograms\n",
    "    push!(data.hKEne, ekin)\n",
    "    push!(data.hRad, r, 1.0/dv)\n",
    "    push!(data.hAngcosθ, cos(θ))\n",
    "    push!(data.hAngϕ, ϕ)\n",
    "    push!(data.hXYpos, x, y)\n",
    "    push!(data.hZXpos, z, x)\n",
    "    push!(data.hYZpos, y, z)\n",
    "    push!(data.hcosθϕ, cos(θ), ϕ)\n",
    "    push!(data.hθϕ, θ, ϕ)\n",
    "    nothing\n",
    "end"
   ]
  },
  {
   "cell_type": "markdown",
   "metadata": {},
   "source": [
    "## Particle Generator\n",
    "We create a `G4JLGeneralParticleSource` particle generator. The initial run will be equivalent to the `G4JLParticleGun` with the same parameters."
   ]
  },
  {
   "cell_type": "code",
   "execution_count": null,
   "metadata": {},
   "outputs": [],
   "source": [
    "#---Particle Gun initialization--------------------------------------------------------------------\n",
    "gps = G4JLGeneralParticleSource(particle = \"geantino\", \n",
    "                                energy = 10MeV, \n",
    "                                direction = G4ThreeVector(1,0,0), \n",
    "                                position = G4ThreeVector(1,2,1))"
   ]
  },
  {
   "cell_type": "markdown",
   "metadata": {},
   "source": [
    "## Application definition, configuration and initialization"
   ]
  },
  {
   "cell_type": "code",
   "execution_count": null,
   "metadata": {},
   "outputs": [],
   "source": [
    "#---Create the Application-------------------------------------------------------------------------\n",
    "app = G4JLApplication(detector = GPSDetector(),                   # detector with parameters\n",
    "                      simdata = GPSSimData(),                     # simulation data structure\n",
    "                      generator = gps,                            # primary particle generator \n",
    "                      nthreads = VERSION > v\"1.9\" ? 4 : 0,        # number of threads (MT)\n",
    "                      physics_type = FTFP_BERT,                   # what physics list to instantiate\n",
    "                      #----Actions--------------------------------\n",
    "                      pretrackaction_method = pretrackaction,     # pre-tracking action\n",
    "                      beginrunaction_method = beginrun,           # begin-run action (initialize counters and histograms)\n",
    "                      endrunaction_method = endrun,               # end-run action (print summary)               \n",
    "                      );\n",
    "configure(app)\n",
    "initialize(app)"
   ]
  },
  {
   "cell_type": "markdown",
   "metadata": {},
   "source": [
    "## Tests\n",
    "Taken from `examples\\extended\\eventgenerator\\exgps\\macros`\n",
    "### Initial Particle Gun"
   ]
  },
  {
   "cell_type": "code",
   "execution_count": null,
   "metadata": {},
   "outputs": [],
   "source": [
    "beamOn(app, 1000)\n",
    "img = do_plot(app.simdata[1])\n",
    "display(\"image/png\", img)"
   ]
  },
  {
   "cell_type": "markdown",
   "metadata": {},
   "source": [
    "### Test01\n",
    "```text\n",
    "/gps/particle proton\n",
    "/gps/pos/type Point\n",
    "/gps/pos/centre 1. 2. 1. cm\n",
    "/gps/ang/type iso\n",
    "/gps/energy 2. MeV\n",
    "```"
   ]
  },
  {
   "cell_type": "code",
   "execution_count": null,
   "metadata": {},
   "outputs": [],
   "source": [
    "reinitialize(app.generator;  particle=\"geantino\",\n",
    "                             energy=2MeV,\n",
    "                             pos=(type=\"Point\", centre=G4ThreeVector(1cm,2cm,1cm)),\n",
    "                             ang=(type=\"iso\"))\n",
    "beamOn(app, 1000)\n",
    "img = do_plot(app.simdata[1])\n",
    "display(\"image/png\", img)"
   ]
  },
  {
   "cell_type": "markdown",
   "metadata": {},
   "source": [
    "### Test02\n",
    "```text\n",
    "# square plane source\n",
    "/gps/pos/type Plane\n",
    "/gps/pos/shape Square\n",
    "/gps/pos/centre 1. 2. 1. cm\n",
    "/gps/pos/halfx 2. cm\n",
    "/gps/pos/halfy 2. cm\n",
    "\n",
    "#cosine-law distribution\n",
    "/gps/ang/type cos\n",
    "\n",
    "# linear energy distr.\n",
    "/gps/ene/type Lin\n",
    "/gps/ene/min 2. MeV\n",
    "/gps/ene/max 10. MeV\n",
    "/gps/ene/gradient 1.\n",
    "/gps/ene/intercept 1.\n",
    "```"
   ]
  },
  {
   "cell_type": "code",
   "execution_count": null,
   "metadata": {},
   "outputs": [],
   "source": [
    "reinitialize(app.generator;  particle=\"geantino\",\n",
    "                             ene=(type=\"Lin\", min=2MeV, max=10MeV, gradient=1, intercept=1),\n",
    "                             pos=(type=\"Plane\", shape=\"Square\", centre=G4ThreeVector(1cm,2cm,1cm), halfx=2cm, halfy=2cm),\n",
    "                             ang=(type=\"cos\",mintheta=10deg, maxtheta=80deg))\n",
    "beamOn(app, 10000)\n",
    "img = do_plot(app.simdata[1])\n",
    "display(\"image/png\", img)"
   ]
  },
  {
   "cell_type": "markdown",
   "metadata": {},
   "source": [
    "### Test03\n",
    "```text\n",
    "#rectangle plane source\n",
    "/gps/pos/type Plane\n",
    "/gps/pos/shape Rectangle\n",
    "/gps/pos/centre 0. 2. 1. cm\n",
    "/gps/pos/halfx 1. cm\n",
    "/gps/pos/halfy 3. cm\n",
    "\n",
    "# isotropic angular distri.\n",
    "/gps/ang/type iso\n",
    "\n",
    "# power-law energy distr.\n",
    "/gps/ene/type Pow\n",
    "/gps/ene/min 2. MeV\n",
    "/gps/ene/max 10. MeV\n",
    "/gps/ene/alpha -2.\n",
    "```"
   ]
  },
  {
   "cell_type": "code",
   "execution_count": null,
   "metadata": {},
   "outputs": [],
   "source": [
    "reinitialize(app.generator;  particle=\"geantino\",\n",
    "                             ene=(type=\"Pow\", min=2MeV, max=10MeV, alpha=-2),\n",
    "                             pos=(type=\"Plane\", shape=\"Rectangle\", centre=G4ThreeVector(1cm,2cm,1cm), halfx=1cm, halfy=3cm),\n",
    "                             ang=(type=\"iso\", mintheta=0deg, maxtheta=180deg))\n",
    "beamOn(app, 10000)\n",
    "img = do_plot(app.simdata[1])\n",
    "display(\"image/png\", img)"
   ]
  },
  {
   "cell_type": "markdown",
   "metadata": {},
   "source": [
    "### Test04 and Test05 Together\n",
    "- source 1\n",
    "```text\n",
    "    #circular plane source\n",
    "    /gps/pos/type Plane\n",
    "    /gps/pos/shape Circle\n",
    "    /gps/pos/centre 2. 1. 0. cm\n",
    "    /gps/pos/radius 3. cm\n",
    "\n",
    "    # cosine-law \n",
    "    /gps/ang/type cos\n",
    "\n",
    "    # exponential energy distri.\n",
    "    /gps/ene/type Exp\n",
    "    /gps/ene/min 2. MeV\n",
    "    /gps/ene/max 10. MeV\n",
    "    /gps/ene/ezero 2.\n",
    "```\n",
    "- source 2\n",
    "```text\n",
    "    # ellipse plane source\n",
    "    /gps/pos/type Plane\n",
    "    /gps/pos/shape Ellipse\n",
    "    /gps/pos/centre 3. 1. 0. cm\n",
    "    /gps/pos/halfx 1. cm\n",
    "    /gps/pos/halfy 2. cm\n",
    "\n",
    "    #isotropic angular distribution\n",
    "    /gps/ang/type iso\n",
    "\n",
    "    # brems energy distr.\n",
    "    /gps/ene/type Brem\n",
    "    /gps/ene/min 2. MeV\n",
    "    /gps/ene/max 10. MeV\n",
    "    /gps/ene/temp 2e12\n",
    "```"
   ]
  },
  {
   "cell_type": "code",
   "execution_count": null,
   "metadata": {},
   "outputs": [],
   "source": [
    "reinitialize(app.generator;  sources = [(particle=\"geantino\", intensity=0.5,\n",
    "                                           ene=(type=\"Exp\", min=2MeV, max=10MeV, ezero=2.),\n",
    "                                           pos=(type=\"Plane\", shape=\"Circle\", centre=G4ThreeVector(1cm,2cm,0cm), radius=3cm),\n",
    "                                           ang=(type=\"cos\", mintheta=0deg, maxtheta=180deg)),\n",
    "                                         (particle=\"geantino\", intensity=0.5,\n",
    "                                           ene=(type=\"Brem\", min=2MeV, max=10MeV, temp=2e12),\n",
    "                                           pos=(type=\"Plane\", shape=\"Ellipse\", centre=G4ThreeVector(3cm,1cm,0cm), halfx=1cm, halfy=2cm),\n",
    "                                           ang=(type=\"iso\", mintheta=0deg, maxtheta=180deg))])\n",
    "beamOn(app, 100000)\n",
    "img = do_plot(app.simdata[1])\n",
    "display(\"image/png\", img)"
   ]
  }
 ],
 "metadata": {
  "kernelspec": {
   "display_name": "Julia 1.10.0",
   "language": "julia",
   "name": "julia-1.10"
  },
  "language_info": {
   "file_extension": ".jl",
   "mimetype": "application/julia",
   "name": "julia",
   "version": "1.10.0"
  }
 },
 "nbformat": 4,
 "nbformat_minor": 2
}
