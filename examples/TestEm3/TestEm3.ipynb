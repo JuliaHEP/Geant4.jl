{
 "cells": [
  {
   "attachments": {},
   "cell_type": "markdown",
   "metadata": {},
   "source": [
    "# TestEM3 Example"
   ]
  },
  {
   "cell_type": "code",
   "execution_count": null,
   "metadata": {},
   "outputs": [],
   "source": [
    "using Geant4\n",
    "using Geant4.SystemOfUnits\n",
    "using FHist, Printf, Plots"
   ]
  },
  {
   "cell_type": "code",
   "execution_count": null,
   "metadata": {},
   "outputs": [],
   "source": [
    "#---Define Detector Parameters struct--------------------------------------------------------------\n",
    "include(joinpath(@__DIR__, \"DetectorTestEm3.jl\"))"
   ]
  },
  {
   "cell_type": "code",
   "execution_count": null,
   "metadata": {},
   "outputs": [],
   "source": [
    "#---Define Simulation Data struct------------------------------------------------------------------\n",
    "# In this example we share the same data structiure for all worker threads, so we need to protect \n",
    "# with a lock\n",
    "mutable struct TestEm3SimData <: G4JLSimulationData\n",
    "    #---Run data-----------------------------------------------------------------------------------\n",
    "    fParticle::CxxPtr{G4ParticleDefinition}\n",
    "    fEkin::Float64\n",
    "    \n",
    "    fChargedStep::Int32\n",
    "    fNeutralStep::Int32\n",
    "\n",
    "    fN_gamma::Int32\n",
    "    fN_elec::Int32\n",
    "    fN_pos::Int32\n",
    "\n",
    "    fEnergyDeposit::Vector{Float64}     # Energy deposit per event\n",
    "    fTrackLengthCh::Vector{Float64}     # Track length per event\n",
    "\n",
    "    fEdepEventHistos::Vector{Hist1D}\n",
    "    fTrackLengthChHistos::Vector{Hist1D}\n",
    "    fEdepHistos::Vector{Hist1D}\n",
    "    fAbsorLabel::Vector{String}\n",
    "\n",
    "    TestEm3SimData() = new()\n",
    "end\n",
    "#---add function-----------------------------------------------------------------------------------\n",
    "function add!(x::TestEm3SimData, y::TestEm3SimData)\n",
    "    x.fChargedStep += y.fChargedStep\n",
    "    x.fNeutralStep += y.fNeutralStep\n",
    "    x.fN_gamma += y.fN_gamma\n",
    "    x.fN_elec += y.fN_elec\n",
    "    x.fN_pos += y.fN_pos\n",
    "    x.fEdepEventHistos += y.fEdepEventHistos\n",
    "    x.fTrackLengthChHistos += y.fTrackLengthChHistos\n",
    "    x.fEdepHistos += y.fEdepHistos\n",
    "end"
   ]
  },
  {
   "cell_type": "code",
   "execution_count": null,
   "metadata": {},
   "outputs": [],
   "source": [
    "#---Plot the Sumulation data-----------------------------------------------------------------------\n",
    "function do_plot(data::TestEm3SimData)\n",
    "    (;fEdepHistos, fEdepEventHistos, fTrackLengthChHistos, fAbsorLabel) = data\n",
    "    lay = @layout [°; ° °]\n",
    "    p = plot(layout=lay, show=true, size=(1000,800))\n",
    "    for (h, l) in zip(fEdepHistos, fAbsorLabel)\n",
    "        plot!(subplot=1, h, title=\"Energy Deposition\", xlabel=\"layer #\", label=l, show=true)\n",
    "    end\n",
    "    for (h, l) in zip(fEdepEventHistos, fAbsorLabel)\n",
    "        plot!(subplot=2, h, title=\"Energy/event Distribution\", label=l, xlabel=\"MeV\")\n",
    "    end\n",
    "    for (h, l) in zip(fTrackLengthChHistos, fAbsorLabel)\n",
    "        plot!(subplot=3, h, title=\"Track Lengh Distribution\", label=l, xlabel=\"mm\")\n",
    "    end\n",
    "    display(\"image/png\", p)\n",
    "end"
   ]
  },
  {
   "cell_type": "code",
   "execution_count": null,
   "metadata": {},
   "outputs": [],
   "source": [
    "#---Particle Gun initialization--------------------------------------------------------------------\n",
    "particlegun = G4JLGunGenerator(particle = \"e-\", \n",
    "                               energy = 1GeV, \n",
    "                               direction = G4ThreeVector(1,0,0), \n",
    "                               position = G4ThreeVector(0,0,0))  # temporary potition, will update once the detector is constructed\n"
   ]
  },
  {
   "cell_type": "code",
   "execution_count": null,
   "metadata": {},
   "outputs": [],
   "source": [
    "#--------------------------------------------------------------------------------------------------\n",
    "#----Actions---------------------------------------------------------------------------------------\n",
    "#--------------------------------------------------------------------------------------------------\n",
    "#---Step action------------------------------------------------------------------------------------\n",
    "function stepaction(step::G4Step, app::G4JLApplication)::Nothing\n",
    "    data = getSIMdata(app)\n",
    "    detector = app.detector\n",
    "    prepoint = GetPreStepPoint(step)\n",
    "    endPoint = GetPostStepPoint(step)\n",
    "    track = GetTrack(step)\n",
    " \n",
    "    # Return if step in not in the world volume\n",
    "    prepoint |> GetPhysicalVolume |> GetLogicalVolume |> GetMaterial == detector.fWorldMaterial && return nothing\n",
    " \n",
    "    particle = GetDefinition(track)\n",
    "    charge  = GetPDGCharge(particle)\n",
    "    stepl = 0.\n",
    "    if charge != 0.\n",
    "        stepl = GetStepLength(step)\n",
    "        data.fChargedStep += 1\n",
    "    else\n",
    "        data.fNeutralStep += 1\n",
    "    end\n",
    "    edep = GetTotalEnergyDeposit(step) * GetWeight(track)\n",
    "    absorNum  = GetCopyNumber(GetTouchable(prepoint), 0)\n",
    "    layerNum  = GetCopyNumber(GetTouchable(prepoint), 1) + 1  # replicas copynumber starts at 0\n",
    "\n",
    "    data.fEnergyDeposit[absorNum] += edep\n",
    "    data.fTrackLengthCh[absorNum] += stepl \t\n",
    "\n",
    "    push!(data.fEdepHistos[absorNum], layerNum, edep)\n",
    "    nothing\n",
    "end\n",
    "\n",
    "#---Tracking pre-action----------------------------------------------------------------------------\n",
    "let G4Gamma, G4Electron, G4Positron, first=true\n",
    "global function pretrackaction(track::G4Track, app::G4JLApplication)::Nothing\n",
    "    if first\n",
    "        G4Gamma    = FindParticle(\"gamma\")\n",
    "        G4Electron = FindParticle(\"e-\")\n",
    "        G4Positron = FindParticle(\"e+\")\n",
    "        first = false\n",
    "    end\n",
    "    data = getSIMdata(app)\n",
    "    d = GetDefinition(track)\n",
    "    if d === G4Gamma \n",
    "        data.fN_gamma += 1\n",
    "    elseif d === G4Electron\n",
    "        data.fN_elec +=1\n",
    "    elseif d === G4Positron\n",
    "        data.fN_pos += 1\n",
    "    end\n",
    "    nothing\n",
    "end\n",
    "end\n",
    "#---Tracking post-action---------------------------------------------------------------------------\n",
    "function posttrackaction(track::G4Track, ::G4JLApplication)::Nothing\n",
    "  return\n",
    "end\n",
    "#---Begin Run Action-------------------------------------------------------------------------------\n",
    "function beginrun(run::G4Run, app::G4JLApplication)::Nothing\n",
    "    data = getSIMdata(app)\n",
    "    (; fNbOfAbsor, fNbOfLayers, fAbsorMaterial, fAbsorThickness) = app.detector\n",
    "    gun = app.generator.data.gun\n",
    "    data.fParticle = GetParticleDefinition(gun)\n",
    "    data.fEkin = GetParticleEnergy(gun)\n",
    "    data.fN_gamma = data.fN_elec = data.fN_pos = 0\n",
    "    data.fChargedStep = data.fNeutralStep = 0\n",
    "    # init arrays\n",
    "    data.fEnergyDeposit = zeros(fNbOfAbsor)\n",
    "    data.fTrackLengthCh = zeros(fNbOfAbsor)\n",
    "    data.fEdepHistos = [Hist1D(Float64; bins=0.:1.0:fNbOfLayers) for i in 1:fNbOfAbsor]\n",
    "    data.fEdepEventHistos = [Hist1D(;bins=0:10:1000) for i in 1:fNbOfAbsor]\n",
    "    data.fTrackLengthChHistos = [Hist1D(;bins=0:20:2000) for i in 1:fNbOfAbsor]\n",
    "    data.fAbsorLabel = [\"$(fAbsorThickness[i])mm of $(fAbsorMaterial[i] |> GetName |> String)\" for i in 1:fNbOfAbsor]\n",
    "    return\n",
    "end\n",
    "#---End Run Action---------------------------------------------------------------------------------\n",
    "function endrun(run::G4Run, app::G4JLApplication)::Nothing\n",
    "    #---end run action is called for each workwer thread and the master onc\n",
    "    if G4Threading!G4GetThreadId() == -1   \n",
    "        data = app.simdata[1]\n",
    "        #---This is the master thread, so we need to add all the simuation results-----------------\n",
    "        for d in app.simdata[2:end]\n",
    "            add!(data, d)\n",
    "        end\n",
    "        nEvt = GetNumberOfEvent(run)\n",
    "        norm = nEvt > 0 ? 1/nEvt : 1.\n",
    "\n",
    "        @printf \"------------------------------------------------------------\\n\"\n",
    "        @printf \" Beam particle %s E = %.2f GeV\\n\" String(GetParticleName(data.fParticle)) data.fEkin/GeV \n",
    "        @printf \" Mean number of gamma          %.2f\\n\" data.fN_gamma*norm \n",
    "        @printf \" Mean number of e-             %.2f\\n\" data.fN_elec*norm \n",
    "        @printf \" Mean number of e+             %.2f\\n\" data.fN_pos*norm \n",
    "        @printf \" Mean number of charged steps  %f\\n\"   data.fChargedStep*norm \n",
    "        @printf \" Mean number of neutral steps  %f\\n\"   data.fNeutralStep*norm \n",
    "        @printf \"------------------------------------------------------------\\n\"\n",
    "    else\n",
    "        G4JL_println(\"end-run  for worker $(G4Threading!G4GetThreadId())\") \n",
    "    end\n",
    "end\n",
    "#---Begin Event Action-----------------------------------------------------------------------------\n",
    "function beginevent(evt::G4Event, app::G4JLApplication)\n",
    "    data = getSIMdata(app)\n",
    "    fill!(data.fEnergyDeposit, 0.0)\n",
    "    fill!(data.fTrackLengthCh, 0.0)\n",
    "    return\n",
    "end\n",
    "#---End Event Action-------------------------------------------------------------------------------\n",
    "function endevent(evt::G4Event, app::G4JLApplication)\n",
    "    data = getSIMdata(app)\n",
    "    (; fNbOfAbsor, fNbOfLayers) = app.detector\n",
    "    for i in 1:fNbOfAbsor\n",
    "        push!(data.fEdepEventHistos[i], data.fEnergyDeposit[i])\n",
    "        push!(data.fTrackLengthChHistos[i], data.fTrackLengthCh[i])\n",
    "    end\n",
    "    return\n",
    "end\n"
   ]
  },
  {
   "cell_type": "code",
   "execution_count": null,
   "metadata": {},
   "outputs": [],
   "source": [
    "#---Create the Application-------------------------------------------------------------------------\n",
    "app = G4JLApplication(detector = TestEm3Detector(),               # detector with parameters\n",
    "                      simdata = TestEm3SimData(),                 # simulation data structure\n",
    "                      generator = particlegun,                    # primary particle generator\n",
    "                      nthreads = 8,                               # number of threads (MT)\n",
    "                      physics_type = FTFP_BERT,                   # what physics list to instantiate\n",
    "                      #----Actions--------------------------------\n",
    "                      stepaction_method = stepaction,             # step action method\n",
    "                      pretrackaction_method = pretrackaction,     # pre-tracking action\n",
    "                      posttrackaction_method = posttrackaction,   # post-tracking action\n",
    "                      beginrunaction_method = beginrun,           # begin-run action (initialize counters and histograms)\n",
    "                      endrunaction_method = endrun,               # end-run action (print summary)               \n",
    "                      begineventaction_method = beginevent,       # begin-event action (initialize per-event data)\n",
    "                      endeventaction_method = endevent            # end-event action (fill histogram per event data)\n",
    "                      );\n",
    "              \n",
    "\n",
    "#ui\"/tracking/verbose 1\""
   ]
  },
  {
   "cell_type": "code",
   "execution_count": null,
   "metadata": {},
   "outputs": [],
   "source": [
    "#---Configure, Initialize and Run------------------------------------------------------------------                      \n",
    "configure(app)\n",
    "initialize(app)\n",
    "SetParticlePosition(particlegun, G4ThreeVector(-app.detector.fWorldSizeX/2,0,0))  # Only now is known the size of the 'world'"
   ]
  },
  {
   "attachments": {},
   "cell_type": "markdown",
   "metadata": {},
   "source": [
    "### Start the initial run"
   ]
  },
  {
   "cell_type": "code",
   "execution_count": null,
   "metadata": {},
   "outputs": [],
   "source": [
    "beamOn(app, 1000)\n",
    "do_plot(app.simdata[1])"
   ]
  },
  {
   "attachments": {},
   "cell_type": "markdown",
   "metadata": {},
   "source": [
    "### Change the particle gun energy"
   ]
  },
  {
   "cell_type": "code",
   "execution_count": null,
   "metadata": {},
   "outputs": [],
   "source": [
    "SetParticleEnergy(particlegun, 100MeV)\n",
    "beamOn(app, 100)\n",
    "do_plot(app.simdata[1])"
   ]
  },
  {
   "attachments": {},
   "cell_type": "markdown",
   "metadata": {},
   "source": [
    "### Change the geometry and re-start the run"
   ]
  },
  {
   "cell_type": "code",
   "execution_count": null,
   "metadata": {},
   "outputs": [],
   "source": [
    "reinitialize(app, TestEm3Detector(absorThickness = [2.3mm, 5.7mm, 1mm],\n",
    "                                  absorMaterial = [\"G4_Pb\", \"G4_lAr\", \"G4_Al\"]))\n",
    "beamOn(app, 100)\n",
    "do_plot(app.simdata[1])"
   ]
  },
  {
   "cell_type": "code",
   "execution_count": null,
   "metadata": {},
   "outputs": [],
   "source": [
    "@time beamOn(app, 10000)"
   ]
  },
  {
   "attachments": {},
   "cell_type": "markdown",
   "metadata": {},
   "source": [
    "### Change the definition of the action and re-start"
   ]
  },
  {
   "cell_type": "code",
   "execution_count": null,
   "metadata": {},
   "outputs": [],
   "source": [
    "function posttrackaction(track::G4Track, ::G4JLApplication)::Nothing\n",
    "    G4JL_println(\"Track ID: $(GetTrackID(track)) ended\")\n",
    "end\n",
    "beamOn(app, 3)"
   ]
  },
  {
   "cell_type": "code",
   "execution_count": null,
   "metadata": {},
   "outputs": [],
   "source": []
  }
 ],
 "metadata": {
  "kernelspec": {
   "display_name": "Julia 1.10.0",
   "language": "julia",
   "name": "julia-1.10"
  },
  "language_info": {
   "file_extension": ".jl",
   "mimetype": "application/julia",
   "name": "julia",
   "version": "1.10.0"
  }
 },
 "nbformat": 4,
 "nbformat_minor": 2
}
