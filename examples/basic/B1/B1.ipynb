{
 "cells": [
  {
   "attachments": {},
   "cell_type": "markdown",
   "metadata": {},
   "source": [
    "# Basic/B1 Example\n",
    "Import the `Geant4` and `Geant4.SystemOfUnits` modules"
   ]
  },
  {
   "cell_type": "code",
   "execution_count": null,
   "metadata": {},
   "outputs": [],
   "source": [
    "using Geant4\n",
    "using Geant4.SystemOfUnits"
   ]
  },
  {
   "attachments": {},
   "cell_type": "markdown",
   "metadata": {},
   "source": [
    "### Define the function that will construct the detector geometry.\n",
    "The setup consists of a an envelope of box shape containing two volumes: a spherical cone and a trapezoid.\n",
    "\n",
    "In this example we use  some common materials materials for medical applications. The envelope is made of water and the two inner volumes\n",
    "are made from tissue and bone materials.\n",
    "The materials are created with the help of the G4NistManager class,\n",
    "which allows to build a material from the NIST database using their\n",
    "names. All available materials can be found in the Geant4 User's Guide\n",
    "for Application Developers, Appendix 10: Geant4 Materials Database."
   ]
  },
  {
   "cell_type": "code",
   "execution_count": null,
   "metadata": {},
   "outputs": [],
   "source": [
    "include(\"DetectorB1.jl\")\n",
    "\n",
    "detdesc = G4JLDetectorConstruction(constructB1Detector)\n",
    "physics = QBBC()\n",
    "#SetVerboseLevel(physics, 1)"
   ]
  },
  {
   "attachments": {},
   "cell_type": "markdown",
   "metadata": {},
   "source": [
    "### User Actions"
   ]
  },
  {
   "cell_type": "code",
   "execution_count": null,
   "metadata": {},
   "outputs": [],
   "source": [
    "# User Actions\n",
    "function buildApp(self::G4JLActionInitialization, ::Nothing)\n",
    "    # Create particle gun\n",
    "    particle_gun = G4JLParticleGun()  \n",
    "    # Setup particle gun\n",
    "    pg = GetGun(particle_gun)\n",
    "    SetParticleByName(pg, \"e-\")\n",
    "    SetParticleEnergy(pg, 100MeV)\n",
    "    SetParticleMomentumDirection(pg, G4ThreeVector(0,0,1))\n",
    "    SetParticlePosition(pg, G4ThreeVector(0,0,-16cm))\n",
    "    # Register and relinquish ownership\n",
    "    SetUserAction(self, move!(particle_gun))\n",
    "  end\n",
    "  app = G4JLActionInitialization(buildApp)"
   ]
  },
  {
   "attachments": {},
   "cell_type": "markdown",
   "metadata": {},
   "source": [
    "### Instantiate RunManager and initialize"
   ]
  },
  {
   "cell_type": "code",
   "execution_count": null,
   "metadata": {},
   "outputs": [],
   "source": [
    "# Construct the default run manager and set initializers\n",
    "runManager = G4RunManager()\n",
    "\n",
    "# Register User initialization objects and relinquish ownership\n",
    "SetUserInitialization(runManager, move!(detdesc))\n",
    "SetUserInitialization(runManager, move!(physics))\n",
    "SetUserInitialization(runManager, move!(app))\n",
    "\n",
    "# Get the pointer to the User Interface manager\n",
    "UImanager = G4UImanager!GetUIpointer();"
   ]
  },
  {
   "attachments": {},
   "cell_type": "markdown",
   "metadata": {},
   "source": [
    "### Execute the commands to initialize and run few events"
   ]
  },
  {
   "cell_type": "code",
   "execution_count": null,
   "metadata": {},
   "outputs": [],
   "source": [
    "# Initialize kernel\n",
    "ApplyCommand(UImanager, \"/run/initialize\")\n",
    "\n",
    "# Change verbosity\n",
    "#ApplyCommand(UImanager, \"/control/verbose 2\")\n",
    "#ApplyCommand(UImanager, \"/run/verbose 2\")\n",
    "#ApplyCommand(UImanager, \"/event/verbose 0\")\n",
    "ApplyCommand(UImanager, \"/tracking/verbose 1\")\n",
    "\n",
    "# gamma 6 MeV to the direction (0.,0.,1.)\n",
    "ApplyCommand(UImanager, \"/gun/particle gamma\")\n",
    "ApplyCommand(UImanager, \"/gun/energy 6 MeV\")\n",
    "\n",
    "# go\n",
    "ApplyCommand(UImanager, \"/run/beamOn 1\")"
   ]
  },
  {
   "cell_type": "code",
   "execution_count": null,
   "metadata": {},
   "outputs": [],
   "source": [
    "ApplyCommand(UImanager, \"/gun/particle e+\")\n",
    "ApplyCommand(UImanager, \"/gun/energy 60 MeV\")\n",
    "ApplyCommand(UImanager, \"/run/beamOn 1\")"
   ]
  }
 ],
 "metadata": {
  "kernelspec": {
   "display_name": "Julia 1.10.0",
   "language": "julia",
   "name": "julia-1.10"
  },
  "language_info": {
   "file_extension": ".jl",
   "mimetype": "application/julia",
   "name": "julia",
   "version": "1.10.0"
  }
 },
 "nbformat": 4,
 "nbformat_minor": 2
}
