{
 "cells": [
  {
   "attachments": {},
   "cell_type": "markdown",
   "metadata": {},
   "source": [
    "# Basic/B2a Example\n",
    "It is equivalent to the B2a example in Geant4 but re-written with a new more Julia friendly interface. The core of the example is to create an instance of the type `G4JLApplication` with all the essential elements defined (detector and geometry, physics list, primary particles generator, actions, simulated data being accumulated, etc.) \n",
    "\n",
    "#### Import the `Geant4` and `Geant4.SystemOfUnits` modules"
   ]
  },
  {
   "cell_type": "code",
   "execution_count": 1,
   "metadata": {},
   "outputs": [],
   "source": [
    "using Geant4\n",
    "using Geant4.SystemOfUnits"
   ]
  },
  {
   "attachments": {},
   "cell_type": "markdown",
   "metadata": {},
   "source": [
    "#### Define the Detector Parameters and Geometry\n",
    "We include a file to define de structure `B2aDetector` and the construction method `B2aConstruct` to make the notebook more manageable"
   ]
  },
  {
   "cell_type": "code",
   "execution_count": 2,
   "metadata": {},
   "outputs": [],
   "source": [
    "include(joinpath(@__DIR__, \"DetectorB2a.jl\"))"
   ]
  },
  {
   "attachments": {},
   "cell_type": "markdown",
   "metadata": {},
   "source": [
    "#### Define the rest of the application\n",
    "This includes:\n",
    "- Simulation data structure `B2SimData` that will be filled with the actions\n",
    "- Initialize particle gun\n",
    "- Define stepping and tracking actions in this example that do storage the step positions"
   ]
  },
  {
   "cell_type": "code",
   "execution_count": 3,
   "metadata": {},
   "outputs": [
    {
     "data": {
      "text/plain": [
       "posttrackaction (generic function with 1 method)"
      ]
     },
     "metadata": {},
     "output_type": "display_data"
    }
   ],
   "source": [
    "#---Define Simulation Data struct------------------------------------------------------------------\n",
    "using GeometryBasics\n",
    "mutable struct B2aSimData <: G4JLSimulationData\n",
    "  tracks::Vector{Vector{Point3{Float64}}}   # vector of vector of step positions\n",
    "  B2aSimData() = new([])\n",
    "end\n",
    "\n",
    "#---Particle Gun initialization--------------------------------------------------------------------\n",
    "function gun_initialize(gen::G4JLParticleGun, det::G4JLDetector)\n",
    "  pg = GetGun(gen)\n",
    "  SetParticleByName(pg, \"proton\")\n",
    "  SetParticleEnergy(pg, 3GeV)\n",
    "  SetParticleMomentumDirection(pg, G4ThreeVector(0,0,1))\n",
    "  SetParticlePosition(pg, G4ThreeVector(0,0,-16cm))\n",
    "  SetParticlePosition(pg, G4ThreeVector(0, 0, -det.worldZHalfLength))\n",
    "end\n",
    "Geant4.getInitializer(::G4JLParticleGun) = gun_initialize\n",
    "\n",
    "#---Step action------------------------------------------------------------------------------------\n",
    "function stepaction(step::G4Step, app::G4JLApplication)::Nothing\n",
    "  tracks = app.simdata.tracks\n",
    "  p = GetPosition(GetPostStepPoint(step))\n",
    "  push!(tracks[end], Point3{Float64}(x(p),y(p),z(p)))\n",
    "  nothing\n",
    "end\n",
    "#---Tracking pre-action---------------------------------------------------------------------------- \n",
    "function pretrackaction(track::G4Track, app::G4JLApplication)::Nothing\n",
    "  tracks = app.simdata.tracks\n",
    "  p = GetPosition(track)[]\n",
    "  push!(tracks, [Point3{Float64}(x(p),y(p),z(p))])\n",
    "  nothing\n",
    "end\n",
    "#---Tracking post-action---------------------------------------------------------------------------\n",
    "function posttrackaction(track::G4Track, ::G4JLApplication)::Nothing\n",
    "  println(\"Finished track ID $(GetTrackID(track))\")\n",
    "  nothing\n",
    "end"
   ]
  },
  {
   "attachments": {},
   "cell_type": "markdown",
   "metadata": {},
   "source": [
    "#### Instantiate a `G4JLApplication` with all the elements\n",
    "The G4RunManager is created at this moment"
   ]
  },
  {
   "cell_type": "code",
   "execution_count": 4,
   "metadata": {},
   "outputs": [
    {
     "name": "stdout",
     "output_type": "stream",
     "text": [
      "\n",
      "**************************************************************\n",
      " Geant4 version Name: geant4-11-01-patch-01 [MT]   (10-February-2023)\n",
      "                       Copyright : Geant4 Collaboration\n",
      "                      References : NIM A 506 (2003), 250-303\n",
      "                                 : IEEE-TNS 53 (2006), 270-278\n",
      "                                 : NIM A 835 (2016), 186-225\n",
      "                             WWW : http://geant4.org/\n",
      "**************************************************************\n",
      "\n"
     ]
    },
    {
     "data": {
      "text/plain": [
       "G4JLApplication(Geant4.G4RunManagerAllocated(Ptr{Nothing} @0x00007fe59b0de600), B2aDetector(5, true, 800.0, 200.0, 50.0, 2940.0), B2aSimData(Vector{Point3{Float64}}[]), G4RunManager, G4JLDetectorConstruction, FTFP_BERT, G4JLParticleGun, G4JLTrackingAction, G4JLSteppingAction, stepaction, pretrackaction, posttrackaction)"
      ]
     },
     "metadata": {},
     "output_type": "display_data"
    }
   ],
   "source": [
    "#---Create the Application-------------------------------------------------------------------------\n",
    "app = G4JLApplication(B2aDetector(nChambers=5);                   # detector with parameters\n",
    "                      simdata = B2aSimData(),                     # simulation data structure\n",
    "                      runmanager_type = G4RunManager,             # what RunManager to instantiate\n",
    "                      physics_type = FTFP_BERT,                   # what physics list to instantiate\n",
    "                      generator_type = G4JLParticleGun,           # what primary generator to instantiate\n",
    "                      stepaction_method = stepaction,             # step action method\n",
    "                      pretrackaction_method = pretrackaction,     # pre-tracking action\n",
    "                      posttrackaction_method = posttrackaction)   # post-tracking action              "
   ]
  },
  {
   "attachments": {},
   "cell_type": "markdown",
   "metadata": {},
   "source": [
    "#### Finally,  configure the application, initialize the run and fire the beam for 1 event"
   ]
  },
  {
   "cell_type": "code",
   "execution_count": 5,
   "metadata": {},
   "outputs": [
    {
     "name": "stdout",
     "output_type": "stream",
     "text": [
      "<<< Geant4 Physics List simulation engine: FTFP_BERT\n",
      "\n"
     ]
    }
   ],
   "source": [
    "configure(app)"
   ]
  },
  {
   "cell_type": "code",
   "execution_count": 6,
   "metadata": {},
   "outputs": [
    {
     "name": "stdout",
     "output_type": "stream",
     "text": [
      "Checking overlaps for volume Target:0 (G4Tubs) ... OK! \n",
      "Checking overlaps for volume Tracker:0 (G4Tubs) ... OK! \n",
      "Checking overlaps for volume Chamber_PV:1 (G4Tubs) ... OK! \n",
      "Checking overlaps for volume Chamber_PV:2 (G4Tubs) ... OK! \n",
      "Checking overlaps for volume Chamber_PV:3 (G4Tubs) ... OK! \n",
      "Checking overlaps for volume Chamber_PV:4 (G4Tubs) ... OK! \n",
      "Checking overlaps for volume Chamber_PV:5 (G4Tubs) ... OK! \n",
      "\n",
      " hInelastic FTFP_BERT : threshold between BERT and FTFP is over the interval \n",
      " for pions :   3 to 6 GeV\n",
      " for kaons :   3 to 6 GeV\n",
      " for proton :  3 to 6 GeV\n",
      " for neutron : 3 to 6 GeV\n",
      "\n",
      "### Adding tracking cuts for neutron  TimeCut(ns)= 10000  KinEnergyCut(MeV)= 0\n"
     ]
    }
   ],
   "source": [
    "initialize(app)"
   ]
  },
  {
   "cell_type": "code",
   "execution_count": 14,
   "metadata": {},
   "outputs": [
    {
     "name": "stdout",
     "output_type": "stream",
     "text": [
      "Finished track ID 1\n",
      "Finished track ID 88\n",
      "Finished track ID 87\n",
      "Finished track ID 86\n",
      "Finished track ID 85\n",
      "Finished track ID 84\n",
      "Finished track ID 83\n",
      "Finished track ID 82\n",
      "Finished track ID 81\n",
      "Finished track ID 80\n",
      "Finished track ID 89\n",
      "Finished track ID 79\n",
      "Finished track ID 78\n",
      "Finished track ID 77\n",
      "Finished track ID 95\n",
      "Finished track ID 94\n",
      "Finished track ID 93\n",
      "Finished track ID 92\n",
      "Finished track ID 91\n",
      "Finished track ID 90\n",
      "Finished track ID 76\n",
      "Finished track ID 75\n",
      "Finished track ID 74\n",
      "Finished track ID 73\n",
      "Finished track ID 72\n",
      "Finished track ID 71\n",
      "Finished track ID 70\n",
      "Finished track ID 69\n",
      "Finished track ID 68\n",
      "Finished track ID 67\n",
      "Finished track ID 66\n",
      "Finished track ID 108\n",
      "Finished track ID 107\n",
      "Finished track ID 106\n",
      "Finished track ID 105\n",
      "Finished track ID 104\n",
      "Finished track ID 103\n",
      "Finished track ID 102\n",
      "Finished track ID 101\n",
      "Finished track ID 100\n",
      "Finished track ID 99\n",
      "Finished track ID 98\n",
      "Finished track ID 97\n",
      "Finished track ID 96\n",
      "Finished track ID 65\n",
      "Finished track ID 64\n",
      "Finished track ID 109\n",
      "Finished track ID 63\n",
      "Finished track ID 62\n",
      "Finished track ID 61\n",
      "Finished track ID 60\n",
      "Finished track ID 59\n",
      "Finished track ID 58\n",
      "Finished track ID 57\n",
      "Finished track ID 56\n",
      "Finished track ID 55\n",
      "Finished track ID 54\n",
      "Finished track ID 53\n",
      "Finished track ID 113\n",
      "Finished track ID 112\n",
      "Finished track ID 111\n",
      "Finished track ID 110\n",
      "Finished track ID 52\n",
      "Finished track ID 51\n",
      "Finished track ID 50\n",
      "Finished track ID 49\n",
      "Finished track ID 114\n",
      "Finished track ID 48\n",
      "Finished track ID 47\n",
      "Finished track ID 46\n",
      "Finished track ID 45\n",
      "Finished track ID 44\n",
      "Finished track ID 43\n",
      "Finished track ID 136\n",
      "Finished track ID 135\n",
      "Finished track ID 134\n",
      "Finished track ID 133\n",
      "Finished track ID 132\n",
      "Finished track ID 137\n",
      "Finished track ID 131\n",
      "Finished track ID 130\n",
      "Finished track ID 129\n",
      "Finished track ID 143\n",
      "Finished track ID 142\n",
      "Finished track ID 141\n",
      "Finished track ID 140\n",
      "Finished track ID 139\n",
      "Finished track ID 138\n",
      "Finished track ID 128\n",
      "Finished track ID 127\n",
      "Finished track ID 126\n",
      "Finished track ID 125\n",
      "Finished track ID 124\n",
      "Finished track ID 123\n",
      "Finished track ID 122\n",
      "Finished track ID 146\n",
      "Finished track ID 145\n",
      "Finished track ID 144\n",
      "Finished track ID 121\n",
      "Finished track ID 120\n",
      "Finished track ID 119\n",
      "Finished track ID 118\n",
      "Finished track ID 117\n",
      "Finished track ID 116\n",
      "Finished track ID 115\n",
      "Finished track ID 42\n",
      "Finished track ID 41\n",
      "Finished track ID 40\n",
      "Finished track ID 39\n",
      "Finished track ID 147\n",
      "Finished track ID 38\n",
      "Finished track ID 37\n",
      "Finished track ID 36\n",
      "Finished track ID 159\n",
      "Finished track ID 158\n",
      "Finished track ID 157\n",
      "Finished track ID 156\n",
      "Finished track ID 155\n",
      "Finished track ID 154\n",
      "Finished track ID 153\n",
      "Finished track ID 160\n",
      "Finished track ID 152\n",
      "Finished track ID 151\n",
      "Finished track ID 150\n",
      "Finished track ID 149\n",
      "Finished track ID 148\n",
      "Finished track ID 35\n",
      "Finished track ID 34\n",
      "Finished track ID 161\n",
      "Finished track ID 33\n",
      "Finished track ID 32\n",
      "Finished track ID 31\n",
      "Finished track ID 30\n",
      "Finished track ID 29\n",
      "Finished track ID 28\n",
      "Finished track ID 27\n",
      "Finished track ID 26\n",
      "Finished track ID 25\n",
      "Finished track ID 24\n",
      "Finished track ID 23\n",
      "Finished track ID 22\n",
      "Finished track ID 21\n",
      "Finished track ID 20\n",
      "Finished track ID 19\n",
      "Finished track ID 18\n",
      "Finished track ID 17\n",
      "Finished track ID 16\n",
      "Finished track ID 15\n",
      "Finished track ID 14\n",
      "Finished track ID 13\n",
      "Finished track ID 12\n",
      "Finished track ID 11\n",
      "Finished track ID 10\n",
      "Finished track ID 9\n",
      "Finished track ID 8\n",
      "Finished track ID 7\n",
      "Finished track ID 162\n",
      "Finished track ID 6\n",
      "Finished track ID 5\n",
      "Finished track ID 4\n",
      "Finished track ID 3\n",
      "Finished track ID 2\n"
     ]
    }
   ],
   "source": [
    "beamOn(app, 1)"
   ]
  },
  {
   "cell_type": "code",
   "execution_count": 12,
   "metadata": {},
   "outputs": [
    {
     "data": {
      "text/plain": [
       "120-element Vector{Float64}:\n",
       " 5880.180983049687\n",
       "    0.12571254311932245\n",
       "    0.025057132944776263\n",
       "    1.2201371924612012\n",
       "    0.07427318633565101\n",
       "    0.05928577327799816\n",
       "    0.03160502010038563\n",
       "    0.028775544916542946\n",
       "    0.028944462550383063\n",
       "    0.02565660995434016\n",
       "    ⋮\n",
       "    0.09854067748622153\n",
       "    0.23972400324081605\n",
       "    0.3009055520337624\n",
       "  630.7404198213954\n",
       "    0.08385862177138537\n",
       "    0.028139109111267428\n",
       "    0.023582705188809252\n",
       "    6.34418533156728\n",
       "    0.2713584258470664"
      ]
     },
     "metadata": {},
     "output_type": "display_data"
    }
   ],
   "source": [
    "using LinearAlgebra\n",
    "tracks = app.simdata.tracks\n",
    "lenghts = [ norm(t[end]-t[begin]) for t in tracks]"
   ]
  }
 ],
 "metadata": {
  "kernelspec": {
   "display_name": "Julia 1.8.5",
   "language": "julia",
   "name": "julia-1.8"
  },
  "language_info": {
   "file_extension": ".jl",
   "mimetype": "application/julia",
   "name": "julia",
   "version": "1.8.5"
  },
  "orig_nbformat": 4
 },
 "nbformat": 4,
 "nbformat_minor": 2
}
