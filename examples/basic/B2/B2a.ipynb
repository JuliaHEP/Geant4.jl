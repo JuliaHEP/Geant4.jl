{
 "cells": [
  {
   "cell_type": "markdown",
   "metadata": {},
   "source": [
    "# Basic/B2a Example\n",
    "It is equivalent to the B2a example in Geant4 but re-written with a new more Julia friendly interface. The core of the example is to create an instance of the type `G4JLApplication` with all the essential elements defined (detector and geometry, physics list, primary particles generator, actions, simulated data being accumulated, mapping of logical volumes to sensitive detectors, etc.) \n",
    "\n",
    "#### Import the `Geant4` and `Geant4.SystemOfUnits` modules"
   ]
  },
  {
   "cell_type": "code",
   "execution_count": null,
   "metadata": {},
   "outputs": [],
   "source": [
    "using Geant4\n",
    "using Geant4.SystemOfUnits\n",
    "using Printf, GeometryBasics"
   ]
  },
  {
   "cell_type": "markdown",
   "metadata": {},
   "source": [
    "#### Define the Detector Parameters and Geometry\n",
    "We include a file to define de structure `B2aDetector` and the construction method `B2aConstruct` to make the notebook more manageable"
   ]
  },
  {
   "cell_type": "code",
   "execution_count": null,
   "metadata": {},
   "outputs": [],
   "source": [
    "include(joinpath(@__DIR__, \"DetectorB2a.jl\"))"
   ]
  },
  {
   "cell_type": "markdown",
   "metadata": {},
   "source": [
    "#### Define TrackerHit structure"
   ]
  },
  {
   "cell_type": "code",
   "execution_count": null,
   "metadata": {},
   "outputs": [],
   "source": [
    "struct TrackerHit\n",
    "    trackID::Int32\n",
    "    chamberNb::Int32\n",
    "    edep::Float64\n",
    "    pos::Point3{Float64}\n",
    "end\n",
    "function Base.show(io::IO, hit::TrackerHit)\n",
    "    (;trackID, chamberNb, edep, pos) = hit\n",
    "    @printf(io, \"\\ntrackID: %3d chamberNb: %2d Edep: %.3f MeV Position: (%3f, %3f, %3f)\", trackID, chamberNb, edep/MeV, pos...) \n",
    "end"
   ]
  },
  {
   "cell_type": "markdown",
   "metadata": {},
   "source": [
    "#### Define Sensitive Detector for the chambers\n",
    "It implies to define a data structure where to accumulate the TrackerHits for each event, and the callback functions:\n",
    "- `intilialize` called at the beginning of each event\n",
    "- `endOfEvent` called at the end of the event\n",
    "- `processHit`  called for each hit (step ending in the associated logical volume) to be processed\n",
    "\n",
    "all of the callback functions get the declared data structure as first argument "
   ]
  },
  {
   "cell_type": "code",
   "execution_count": null,
   "metadata": {},
   "outputs": [],
   "source": [
    "#---SD collected data------------------------------------------------------------------------------\n",
    "struct B2aSDData <: G4JLSDData\n",
    "    trackerHits::Vector{TrackerHit}\n",
    "    B2aSDData() = new([])\n",
    "end\n",
    "#---Initialize method------------------------------------------------------------------------------\n",
    "function _initialize(::G4HCofThisEvent, data::B2aSDData)::Nothing\n",
    "    empty!(data.trackerHits)\n",
    "    return\n",
    "end\n",
    "#---End of Event method----------------------------------------------------------------------------\n",
    "function _endOfEvent(::G4HCofThisEvent, data::B2aSDData)::Nothing\n",
    "    return\n",
    "end\n",
    "#---Process Hit method-----------------------------------------------------------------------------\n",
    "function _processHits(step::G4Step, ::G4TouchableHistory, data::B2aSDData)::Bool\n",
    "    edep = step |> GetTotalEnergyDeposit\n",
    "    edep <  0. && return false\n",
    "    pos = step |> GetPostStepPoint |> GetPosition\n",
    "    push!(data.trackerHits, TrackerHit(step |> GetTrack |> GetTrackID,\n",
    "                                       step |> GetPreStepPoint |> GetTouchable |> GetCopyNumber,\n",
    "                                       edep,\n",
    "                                       Point3{Float64}(x(pos),y(pos),z(pos))))\n",
    "    return true\n",
    "end"
   ]
  },
  {
   "cell_type": "markdown",
   "metadata": {},
   "source": [
    "And create a specialized instance of `G4JLSensitiveDetector` "
   ]
  },
  {
   "cell_type": "code",
   "execution_count": null,
   "metadata": {},
   "outputs": [],
   "source": [
    "#---Create SD instance-----------------------------------------------------------------------------\n",
    "chamber_SD = G4JLSensitiveDetector(\"Chamber_SD\", B2aSDData();           # SD name an associated data are mandatory\n",
    "                                    processhits_method=_processHits,    # process hist method (also mandatory)\n",
    "                                    initialize_method=_initialize,      # intialize method\n",
    "                                    endofevent_method=_endOfEvent);     # end of event method\n"
   ]
  },
  {
   "cell_type": "markdown",
   "metadata": {},
   "source": [
    "#### Define an End Event Action\n",
    "This is collect all results each event. Only printing at this time. "
   ]
  },
  {
   "cell_type": "code",
   "execution_count": null,
   "metadata": {},
   "outputs": [],
   "source": [
    "#---End Event Action-------------------------------------------------------------------------------\n",
    "function endeventaction(evt::G4Event, app::G4JLApplication)\n",
    "    hits = getSDdata(app, \"Chamber_SD\").trackerHits\n",
    "    eventID = evt |> GetEventID\n",
    "    if eventID < 10 || eventID % 100 == 0\n",
    "      G4JL_println(\"Event: $eventID with $(length(hits)) hits stored in this event\")\n",
    "    end\n",
    "    return\n",
    "  end"
   ]
  },
  {
   "cell_type": "markdown",
   "metadata": {},
   "source": [
    "#### Define the primary particle generator (Particle Gun)"
   ]
  },
  {
   "cell_type": "code",
   "execution_count": null,
   "metadata": {},
   "outputs": [],
   "source": [
    "particlegun = G4JLGunGenerator(particle = \"proton\", \n",
    "                               energy = 3GeV, \n",
    "                               direction = G4ThreeVector(0,0,1), \n",
    "                               position = G4ThreeVector(0,0,-2940.0))"
   ]
  },
  {
   "cell_type": "markdown",
   "metadata": {},
   "source": [
    "#### Instantiate a `G4JLApplication` with all the elements\n",
    "The G4RunManager is created at this moment"
   ]
  },
  {
   "cell_type": "code",
   "execution_count": null,
   "metadata": {},
   "outputs": [],
   "source": [
    "#---Create the Application-------------------------------------------------------------------------\n",
    "app = G4JLApplication( detector = B2aDetector(nChambers=5),          # detector with parameters\n",
    "                       generator = particlegun,                      # primary particle generator\n",
    "                       nthreads = 4,                                 # number of threads (MT)\n",
    "                       physics_type = FTFP_BERT,                     # what physics list to instantiate\n",
    "                       endeventaction_method = endeventaction,       # end event action\n",
    "                       sdetectors = [\"Chamber_LV+\" => chamber_SD]    # mapping of LVs to SDs (+ means multiple LVs with same name)\n",
    "                      );             "
   ]
  },
  {
   "cell_type": "markdown",
   "metadata": {},
   "source": [
    "#### Final steps\n",
    "Configure the application, initialize the run and fire the beam for 0 events to finalize all initializations"
   ]
  },
  {
   "cell_type": "code",
   "execution_count": null,
   "metadata": {},
   "outputs": [],
   "source": [
    "configure(app)"
   ]
  },
  {
   "cell_type": "code",
   "execution_count": null,
   "metadata": {},
   "outputs": [],
   "source": [
    "initialize(app)"
   ]
  },
  {
   "cell_type": "code",
   "execution_count": null,
   "metadata": {},
   "outputs": [],
   "source": [
    "beamOn(app, 0)"
   ]
  },
  {
   "cell_type": "code",
   "execution_count": null,
   "metadata": {},
   "outputs": [],
   "source": [
    "#---Forcing the loading of G4Vis extension------------------------------------------\n",
    "using CairoMakie, Rotations, IGLWrap_jll  # to force loding G4Vis extension\n",
    "\n",
    "world = GetWorldVolume()\n",
    "draw(world)"
   ]
  },
  {
   "cell_type": "code",
   "execution_count": null,
   "metadata": {},
   "outputs": [],
   "source": [
    "beamOn(app,10)"
   ]
  },
  {
   "cell_type": "code",
   "execution_count": null,
   "metadata": {},
   "outputs": [],
   "source": [
    "@time beamOn(app,1000)"
   ]
  },
  {
   "cell_type": "code",
   "execution_count": null,
   "metadata": {},
   "outputs": [],
   "source": [
    "SetParticleEnergy(particlegun, 500MeV)"
   ]
  },
  {
   "cell_type": "code",
   "execution_count": null,
   "metadata": {},
   "outputs": [],
   "source": [
    "@time beamOn(app,10000)"
   ]
  }
 ],
 "metadata": {
  "@webio": {
   "lastCommId": null,
   "lastKernelId": null
  },
  "kernelspec": {
   "display_name": "Julia 1.10.0",
   "language": "julia",
   "name": "julia-1.10"
  },
  "language_info": {
   "file_extension": ".jl",
   "mimetype": "application/julia",
   "name": "julia",
   "version": "1.10.0"
  }
 },
 "nbformat": 4,
 "nbformat_minor": 2
}
