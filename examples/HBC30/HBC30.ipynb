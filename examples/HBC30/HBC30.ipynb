{
 "cells": [
  {
   "cell_type": "markdown",
   "metadata": {},
   "source": [
    "# CERN Liquid Hydrogen Bubble Chamber\n",
    "\n",
    "Example to simulate the CERN 30cm bubble chamber fill with liquid hydrogen and using a pion beam of 330 MeV from PS. The original device was like this:\n",
    "\n",
    "![](30_cm_bubble_chamber.jpg)\n"
   ]
  },
  {
   "cell_type": "code",
   "execution_count": null,
   "metadata": {},
   "outputs": [],
   "source": [
    "using Geant4\n",
    "using Geant4.SystemOfUnits\n",
    "using Printf, GeometryBasics\n",
    "using CairoMakie, Rotations, IGLWrap_jll  # to force loading G4Vis extension"
   ]
  },
  {
   "cell_type": "markdown",
   "metadata": {},
   "source": [
    "## Define the detector chamber "
   ]
  },
  {
   "cell_type": "code",
   "execution_count": null,
   "metadata": {},
   "outputs": [],
   "source": [
    "include(joinpath(@__DIR__, \"DetectorHBC30.jl\"))\n",
    "hbc30 = HBC30()"
   ]
  },
  {
   "cell_type": "markdown",
   "metadata": {},
   "source": [
    "## Define the simulation data\n",
    "The data structure `HBC30SimData` will be filled by the user actions at the correct moment during the simulation. We collect the points for each track at the step bounderies together with the initial kinetic energy and particle name and charge."
   ]
  },
  {
   "cell_type": "code",
   "execution_count": null,
   "metadata": {},
   "outputs": [],
   "source": [
    "#---Define Simulation Data struct------------------------------------------------------------------\n",
    "struct Track\n",
    "    particle::String\n",
    "    charge::Int\n",
    "    energy::Float64\n",
    "    points::Vector{Point3{Float64}}\n",
    "end\n",
    "mutable struct HBC30SimData <: G4JLSimulationData\n",
    "    #---Run data-----------------------------------------------------------------------------------\n",
    "    fParticle::String\n",
    "    fEkin::Float64\n",
    "    #---trigger/veto-------------------------------------------------------------------------------\n",
    "    veto::Bool\n",
    "    #---tracks-------------------------------------------------------------------------------------\n",
    "    tracks::Vector{Track}\n",
    "    HBC30SimData() = new(\"\", 0.0, false, [])\n",
    "end\n"
   ]
  },
  {
   "cell_type": "markdown",
   "metadata": {},
   "source": [
    "## Define the needed user actions\n",
    "- **beginrun** stores the particle type and initial kinetic energy of the generated primary particle\n",
    "- **beginevent** clear the trigger `veto` and the list of tracks for the current event\n",
    "- **pretrackaction** pushes a new `Track` with the particle name, charge, intial energy and initial point\n",
    "- **posttackactkion** is used exclusevily to set the `veto` if the initial particle exists the world without a sizeable interaction\n",
    "- **stepaction** pushes points to the latest `Track` in the track list\n"
   ]
  },
  {
   "cell_type": "code",
   "execution_count": null,
   "metadata": {},
   "outputs": [],
   "source": [
    "#---Step action------------------------------------------------------------------------------------\n",
    "function stepaction(step::G4Step, app::G4JLApplication)::Nothing\n",
    "    tracks = getSIMdata(app).tracks\n",
    "    p = GetPosition(GetPostStepPoint(step))\n",
    "    push!(tracks[end].points, Point3{Float64}(x(p),y(p),z(p)))\n",
    "    return\n",
    "end\n",
    "#---Tracking pre-action---------------------------------------------------------------------------- \n",
    "function pretrackaction(track::G4Track, app::G4JLApplication)::Nothing\n",
    "    tracks = getSIMdata(app).tracks\n",
    "    p = GetPosition(track)[]\n",
    "    particle = track |> GetParticleDefinition\n",
    "    name = particle |> GetParticleName |> String\n",
    "    charge = particle |> GetPDGCharge |> Int\n",
    "    energy = track |> GetKineticEnergy\n",
    "    push!(tracks, Track(name, charge, energy, [Point3{Float64}(x(p),y(p),z(p))]))\n",
    "    return\n",
    "end\n",
    "#---Tracking post-action---------------------------------------------------------------------------- \n",
    "function posttrackaction(track::G4Track, app::G4JLApplication)::Nothing\n",
    "    data = getSIMdata(app)\n",
    "    id = track |> GetTrackID\n",
    "    energy = track |> GetKineticEnergy\n",
    "    if id == 1 && energy > 0.95 * data.fEkin # primary particle did not losse any energy\n",
    "        data.veto = true\n",
    "    end\n",
    "    return\n",
    "end\n",
    "#---Begin-event-action---------------------------------------------------------------------------- \n",
    "function beginevent(::G4Event, app::G4JLApplication)::Nothing\n",
    "    data = getSIMdata(app)\n",
    "    data.veto = false\n",
    "    empty!(data.tracks)\n",
    "    return\n",
    "end\n",
    "#---Begin Run Action-------------------------------------------------------------------------------\n",
    "function beginrun(run::G4Run, app::G4JLApplication)::Nothing\n",
    "    data = getSIMdata(app)\n",
    "    gun = app.generator.data.gun\n",
    "    data.fParticle = gun |> GetParticleDefinition |> GetParticleName |> String\n",
    "    data.fEkin = gun |> GetParticleEnergy\n",
    "    return\n",
    "end"
   ]
  },
  {
   "cell_type": "markdown",
   "metadata": {},
   "source": [
    "## Define the primary particle generator, the magnetic filed and the application"
   ]
  },
  {
   "cell_type": "code",
   "execution_count": null,
   "metadata": {},
   "outputs": [],
   "source": [
    "import Geant4.SystemOfUnits:tesla\n",
    "#--------------------------------------------------------------------------------------------------\n",
    "#---Particle Gun initialization--------------------------------------------------------------------\n",
    "#--------------------------------------------------------------------------------------------------\n",
    "particlegun = G4JLGunGenerator(particle = \"pi+\", \n",
    "                               energy = 330MeV, \n",
    "                               direction = G4ThreeVector(0,-1,0), \n",
    "                               position = G4ThreeVector(0, hbc30.worldZHalfLength,0))\n",
    "\n",
    "#--------------------------------------------------------------------------------------------------\n",
    "#---Magnetic Field initialization------------------------------------------------------------------\n",
    "#--------------------------------------------------------------------------------------------------\n",
    "bfield = G4JLUniformMagField(G4ThreeVector(0,0, 1.5tesla))\n",
    "\n",
    "#--------------------------------------------------------------------------------------------------\n",
    "#---Create the Application-------------------------------------------------------------------------\n",
    "#--------------------------------------------------------------------------------------------------\n",
    "app = G4JLApplication(; detector = hbc30,                             # detector with parameters\n",
    "                        simdata = HBC30SimData(),                     # simulation data structure\n",
    "                        generator = particlegun,                      # primary particle generator\n",
    "                        field = bfield,                               # uniform magnetic field\n",
    "                        nthreads = 0,                                 # # of threads (0 = no MT)\n",
    "                        physics_type = FTFP_BERT,                     # what physics list to instantiate\n",
    "                        stepaction_method = stepaction,               # step action method\n",
    "                        begineventaction_method = beginevent,         # begin-event action (initialize per-event data)\n",
    "                        pretrackaction_method = pretrackaction,       # pre-tracking action\n",
    "                        posttrackaction_method = posttrackaction,     # post-tracking action\n",
    "                        beginrunaction_method = beginrun              # begin run action\n",
    "                      );"
   ]
  },
  {
   "cell_type": "markdown",
   "metadata": {},
   "source": [
    "## Draw and trigger functions"
   ]
  },
  {
   "cell_type": "code",
   "execution_count": null,
   "metadata": {},
   "outputs": [],
   "source": [
    "#---Draw functions---------------------------------------------------------------------------------\n",
    "function drawdetector!(s, app)\n",
    "    world = GetWorldVolume()\n",
    "    #fig = Figure(resolution=(1024,1024))\n",
    "    #s = LScene(fig[1,1])\n",
    "    Geant4.draw!(s, world)\n",
    "    #display(fig)\n",
    "    return s\n",
    "end\n",
    "function drawevent!(s, app)\n",
    "    data = app.simdata[1]\n",
    "    for t in data.tracks\n",
    "        style = abs(t.charge) > 0. ? :solid : :dot\n",
    "        lines!(s, t.points, linestyle=style)\n",
    "        if t.energy > data.fEkin/20\n",
    "            text!(s, t.points[end], text=t.particle)\n",
    "        end\n",
    "    end\n",
    "end\n",
    "\n",
    "#---Very simplistic trigger to get interesting events to plot--------------------------------------\n",
    "function nexttrigger(app)\n",
    "    data = app.simdata[1]\n",
    "    beamOn(app,1)\n",
    "    n = 1\n",
    "    while data.veto\n",
    "        beamOn(app,1)\n",
    "        n += 1\n",
    "    end\n",
    "    println(\"Got a trigger after $n generated particles\")\n",
    "end"
   ]
  },
  {
   "cell_type": "code",
   "execution_count": null,
   "metadata": {},
   "outputs": [],
   "source": [
    "#---Configure, Initialize and Run------------------------------------------------------------------                      \n",
    "configure(app)\n",
    "initialize(app)"
   ]
  },
  {
   "cell_type": "code",
   "execution_count": null,
   "metadata": {},
   "outputs": [],
   "source": [
    "fig = Figure(resolution=(1024,1024))\n",
    "s = LScene(fig[1,1])\n",
    "\n",
    "drawdetector!(s, app)\n",
    "nexttrigger(app)\n",
    "drawevent!(s, app)\n",
    "\n",
    "display(fig)"
   ]
  }
 ],
 "metadata": {
  "@webio": {
   "lastCommId": null,
   "lastKernelId": null
  },
  "kernelspec": {
   "display_name": "Julia 1.9.2",
   "language": "julia",
   "name": "julia-1.9"
  },
  "language_info": {
   "file_extension": ".jl",
   "mimetype": "application/julia",
   "name": "julia",
   "version": "1.9.2"
  }
 },
 "nbformat": 4,
 "nbformat_minor": 2
}
