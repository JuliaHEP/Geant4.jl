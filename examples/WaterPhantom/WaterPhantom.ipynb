{
 "cells": [
  {
   "attachments": {},
   "cell_type": "markdown",
   "metadata": {},
   "source": [
    "# Water Phantom Simulation with Scoring\n",
    "\n",
    "Example originated from the example in Geant4Py. It is using a very simple phantom model (a box of water) and exercises the scoring interface."
   ]
  },
  {
   "cell_type": "code",
   "execution_count": null,
   "metadata": {},
   "outputs": [],
   "source": [
    "using Geant4\n",
    "using Geant4.SystemOfUnits\n",
    "using Plots"
   ]
  },
  {
   "attachments": {},
   "cell_type": "markdown",
   "metadata": {},
   "source": [
    "## Detector description\n",
    "The main parameters are stored in the `RE03Detector` struct with some default values. "
   ]
  },
  {
   "cell_type": "code",
   "execution_count": null,
   "metadata": {},
   "outputs": [],
   "source": [
    "mutable struct RE03Detector <: G4JLDetector\n",
    "    const worldXY::Float64\n",
    "    const worldZ::Float64\n",
    "    const phantomXY::Float64\n",
    "    const phantomZ::Float64\n",
    "    RE03Detector(;worldXY=100cm, worldZ=300cm, phantomXY=30.5cm, phantomZ=30cm) = new(worldXY, worldZ, phantomXY, phantomZ)\n",
    "end\n",
    "\n",
    "function construct(det::RE03Detector)::CxxPtr{G4VPhysicalVolume}\n",
    "    #---Materials----------------------------------------------------------------------------------\n",
    "    nist = G4NistManager!Instance()\n",
    "    fAir = FindOrBuildMaterial(nist, \"G4_AIR\")\n",
    "    fWater = FindOrBuildMaterial(nist, \"G4_WATER\")\n",
    "\n",
    "    #---World--------------------------------------------------------------------------------------\n",
    "    worldSolid = G4Box(\"World\",det.worldXY/2, det.worldXY/2, det.worldZ/2)\n",
    "    worldLogical = G4LogicalVolume(worldSolid,fAir,\"World\")\n",
    "    worldPhys = G4PVPlacement(nothing, G4ThreeVector(), worldLogical, \"World\", nothing,false,0)\n",
    "    \n",
    "    #---Phantom------------------------------------------------------------------------------------\n",
    "    phantomSolid = G4Box(\"Phantom\", det.phantomXY/2, det.phantomXY/2, det.phantomZ/2)\n",
    "    phantomLogical = G4LogicalVolume(phantomSolid, fWater, \"Phantom\");\n",
    "    phantomPhys = G4PVPlacement(nothing, G4ThreeVector(), phantomLogical, \"Phantom\", worldLogical, false, 0)\n",
    "    \n",
    "    #---Visualization attributes-------------------------------------------------------------------\n",
    "    SetVisAttributes(worldLogical, G4VisAttributes!GetInvisible())\n",
    "    simpleBoxVisAtt = G4VisAttributes(G4Colour(1.0, 1.0, 1.0))\n",
    "    SetVisibility(simpleBoxVisAtt, true)\n",
    "    SetVisAttributes(phantomLogical, simpleBoxVisAtt)\n",
    "\n",
    "    return worldPhys\n",
    "end\n",
    "\n",
    "Geant4.getConstructor(::RE03Detector)::Function = construct"
   ]
  },
  {
   "attachments": {},
   "cell_type": "markdown",
   "metadata": {},
   "source": [
    "## Define the primary particle generator\n",
    "We define the `MedicalBeam` particle generator. This is similar to the particle gun but with direction of the particles randomly distributed within some aperture cone. It consists of\n",
    "- `MedicalBeamData` data structure with the parameters of the beam\n",
    "- An `init` function that will be called at initialization time.\n",
    "- An `generate` function hat is called at each event and create the primary particle and primary vertex.\n",
    "- A set of setter functions (`SetParticleByName`, `SetParticleEnergy`) to change parameters at run time\n",
    "\n",
    "The function to construct the generator is `MedicalBeam(...)`."
   ]
  },
  {
   "cell_type": "code",
   "execution_count": null,
   "metadata": {},
   "outputs": [],
   "source": [
    "mutable struct MedicalBeamData <: G4JLGeneratorData\n",
    "  particleName::String\n",
    "  particlePtr::CxxPtr{G4ParticleDefinition}\n",
    "  energy::Float64 \n",
    "  ssd::Float64\n",
    "  fieldXY::Float64\n",
    "  surfaceZ::Float64\n",
    "end\n",
    "\n",
    "function generateBeamDir(ssd::Float64, fxy::Float64)\n",
    "  dr = √2/2*fxy\n",
    "  R = √(ssd^2 + dr^2)\n",
    "  cos0 = ssd/R\n",
    "  xymax = fxy/ssd/2\n",
    "  dx = dy = dz = 0.\n",
    "  while true\n",
    "    dz = rand()*(1-cos0)+ cos0\n",
    "    dsin = √(1-dz^2)\n",
    "    dphi = rand()*2π\n",
    "    dx = dsin * cos(dphi)\n",
    "    dy = dsin * sin(dphi)\n",
    "    if abs(dx) < xymax*dz && abs(dy) < xymax*dz \n",
    "      break\n",
    "    end\n",
    "  end\n",
    "  G4ThreeVector(dx, dy, dz)\n",
    "end\n",
    "\n",
    "function MedicalBeam(;particle=\"e-\", energy=10MeV, ssd=100cm, fieldXY=10cm)\n",
    "  data = MedicalBeamData(particle, CxxPtr{G4ParticleDefinition}(C_NULL), energy, ssd, fieldXY, 0.)\n",
    "  function init(data::MedicalBeamData, app::G4JLApplication)\n",
    "    data.particlePtr = FindParticle(data.particleName)\n",
    "    data.surfaceZ = -app.detector.phantomZ/2\n",
    "  end\n",
    "  function generate( evt::G4Event, data::MedicalBeamData)::Nothing\n",
    "    mass = data.particlePtr |> GetPDGMass\n",
    "    momemtum = √((mass + data.energy)^2 - mass^2)\n",
    "    pvec = momemtum * generateBeamDir(data.ssd, data.fieldXY);\n",
    "    primary = G4PrimaryParticle(data.particlePtr, pvec |> x, pvec |> y, pvec |> z )\n",
    "    vertex = G4PrimaryVertex(G4ThreeVector(0, 0, data.surfaceZ - data.ssd), 0ns)\n",
    "    SetPrimary(vertex, move!(primary))    # note that we give up ownership of the objects just created\n",
    "    AddPrimaryVertex(evt, move!(vertex))  # note that we give up ownership of the objects just created\n",
    "  end\n",
    "  G4JLPrimaryGenerator(\"MedicalBeam\", data; init_method=init, generate_method=generate)\n",
    "end\n",
    "function SetParticleByName(gen::G4JLPrimaryGenerator{MedicalBeamData}, particle::String)\n",
    "  gen.data.particleName = particle\n",
    "  gen.data.particlePtr = FindParticle(particle)\n",
    "  return\n",
    "end\n",
    "function SetParticleEnergy(gen::G4JLPrimaryGenerator{MedicalBeamData}, energy::Float64) \n",
    "  gen.data.energy = energy\n",
    "  return\n",
    "end"
   ]
  },
  {
   "attachments": {},
   "cell_type": "markdown",
   "metadata": {},
   "source": [
    "## Setup the scoring with the the scoring interface\n",
    "Create a box shaped mesh and define the number of bins. The quantity to be monitor is `dose`. Later accessing the attribute `dose` on the scoring mesh will return a tuple with the sum of dose, sum square and number of entries for each mesh cell.  "
   ]
  },
  {
   "cell_type": "code",
   "execution_count": null,
   "metadata": {},
   "outputs": [],
   "source": [
    "sc1 = G4JLScoringMesh(\"boxMesh_1\",\n",
    "                      BoxMesh(15.25cm, 15.25cm, 15cm),\n",
    "                      bins = (61, 61, 150),\n",
    "                      quantities = [ doseDeposit(\"dose\") ]\n",
    "                      );"
   ]
  },
  {
   "attachments": {},
   "cell_type": "markdown",
   "metadata": {},
   "source": [
    "## Instantiate the Geant4 Application"
   ]
  },
  {
   "cell_type": "code",
   "execution_count": null,
   "metadata": {},
   "outputs": [],
   "source": [
    "app = G4JLApplication(;detector = RE03Detector(),                    # detector with parameters\n",
    "                       generator = MedicalBeam(),                    # promary partcile generator\n",
    "                       nthreads = 8,                                 # define the number of threads\n",
    "                       physics_type = FTFP_BERT,                     # what physics list to instantiate\n",
    "                       scorers = [sc1]                               # list of scorers \n",
    "                      );"
   ]
  },
  {
   "attachments": {},
   "cell_type": "markdown",
   "metadata": {},
   "source": [
    "## Configure, initiliaze and run"
   ]
  },
  {
   "cell_type": "code",
   "execution_count": null,
   "metadata": {},
   "outputs": [],
   "source": [
    "configure(app)\n",
    "initialize(app)\n",
    "beamOn(app, 0)"
   ]
  },
  {
   "attachments": {},
   "cell_type": "markdown",
   "metadata": {},
   "source": [
    "### Visualize the Detector Setup"
   ]
  },
  {
   "attachments": {},
   "cell_type": "markdown",
   "metadata": {},
   "source": [
    "## Define plotting functions"
   ]
  },
  {
   "cell_type": "code",
   "execution_count": null,
   "metadata": {},
   "outputs": [],
   "source": [
    "function do_plots(sc)\n",
    "      dose, dose2, nentry = sc.dose\n",
    "      xaxisvalues = range(0., sc.mesh.dx*2/cm, sc.bins[1])\n",
    "      zaxisvalues = range(0., sc.mesh.dz*2/cm, sc.bins[3])\n",
    "      cbin = round(Int, (sc.bins[1]+1)/2)\n",
    "      fig = plot( layout=(2,1), size=(800,800),\n",
    "                  heatmap(zaxisvalues, xaxisvalues, dose[cbin,:,:], title=\"Dose (XZ)\", color=:thermal, xlabel=\"Z (cm)\", ylabel=\"X (cm)\"), \n",
    "                  plot(zaxisvalues, dose[cbin,cbin,:], title=\"Depth Dose (center)\", xlabel=\"Z (cm)\", label=\"dose\")\n",
    "      )\n",
    "      display(\"image/png\", fig)\n",
    "end"
   ]
  },
  {
   "attachments": {},
   "cell_type": "markdown",
   "metadata": {},
   "source": [
    "## Electron 20 Mev"
   ]
  },
  {
   "cell_type": "code",
   "execution_count": null,
   "metadata": {},
   "outputs": [],
   "source": [
    "SetParticleByName(app.generator, \"e-\")\n",
    "SetParticleEnergy(app.generator, 20MeV)\n",
    "\n",
    "beamOn(app, 100000)\n",
    "do_plots(sc1)"
   ]
  },
  {
   "attachments": {},
   "cell_type": "markdown",
   "metadata": {},
   "source": [
    "## Proton 200 MeV"
   ]
  },
  {
   "cell_type": "code",
   "execution_count": null,
   "metadata": {},
   "outputs": [],
   "source": [
    "SetParticleByName(app.generator, \"proton\")\n",
    "SetParticleEnergy(app.generator, 200MeV)\n",
    "\n",
    "beamOn(app, 100000)\n",
    "do_plots(sc1)"
   ]
  },
  {
   "attachments": {},
   "cell_type": "markdown",
   "metadata": {},
   "source": [
    "## C<sub>12</sub> ion 3 GeV"
   ]
  },
  {
   "cell_type": "code",
   "execution_count": null,
   "metadata": {},
   "outputs": [],
   "source": [
    "SetParticleByName(app.generator, \"C12\")\n",
    "SetParticleEnergy(app.generator, 3GeV)\n",
    "\n",
    "beamOn(app, 100000)\n",
    "do_plots(sc1)"
   ]
  }
 ],
 "metadata": {
  "kernelspec": {
   "display_name": "Julia 1.10.0",
   "language": "julia",
   "name": "julia-1.10"
  },
  "language_info": {
   "file_extension": ".jl",
   "mimetype": "application/julia",
   "name": "julia",
   "version": "1.10.0"
  }
 },
 "nbformat": 4,
 "nbformat_minor": 2
}
